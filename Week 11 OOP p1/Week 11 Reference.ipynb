{
 "cells": [
  {
   "cell_type": "markdown",
   "metadata": {
    "slideshow": {
     "slide_type": "slide"
    }
   },
   "source": [
    "# Object-Oriented Programming (OOP)  in Python Part 1\n",
    "\n",
    "\n",
    "#### Mr. Kasey P. Martin, MIS\n"
   ]
  },
  {
   "cell_type": "markdown",
   "metadata": {
    "slideshow": {
     "slide_type": "slide"
    }
   },
   "source": [
    "## Outline:\n",
    "* OOP in Python\n",
    "    * Python Classes\n",
    "    * Object Instances\n"
   ]
  },
  {
   "cell_type": "markdown",
   "metadata": {
    "slideshow": {
     "slide_type": "slide"
    }
   },
   "source": [
    "## What is Object-Oriented Programming?\n",
    "* A programming paradigm that allows a means of structuring programs \n",
    "    * OOP models real-world entities as <i>objects</i> which have two characteristics\n",
    "        * attributes/data\n",
    "        * behavior/methods\n",
    "    * For instance, an object can represent a car\n",
    "        * A car can have make, model, color, etc. as its attributes\n",
    "        * A car can move forward, move in reverse, brake, etc. as its behavior"
   ]
  },
  {
   "cell_type": "markdown",
   "metadata": {
    "slideshow": {
     "slide_type": "slide"
    }
   },
   "source": [
    "<center><img src=\"img/oop.png\" width=\"600\" /></center>"
   ]
  },
  {
   "cell_type": "markdown",
   "metadata": {
    "slideshow": {
     "slide_type": "slide"
    }
   },
   "source": [
    "## Python Classes\n",
    "* Classes are used to create new user-defined data structures that contain arbitrary information about an object\n",
    "* It provides a blueprint for how an object should be defined"
   ]
  },
  {
   "cell_type": "markdown",
   "metadata": {
    "slideshow": {
     "slide_type": "slide"
    }
   },
   "source": [
    "## Object Instances\n",
    "\n",
    "* An instance is an implementation of the class with actual values\n",
    "* Before you can create individual instances of an object, specify first the blueprint of the object by defining a class"
   ]
  },
  {
   "cell_type": "markdown",
   "metadata": {
    "slideshow": {
     "slide_type": "slide"
    }
   },
   "source": [
    "<center><img src=\"img/oop1.png\" width=\"600\"></center>"
   ]
  },
  {
   "cell_type": "markdown",
   "metadata": {
    "slideshow": {
     "slide_type": "slide"
    }
   },
   "source": [
    "## Defining a Class\n",
    "* Use the `class` keyword to denote that you are creating a class\n",
    "\n",
    "``` python\n",
    "class Car: \n",
    "    pass # use this when your class is initially empty\n",
    "```\n",
    "    "
   ]
  },
  {
   "cell_type": "markdown",
   "metadata": {
    "slideshow": {
     "slide_type": "slide"
    }
   },
   "source": [
    "## Object Instantiation\n",
    "* Instantiating simply means creating a new, unique instance of a class"
   ]
  },
  {
   "cell_type": "code",
   "execution_count": 117,
   "metadata": {
    "slideshow": {
     "slide_type": "-"
    }
   },
   "outputs": [
    {
     "name": "stdout",
     "output_type": "stream",
     "text": [
      "<__main__.Car object at 0x1095b0dd8>\n",
      "<__main__.Car object at 0x1095b0da0>\n"
     ]
    }
   ],
   "source": [
    "class Car: \n",
    "    pass\n",
    "\n",
    "car1 = Car()\n",
    "car2 = Car()\n",
    "\n",
    "print(car1)\n",
    "print(car2)"
   ]
  },
  {
   "cell_type": "markdown",
   "metadata": {
    "slideshow": {
     "slide_type": "slide"
    }
   },
   "source": [
    "## Instance Attributes\n",
    "* Instance attributes are attributes local to class instances\n",
    "* Use the `__init__(self)` method to initialize an object’s starting attributes by giving them their default value\n",
    "    * this is run as soon as an object of a class is instantiated\n",
    "    * must have at least one argument which is the `self` variable\n",
    "        * `self` which refers to the object itself"
   ]
  },
  {
   "cell_type": "markdown",
   "metadata": {
    "slideshow": {
     "slide_type": "slide"
    }
   },
   "source": [
    "## Sample: Instance attributes for a `Car` class\n",
    "\n",
    "``` python\n",
    "\n",
    "class Car:\n",
    "    #Instance Attributes\n",
    "    def __init__(self, make, model):\n",
    "        self.make = make\n",
    "        self.model = model\n",
    "```"
   ]
  },
  {
   "cell_type": "code",
   "execution_count": 120,
   "metadata": {
    "slideshow": {
     "slide_type": "slide"
    }
   },
   "outputs": [
    {
     "name": "stdout",
     "output_type": "stream",
     "text": [
      "The make of my car is a Toyota, its model is Vios\n",
      "The make of my car is a Ford, its model is Camarro\n"
     ]
    }
   ],
   "source": [
    "class Car:\n",
    "    #Instance Attributes\n",
    "    def __init__(self, make, model):\n",
    "        self.make = make\n",
    "        self.model = model\n",
    "\n",
    "mycar = Car(\"Toyota\", \"Vios\") # the __init__ method is called here implicitly\n",
    "print(\"The make of my car is a \" + mycar.make \n",
    "      + \", its model is \" + mycar.model)\n",
    "dreamcar = Car(\"Ford\", \"Camarro\") # the __init__ m ethod is called here implicitly\n",
    "print(\"The make of my car is a \" + dreamcar.make \n",
    "      + \", its model is \" + dreamcar.model)\n"
   ]
  },
  {
   "cell_type": "markdown",
   "metadata": {
    "slideshow": {
     "slide_type": "slide"
    }
   },
   "source": [
    "## Class Attributes\n",
    "* Unlike instance attributes, class attributes are the same for all instances of a class\n",
    "* It is shared between all the objects of a class \n",
    "* Changing a class attribute value using its Class will change the attribute value for all instances\n",
    "    * Changing the class attribute value using the instance will set the attribute locally to the instance"
   ]
  },
  {
   "cell_type": "code",
   "execution_count": 121,
   "metadata": {
    "slideshow": {
     "slide_type": "slide"
    }
   },
   "outputs": [],
   "source": [
    "# Detour, let's create a trivial sample class\n",
    "class Sample:\n",
    "    class_var = \"test_val\""
   ]
  },
  {
   "cell_type": "code",
   "execution_count": 122,
   "metadata": {
    "slideshow": {
     "slide_type": "slide"
    }
   },
   "outputs": [
    {
     "name": "stdout",
     "output_type": "stream",
     "text": [
      "sample1: test_val\n",
      "sample2: test_val\n",
      "Change to 'new_val'\n",
      "sample1: new_val\n",
      "sample2: new_val\n"
     ]
    }
   ],
   "source": [
    "# Now, lets create two instances\n",
    "sample1 = Sample()\n",
    "sample2 = Sample()\n",
    "\n",
    "# printing original class attribute\n",
    "print(\"sample1:\",sample1.class_var)\n",
    "print(\"sample2:\",sample2.class_var)\n",
    "# change value in the class level\n",
    "print(\"Change to 'new_val'\")\n",
    "Sample.class_var = \"new_val\"\n",
    "# printing new class attribute\n",
    "print(\"sample1:\",sample1.class_var)\n",
    "print(\"sample2:\",sample2.class_var)"
   ]
  },
  {
   "cell_type": "code",
   "execution_count": 123,
   "metadata": {
    "slideshow": {
     "slide_type": "slide"
    }
   },
   "outputs": [
    {
     "name": "stdout",
     "output_type": "stream",
     "text": [
      "sample1: new_val\n",
      "sample2: trial_val\n",
      "Sample Class: new_val\n"
     ]
    }
   ],
   "source": [
    "# Let's try changing sample2's class_var\n",
    "sample2.class_var = \"trial_val\"\n",
    "\n",
    "# printing class attribute \n",
    "print(\"sample1:\",sample1.class_var)\n",
    "print(\"sample2:\",sample2.class_var)\n",
    "print(\"Sample Class:\",Sample.class_var)"
   ]
  },
  {
   "cell_type": "code",
   "execution_count": 124,
   "metadata": {
    "slideshow": {
     "slide_type": "slide"
    }
   },
   "outputs": [
    {
     "name": "stdout",
     "output_type": "stream",
     "text": [
      "sample1: final_val\n",
      "sample2: trial_val\n",
      "Sample Class: final_val\n"
     ]
    }
   ],
   "source": [
    "# Finally, let's try changing the class attribute class wide again\n",
    "Sample.class_var = \"final_val\"\n",
    "\n",
    "# printing class attribute \n",
    "print(\"sample1:\",sample1.class_var)\n",
    "# sample2 has its own class_var as an instance attribute now, not a class attribute\n",
    "print(\"sample2:\",sample2.class_var)\n",
    "print(\"Sample Class:\",Sample.class_var)"
   ]
  },
  {
   "cell_type": "markdown",
   "metadata": {
    "slideshow": {
     "slide_type": "slide"
    }
   },
   "source": [
    "## Representation before changing sample2's class_var attribute\n",
    "\n",
    "\n",
    "<center><img src=\"img/diag1.png\" width=\"500\"></center>"
   ]
  },
  {
   "cell_type": "markdown",
   "metadata": {
    "slideshow": {
     "slide_type": "slide"
    }
   },
   "source": [
    "## Representation after changing sample2's class_var attribute\n",
    "\n",
    "\n",
    "<center><img src=\"img/diag2.png\" width=\"500\"></center>"
   ]
  },
  {
   "cell_type": "markdown",
   "metadata": {
    "slideshow": {
     "slide_type": "slide"
    }
   },
   "source": [
    "## Sample: Class attributes for a `Car` class\n",
    "\n",
    "``` python\n",
    "class Car:\n",
    "    #Class Attribute\n",
    "    classification = \"vehicle\"\n",
    "    \n",
    "    #Instance Attributes\n",
    "    def __init__(self, make, model):\n",
    "        self.make = make\n",
    "        self.model = model\n",
    "```"
   ]
  },
  {
   "cell_type": "code",
   "execution_count": 126,
   "metadata": {
    "slideshow": {
     "slide_type": "slide"
    }
   },
   "outputs": [
    {
     "name": "stdout",
     "output_type": "stream",
     "text": [
      "The make of my car is a Toyota, its model is Vios\n",
      "It's classification is: vehicle\n",
      "The make of my car is a Ford, its model is Camarro\n",
      "It's classification is: vehicle\n"
     ]
    }
   ],
   "source": [
    "class Car:\n",
    "    #Class Attribute\n",
    "    classification = \"vehicle\"\n",
    "    \n",
    "    #Instance Attributes\n",
    "    def __init__(self, make, model):\n",
    "        self.make = make\n",
    "        self.model = model\n",
    "\n",
    "mycar = Car(\"Toyota\", \"Vios\") # the __init__ method is called here\n",
    "print(\"The make of my car is a \" + mycar.make \n",
    "      + \", its model is \" + mycar.model)\n",
    "print(\"It's classification is: \" + mycar.classification)\n",
    "\n",
    "car2 = Car(\"Ford\", \"Camarro\") # the __init__ method is called here\n",
    "print(\"The make of my car is a \" + car2.make \n",
    "      + \", its model is \" + car2.model)\n",
    "print(\"It's classification is: \" + car2.classification)\n"
   ]
  },
  {
   "cell_type": "markdown",
   "metadata": {
    "slideshow": {
     "slide_type": "slide"
    }
   },
   "source": [
    "## Instance Methods\n",
    "* Defined inside a class and are used to get the contents of an instance\n",
    "* Can also be used to perform operations with the object's attributes \n",
    "* Similar to the `__init__` method, the first argument is always self"
   ]
  },
  {
   "cell_type": "code",
   "execution_count": 127,
   "metadata": {
    "slideshow": {
     "slide_type": "slide"
    }
   },
   "outputs": [
    {
     "name": "stdout",
     "output_type": "stream",
     "text": [
      "The car is a: Blue Toyota Vios\n",
      "The car is a: Yellow Ford Camarro\n",
      "The classification is: vehicle\n",
      "The classification is: vehicle\n"
     ]
    }
   ],
   "source": [
    "class Car:\n",
    "    #Class Attribute\n",
    "    classification = \"vehicle\"\n",
    "    \n",
    "    #Instance Attributes\n",
    "    def __init__(self, make, model, color):\n",
    "        self.make = make\n",
    "        self.model = model\n",
    "        self.color = color\n",
    "    \n",
    "    def printMakeModel(self):\n",
    "        print(\"The car is a: \"+ self.color + \" \" + self.make + \" \" + self.model)\n",
    "\n",
    "mycar = Car(\"Toyota\", \"Vios\", \"Blue\") # the __init__ method is called here\n",
    "mycar.printMakeModel()\n",
    "\n",
    "dreamcar = Car(\"Ford\", \"Camarro\", \"Yellow\")\n",
    "dreamcar.printMakeModel()\n",
    "\n",
    "print(\"The classification is: \" + mycar.classification)\n",
    "print(\"The classification is: \" + dreamcar.classification)\n"
   ]
  },
  {
   "cell_type": "markdown",
   "metadata": {
    "slideshow": {
     "slide_type": "slide"
    }
   },
   "source": [
    "## Modifying Attributes\n",
    "* You can directly change object attributes by refering to them via dot(.) notation and the assignment operator (=)"
   ]
  },
  {
   "cell_type": "code",
   "execution_count": 128,
   "metadata": {
    "slideshow": {
     "slide_type": "slide"
    }
   },
   "outputs": [
    {
     "name": "stdout",
     "output_type": "stream",
     "text": [
      "The original classification is: vehicle\n",
      "The original classification is: vehicle\n",
      "Changing classification...\n",
      "The new classification is: land vehicle\n",
      "The new classification is: land vehicle\n"
     ]
    }
   ],
   "source": [
    "print(\"The original classification is: \" + mycar.classification)\n",
    "print(\"The original classification is: \" + dreamcar.classification)\n",
    "\n",
    "print(\"Changing classification...\")\n",
    "Car.classification = \"land vehicle\"\n",
    "\n",
    "print(\"The new classification is: \" + mycar.classification)\n",
    "print(\"The new classification is: \" + dreamcar.classification)\n"
   ]
  },
  {
   "cell_type": "markdown",
   "metadata": {
    "slideshow": {
     "slide_type": "slide"
    }
   },
   "source": [
    "## Modifying Attributes\n",
    "* You can also change object attributes using instance methods"
   ]
  },
  {
   "cell_type": "code",
   "execution_count": 1,
   "metadata": {
    "slideshow": {
     "slide_type": "slide"
    }
   },
   "outputs": [],
   "source": [
    "class Car:\n",
    "    #Class Attribute\n",
    "    classification = \"vehicle\"\n",
    "    \n",
    "    #Instance Attributes\n",
    "    def __init__(self):\n",
    "        self.fuel = 100\n",
    "        self.total_distance = 0\n",
    "    \n",
    "    def printStatus(self):\n",
    "        print(\"The car has \" \n",
    "              + str(self.fuel) \n",
    "              + \"% fuel capacity and has travelled a total of \" \n",
    "              + str(self.total_distance) + \"km\")\n",
    "        \n",
    "    def drive(self, distance):\n",
    "        print(\"Attempting to drive \", distance, \" km...\")\n",
    "        if(self.fuel == 0):\n",
    "            print(\"Ooops! Car ran out of gas!\")\n",
    "        elif(distance > self.fuel):\n",
    "            print(\"We can't drive that far, we'll run out of gas!\")\n",
    "        else:\n",
    "            self.fuel = self.fuel - distance\n",
    "            self.total_distance = self.total_distance + distance\n",
    "            print(\"Road trip! Travelling\", distance, \" km\")\n",
    "    \n",
    "    def refuel(self):\n",
    "        self.fuel = 100\n",
    "    "
   ]
  },
  {
   "cell_type": "code",
   "execution_count": 2,
   "metadata": {
    "slideshow": {
     "slide_type": "slide"
    }
   },
   "outputs": [
    {
     "name": "stdout",
     "output_type": "stream",
     "text": [
      "The car has 100% fuel capacity and has travelled a total of 0km\n"
     ]
    }
   ],
   "source": [
    "# Create a car and print status\n",
    "mycar = Car() \n",
    "mycar.printStatus()"
   ]
  },
  {
   "cell_type": "code",
   "execution_count": 131,
   "metadata": {
    "slideshow": {
     "slide_type": "slide"
    }
   },
   "outputs": [
    {
     "name": "stdout",
     "output_type": "stream",
     "text": [
      "Attempting to drive  30  km...\n",
      "Road trip! Travelling 30  km\n",
      "The car has 70% fuel capacity and has travelled a total of 30km\n"
     ]
    }
   ],
   "source": [
    "# Try to drive 30km, then print status\n",
    "mycar.drive(30)\n",
    "mycar.printStatus()"
   ]
  },
  {
   "cell_type": "code",
   "execution_count": 132,
   "metadata": {
    "slideshow": {
     "slide_type": "slide"
    }
   },
   "outputs": [
    {
     "name": "stdout",
     "output_type": "stream",
     "text": [
      "Attempting to drive  80  km...\n",
      "We can't drive that far, we'll run out of gas!\n",
      "Attempting to drive  70  km...\n",
      "Road trip! Travelling 70  km\n",
      "The car has 0% fuel capacity and has travelled a total of 100km\n"
     ]
    }
   ],
   "source": [
    "# Try to drive 80km \n",
    "mycar.drive(80)\n",
    "# Try to drive 70km then print status \n",
    "mycar.drive(70)\n",
    "mycar.printStatus()"
   ]
  },
  {
   "cell_type": "code",
   "execution_count": 133,
   "metadata": {
    "slideshow": {
     "slide_type": "slide"
    }
   },
   "outputs": [
    {
     "name": "stdout",
     "output_type": "stream",
     "text": [
      "Attempting to drive  20  km...\n",
      "Ooops! Car ran out of gas!\n",
      "The car has 0% fuel capacity and has travelled a total of 100km\n",
      "The car has 100% fuel capacity and has travelled a total of 100km\n"
     ]
    }
   ],
   "source": [
    "# Try to drive 20km \n",
    "mycar.drive(20)\n",
    "mycar.printStatus()\n",
    "# refuel then print status\n",
    "mycar.refuel()\n",
    "mycar.printStatus()"
   ]
  },
  {
   "cell_type": "markdown",
   "metadata": {
    "slideshow": {
     "slide_type": "slide"
    }
   },
   "source": [
    "# FIN :)"
   ]
  }
 ],
 "metadata": {
  "celltoolbar": "Slideshow",
  "kernelspec": {
   "display_name": "Python 3",
   "language": "python",
   "name": "python3"
  },
  "language_info": {
   "codemirror_mode": {
    "name": "ipython",
    "version": 3
   },
   "file_extension": ".py",
   "mimetype": "text/x-python",
   "name": "python",
   "nbconvert_exporter": "python",
   "pygments_lexer": "ipython3",
   "version": "3.7.1"
  }
 },
 "nbformat": 4,
 "nbformat_minor": 2
}
