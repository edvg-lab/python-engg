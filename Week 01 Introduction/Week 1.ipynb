{
 "cells": [
  {
   "cell_type": "markdown",
   "metadata": {
    "slideshow": {
     "slide_type": "slide"
    }
   },
   "source": [
    "# Introduction to Python\n",
    " \n",
    "\n",
    "\n",
    "#### Mr. Kasey P. Martin, MIS"
   ]
  },
  {
   "cell_type": "markdown",
   "metadata": {
    "slideshow": {
     "slide_type": "slide"
    }
   },
   "source": [
    "## About Me\n",
    "* Master of Information Systems - University of the Philippines\n",
    "* Bachelor of Science in Computer Science - University of the Philippines\n",
    "* Python Experience (since 2013):\n",
    "    * Geoprocessing\n",
    "    * Web Scraping\n",
    "    * Scientific Computing\n",
    "    * App Development\n",
    "    * Data Science"
   ]
  },
  {
   "cell_type": "markdown",
   "metadata": {
    "slideshow": {
     "slide_type": "slide"
    }
   },
   "source": [
    "## Outline\n",
    "* Python Background\n",
    "* Environment Installation\n",
    "* Jupyter Notebook Overview\n",
    "* Python Script Overview\n",
    "* Python Language Essentials"
   ]
  },
  {
   "cell_type": "markdown",
   "metadata": {
    "slideshow": {
     "slide_type": "slide"
    }
   },
   "source": [
    "## Background\n",
    "* Created by Guido van Rossum\n",
    "* Open-source, general purpose, high-level\n",
    "* Procedural, functional, object-oriented\n",
    "* Interpreted language\n",
    "* Two versions: 2.7 and 3.x (We will use 3.x)\n",
    "\n",
    "<div class=\"alert alert-block alert-info\">\n",
    "<b>DID YOU KNOW?</b>   The Python language is named after Monty Python, a comedy group from the 70s.\n",
    "</div>"
   ]
  },
  {
   "cell_type": "markdown",
   "metadata": {
    "slideshow": {
     "slide_type": "slide"
    }
   },
   "source": [
    "## Enviroment Installation\n",
    "1. Go to: https://www.anaconda.com/distribution/#download-section\n",
    "2. Download `Python 3.7 version`\n",
    "3. Install Executable"
   ]
  },
  {
   "cell_type": "markdown",
   "metadata": {
    "slideshow": {
     "slide_type": "slide"
    }
   },
   "source": [
    "## Jupyter Notebook Overview"
   ]
  },
  {
   "cell_type": "markdown",
   "metadata": {
    "slideshow": {
     "slide_type": "slide"
    }
   },
   "source": [
    "## Jupyter Notebook Interface: Dashboard\n",
    "<img src=\"images/nb-dashboard.png\" width=\"650\">"
   ]
  },
  {
   "cell_type": "markdown",
   "metadata": {
    "slideshow": {
     "slide_type": "slide"
    }
   },
   "source": [
    "## Jupyter Notebook Interface: New Dropdown\n",
    "\n",
    "- You can create\n",
    "    - Python 3 Notebooks (.ipynb)\n",
    "    - Text Files like normal .txt extensions or Python scripts (.py)\n",
    "    - Folder directories\n",
    "    - Terminal windows for executing commands"
   ]
  },
  {
   "cell_type": "markdown",
   "metadata": {
    "slideshow": {
     "slide_type": "slide"
    }
   },
   "source": [
    "## Jupyter Notebook Interface: New Notebook\n",
    "<img src=\"images/nb-dashboard-new.png\" width=\"650\">"
   ]
  },
  {
   "cell_type": "markdown",
   "metadata": {
    "slideshow": {
     "slide_type": "slide"
    }
   },
   "source": [
    "## Jupyter Notebook"
   ]
  },
  {
   "cell_type": "markdown",
   "metadata": {
    "slideshow": {
     "slide_type": "slide"
    }
   },
   "source": [
    "## Jupyter Notebook\n",
    "- a browser-based Read-Evaluate-Print Loop (REPL) environment \n",
    "- enables interactive computing\n",
    "- used heavily in data science analysis\n",
    "- this presentation is a jupyter notebook!"
   ]
  },
  {
   "cell_type": "markdown",
   "metadata": {
    "slideshow": {
     "slide_type": "slide"
    }
   },
   "source": [
    "## Jupyter Notebook Interface: Notebook Interface\n",
    "<img src=\"images/nb-blank.png\" width=\"650\">"
   ]
  },
  {
   "cell_type": "markdown",
   "metadata": {
    "slideshow": {
     "slide_type": "slide"
    }
   },
   "source": [
    "## Jupyter Notebook Interface: Cell-type\n",
    "<img src=\"images/nb-celltype.png\" width=\"650\">"
   ]
  },
  {
   "cell_type": "markdown",
   "metadata": {
    "slideshow": {
     "slide_type": "slide"
    }
   },
   "source": [
    "## Jupyter Notebook Interface: Running Cell\n",
    "<img src=\"images/nb-run.png\" width=\"650\">"
   ]
  },
  {
   "cell_type": "code",
   "execution_count": null,
   "metadata": {
    "slideshow": {
     "slide_type": "slide"
    }
   },
   "outputs": [],
   "source": [
    "#!/usr/bin/env python3\n",
    "\n",
    "def main():\n",
    "    \"\"\" Main entry point of the app \"\"\"\n",
    "    print(\"Hello EIT!\")\n",
    "\n",
    "if __name__ == \"__main__\":\n",
    "    # This is executed when run from the command line\n",
    "    main()"
   ]
  },
  {
   "cell_type": "markdown",
   "metadata": {
    "slideshow": {
     "slide_type": "slide"
    }
   },
   "source": [
    "## Common User Mistakes and Misconceptions (Jupyter Notebook vs Python Script)\n",
    "\n",
    "- Python scripts always run sequentially, only halting to wait for user input (if any)\n",
    "- You can run your Jupyter Notebook sequentially, but Jupyter Notebook allows you to run cells out of order\n",
    "\n",
    "\n",
    "\n",
    "\n"
   ]
  },
  {
   "cell_type": "markdown",
   "metadata": {
    "slideshow": {
     "slide_type": "slide"
    }
   },
   "source": [
    "## Common User Mistakes and Misconceptions (Jupyter Notebook vs Python Script)\n",
    "\n",
    "- Because Python scripts always execute sequentially, it is safer to overwrite variables\n",
    "- You have to be careful with overwriting variables in different cells since you can run cells non-sequentially"
   ]
  },
  {
   "cell_type": "markdown",
   "metadata": {
    "slideshow": {
     "slide_type": "slide"
    }
   },
   "source": [
    "## Common User Mistakes and Misconceptions (Jupyter Notebook vs Python Script)\n",
    "- It takes time to get used to the programming paradigm of Jupyter Notebook\n",
    "- If your logic looks good but you are still getting confusing errors, try restarting kernel then run cells sequentially again"
   ]
  },
  {
   "cell_type": "markdown",
   "metadata": {
    "slideshow": {
     "slide_type": "slide"
    }
   },
   "source": [
    "# Let's code!"
   ]
  },
  {
   "cell_type": "markdown",
   "metadata": {
    "slideshow": {
     "slide_type": "slide"
    }
   },
   "source": [
    "## Syntax: Line Endings\n",
    "* No need for semi-colon at the end\n",
    "    * In C:\n",
    "    ``` c\n",
    "        printf(\"Hello world!\");\n",
    "    ```\n",
    "    * In Python:\n",
    "    ``` python\n",
    "        print(\"Hello world!\")\n",
    "    ```\n"
   ]
  },
  {
   "cell_type": "code",
   "execution_count": null,
   "metadata": {
    "slideshow": {
     "slide_type": "slide"
    }
   },
   "outputs": [],
   "source": [
    "print(\"Hello world!\")"
   ]
  },
  {
   "cell_type": "markdown",
   "metadata": {
    "slideshow": {
     "slide_type": "slide"
    }
   },
   "source": [
    "## Syntax: Basic Operators\n",
    "\n",
    "<table style=\"font-size:30px\">\n",
    "    <tr>\n",
    "        <th>Operator</th>\n",
    "        <th>Operation (Ordered by Precedence)</th>\n",
    "    </tr>\n",
    "    <tr>\n",
    "        <td>'(' and ')'</td>\n",
    "        <td>For specifying Precedence</td>\n",
    "    </tr>\n",
    "    <tr>\n",
    "        <td>**</td>\n",
    "        <td>Exponent</td>\n",
    "    </tr>\n",
    "    <tr>\n",
    "        <td>*</td>\n",
    "        <td>Multiplication</td>\n",
    "    </tr>\n",
    "    <tr>\n",
    "        <td>/</td>\n",
    "        <td>Division</td>\n",
    "    </tr>\n",
    "     <tr>\n",
    "        <td>//</td>\n",
    "        <td>Floor Division</td>\n",
    "    </tr>\n",
    "    <tr>\n",
    "        <td>%</td>\n",
    "        <td>Modulo</td>\n",
    "    </tr>\n",
    "    <tr>\n",
    "        <td>+</td>\n",
    "        <td>Addition</td>\n",
    "    </tr>\n",
    "    <tr>\n",
    "        <td>-</td>\n",
    "        <td>Subtraction</td>\n",
    "    </tr>\n",
    "</table>\n"
   ]
  },
  {
   "cell_type": "code",
   "execution_count": null,
   "metadata": {
    "slideshow": {
     "slide_type": "slide"
    }
   },
   "outputs": [],
   "source": [
    "# insert code here\n",
    "\n",
    "print(10+6)\n",
    "print(7*3.14)\n",
    "print(7%3)\n",
    "print(16+4**2/8-10)"
   ]
  },
  {
   "cell_type": "markdown",
   "metadata": {
    "slideshow": {
     "slide_type": "slide"
    }
   },
   "source": [
    "## Syntax: Variables\n",
    "* Naming Rules\n",
    "    * Case-sensitive\n",
    "    * Can contain letters, numbers, and underscores\n",
    "    * Cannot start with a number\n",
    "    * e.g. myVar, my_var, _myvar, number1"
   ]
  },
  {
   "cell_type": "markdown",
   "metadata": {
    "slideshow": {
     "slide_type": "slide"
    }
   },
   "source": [
    "## Syntax: Variables\n",
    "* Variables are <i> dynamically </i> typed\n",
    "    * They don't have a pre-defined type\n",
    "        * In C:\n",
    "    ``` c\n",
    "        int num1 = 75;\n",
    "        float pi = 3.14159;\n",
    "    ```\n",
    "        * In Python:\n",
    "    ``` python\n",
    "        num1 = 75\n",
    "        pi = 3.14159\n",
    "    ```\n"
   ]
  },
  {
   "cell_type": "code",
   "execution_count": null,
   "metadata": {
    "slideshow": {
     "slide_type": "slide"
    }
   },
   "outputs": [],
   "source": [
    "# insert code here\n",
    "mass = 15\n",
    "mystr = \"The mass of the object is \" + str(mass) + \" kg.\"\n",
    "print(mystr)"
   ]
  },
  {
   "cell_type": "markdown",
   "metadata": {
    "slideshow": {
     "slide_type": "slide"
    }
   },
   "source": [
    "## Syntax: Basic Input & Output\n",
    "\n",
    "* `input(prompt)`\n",
    "    * Prompts user for keyboard input\n",
    "    * Any input from the keyboard before new line (Enter Key) is returned as a string \n",
    "* `print(*objects, sep=' ', end='\\n', file=sys.stdout, flush=False)`\n",
    "    * first converts arbitrary number of objects to strings that are joined by `sep` and ends in `end`\n",
    "    * concatinated string is printed in `file` "
   ]
  },
  {
   "cell_type": "code",
   "execution_count": null,
   "metadata": {
    "slideshow": {
     "slide_type": "slide"
    }
   },
   "outputs": [],
   "source": [
    "mass = input(\"Input mass (kg): \")\n",
    "acc = input(\"Input acceleration (m/s): \")\n",
    "\n",
    "force = int(mass)*int(acc)\n",
    "\n",
    "print(\"The force of the object is \" + str(force) + \"N\")"
   ]
  },
  {
   "cell_type": "markdown",
   "metadata": {
    "slideshow": {
     "slide_type": "slide"
    }
   },
   "source": [
    "## Syntax: Comments\n",
    "* `#<string>` - Single line comments \n",
    "* `\"\"\"<string>\"\"\"` - Multi-line comments\n",
    "\n",
    "``` python\n",
    "    num1 = 75     # This is a comment.\n",
    "    pi = 3.14159\n",
    "\n",
    "    # This is also a comment.\n",
    "    \"\"\"This is a docstring. You can place this \n",
    "    before a new function or class to explain \n",
    "    what it does.\"\"\" \n",
    "\n",
    "```"
   ]
  },
  {
   "cell_type": "markdown",
   "metadata": {
    "slideshow": {
     "slide_type": "slide"
    }
   },
   "source": [
    "## Syntax: Nesting\n",
    "* Use indentations instead of braces\n",
    "    * In C:\n",
    "    ``` c\n",
    "        if(condition){\n",
    "            //do stuff \n",
    "            //here\n",
    "        }\n",
    "    ```\n",
    "    * In Python:\n",
    "    ``` python\n",
    "         if condition:\n",
    "            #do stuff \n",
    "            #here\n",
    "    ```\n"
   ]
  },
  {
   "cell_type": "markdown",
   "metadata": {
    "slideshow": {
     "slide_type": "slide"
    }
   },
   "source": [
    "# Simple Python Script Template\n",
    "`main.py`\n",
    "``` python \n",
    "\n",
    "#!/usr/bin/env python3\n",
    "\n",
    "def main():\n",
    "    \"\"\" Main entry point of the app \"\"\"\n",
    "    print(\"Hello World\")\n",
    "\n",
    "if __name__ == \"__main__\":\n",
    "    # This is executed when run from the command line \n",
    "    main()\n",
    "```"
   ]
  },
  {
   "cell_type": "markdown",
   "metadata": {
    "slideshow": {
     "slide_type": "slide"
    }
   },
   "source": [
    "## Reference Semantics\n",
    "* If we do a = b\n",
    "    * This makes a <b> reference </b> the object that b references\n",
    "    * Assignment creates references, <b> not copies </b>\n",
    "    \n",
    "\n"
   ]
  },
  {
   "cell_type": "code",
   "execution_count": 4,
   "metadata": {
    "slideshow": {
     "slide_type": "slide"
    }
   },
   "outputs": [
    {
     "name": "stdout",
     "output_type": "stream",
     "text": [
      "[1, 2, 3, 4, 5, 6]\n",
      "2\n",
      "1\n"
     ]
    }
   ],
   "source": [
    "# insert code here\n",
    "a = [1, 2, 3, 4, 5] #mutable objects\n",
    "b = a # b is not a copy of a, it references the object in a\n",
    "a.append(6)\n",
    "print(b)\n",
    "  \n",
    "# immutable objects\n",
    "a = 1\n",
    "b = a\n",
    "a = 2\n",
    "print(a) # 1\n",
    "print(b) # 2\n",
    "\n"
   ]
  },
  {
   "cell_type": "code",
   "execution_count": null,
   "metadata": {
    "slideshow": {
     "slide_type": "slide"
    }
   },
   "outputs": [],
   "source": [
    "#!/usr/bin/env python3\n",
    "\n",
    "def main():\n",
    "    \"\"\" Write a program that takes in a name and age, then output age in 5 years \"\"\"\n",
    "    \n",
    "\n",
    "if __name__ == \"__main__\":\n",
    "    # This is executed when run from the command line\n",
    "    main()"
   ]
  }
 ],
 "metadata": {
  "celltoolbar": "Slideshow",
  "kernelspec": {
   "display_name": "Python 3",
   "language": "python",
   "name": "python3"
  },
  "language_info": {
   "codemirror_mode": {
    "name": "ipython",
    "version": 3
   },
   "file_extension": ".py",
   "mimetype": "text/x-python",
   "name": "python",
   "nbconvert_exporter": "python",
   "pygments_lexer": "ipython3",
   "version": "3.7.1"
  }
 },
 "nbformat": 4,
 "nbformat_minor": 2
}
