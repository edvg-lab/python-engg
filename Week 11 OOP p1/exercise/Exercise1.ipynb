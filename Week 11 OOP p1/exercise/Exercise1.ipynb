{
 "cells": [
  {
   "cell_type": "markdown",
   "metadata": {},
   "source": [
    "# Final Grade Batch calculator (Class version)\n",
    "\n",
    "Python is great for automating the boring stuff. In this exercise, we will be making our lives easier by batch grading students rather than doing calculations one by one, or using a spreadsheet program such as Microsoft Excel.\n",
    "\n",
    "## Input CSV Specification\n",
    "\n",
    "The input of the program will be a Comma Separated Values (CSV) file named `student_record.csv`. Below is a sample of the possible contents of `student_record.csv`\n",
    "\n",
    "|firstname|lastname|Q1|Q2|Q3|Q4|\n",
    "|---------|--------|--|--|--|--|\n",
    "|student_1|surname_1|50|60|90|70|\n",
    "|student_2|surname_2|50|60|90|70|\n",
    "|...|...|...|...|...|...|\n",
    "|student_n|surname_n|80|75|60|88|\n",
    "\n",
    "A couple of observations can be made:\n",
    "1. The file has 6 headers: `firstname`, `lastname`, `Q1`, `Q2`, `Q3`, `Q4`\n",
    "2. `Q1`, `Q2`, `Q3`, `Q4` represent quarterly grades of each student and are represented as integers\n",
    "3. The number of students are not fixed, hence we have a record of up to `student_n` where `n` is the total number of students per class\n",
    "\n",
    "## Output CSV Specification\n",
    "\n",
    "The output of the program will be a Comma Separated Values (CSV) file named `student_record_graded.csv`. Below is a sample of the possible contents of `student_record_graded.csv`\n",
    "\n",
    "|firstname|lastname|Q1|Q2|Q3|Q4|final_grade|remarks|\n",
    "|---------|--------|--|--|--|--|-----------|----------|\n",
    "|student_1|surname_1|50|60|90|70|67.5|CONDITIONAL|\n",
    "|student_2|surname_2|50|60|90|70|67.5|CONDITIONAL|\n",
    "|...|...|...|...|...|...|...|...|\n",
    "|student_n|surname_n|80|75|60|88|75.75|PASSING|\n",
    "\n",
    "## Process\n",
    "\n",
    "1. Open `student_record.csv`\n",
    "2. For each row:\n",
    "    1. Create a `Student` object that stores the grades `Q1`, `Q2`,`Q3`,`Q4`\n",
    "    2. calculate the `final_grade` by taking the mean of `Q1`, `Q2`, `Q3` and `Q4` using the `Student` object's instance method\n",
    "    3. Calculate the `remarks` using the `Student` objects instance method. For the `remarks` of the final grade, use the following criteria:\n",
    "        1. `FAILING` - `final_grade` < 60\n",
    "        2. `CONDITIONAL` - `final_grade` >= 60 and `final_grade` < 70\n",
    "        3. `PASSING` - `final_grade` >= 70\n",
    "3. Save resulting rows into `student_record_graded.csv`\n",
    "\n",
    "## Class implementation\n",
    "\n",
    "Create a `Student` class that will have the following properties:\n",
    "1. Instance attributes:\n",
    "    - `Q1`\n",
    "    - `Q2`\n",
    "    - `Q3`\n",
    "    - `Q4`\n",
    "    - `final_grade`\n",
    "    - `remarks`\n",
    "2. Instance methods\n",
    "    - `calc_final_grade` - calculates final grade based on quarterly grades of students\n",
    "    - `eval_remark` - evaluate remark based on final grade\n",
    "#### HINT: Checkout and expand Week 7's last example"
   ]
  },
  {
   "cell_type": "code",
   "execution_count": 7,
   "metadata": {},
   "outputs": [],
   "source": [
    "# Extend this class template\n",
    "class Student:\n",
    "    def __init__(self,q1,q2,q3,q4,final_grade = None,remarks = None):\n",
    "        self.Q1 = q1\n",
    "        self.Q2 = q2\n",
    "        self.Q3 = q3\n",
    "        self.Q4 = q4\n",
    "        \n",
    "        if final_grade is None:\n",
    "            self.final_grade = None\n",
    "        else:\n",
    "            self.final_grade = final_grade\n",
    "            \n",
    "        if remarks is None:\n",
    "            self.remarks = None\n",
    "        else:\n",
    "            self.remarks = remarks\n",
    "    \n",
    "    def calc_final_grade(self):\n",
    "        # calculate final grade here\n",
    "        \n",
    "        return self.final_grade\n",
    "    \n",
    "    def eval_remark(self):\n",
    "        # evaluate remark here\n",
    "        \n",
    "        return self.remark"
   ]
  },
  {
   "cell_type": "code",
   "execution_count": 8,
   "metadata": {},
   "outputs": [
    {
     "name": "stdout",
     "output_type": "stream",
     "text": [
      "84.75\n",
      "PASSING\n"
     ]
    }
   ],
   "source": [
    "import statistics\n",
    "student1 = Student(80,90,95,100)\n",
    "\n",
    "grades = [90,94,75,80]\n",
    "final_grade = statistics.mean(grades)\n",
    "\n",
    "student2 = Student(grades[0],grades[0],grades[0],grades[0],final_grade,\"PASSING\")\n",
    "print(student2.final_grade)\n",
    "print(student2.remarks)"
   ]
  },
  {
   "cell_type": "code",
   "execution_count": null,
   "metadata": {},
   "outputs": [],
   "source": []
  }
 ],
 "metadata": {
  "kernelspec": {
   "display_name": "Python 3",
   "language": "python",
   "name": "python3"
  },
  "language_info": {
   "codemirror_mode": {
    "name": "ipython",
    "version": 3
   },
   "file_extension": ".py",
   "mimetype": "text/x-python",
   "name": "python",
   "nbconvert_exporter": "python",
   "pygments_lexer": "ipython3",
   "version": "3.7.1"
  }
 },
 "nbformat": 4,
 "nbformat_minor": 2
}
