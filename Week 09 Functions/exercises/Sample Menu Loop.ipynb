{
 "cells": [
  {
   "cell_type": "code",
   "execution_count": null,
   "metadata": {},
   "outputs": [],
   "source": [
    "# We start by setting a variable loop_boolean to True\n",
    "# As long as this is true, our while statement loops over our code\n",
    "loop_boolean = True\n",
    "\n",
    "while loop_boolean:\n",
    "    # Print out options\n",
    "    print(\"Choices:\")\n",
    "    print(\"1. print 'Hello World!'\")\n",
    "    print(\"2. print 'Hello Python!'\")\n",
    "    # ask user for input\n",
    "    choice = input(\"Enter choice:\")\n",
    "    # if choice was equal to character `1`, do the print hello world logic\n",
    "    if choice == '1':\n",
    "        print(\"Hello World!\")\n",
    "    # else if choice was equal to character `2`, do the hello python logic\n",
    "    elif choice == '2':\n",
    "        print('Hello Python!')\n",
    "    # if the user gave an invalid choice, use `continue` to skip executing remaining code blocks below and move on\n",
    "    # to the start of the next iteration of the while loop\n",
    "    else:\n",
    "        print(\"Invalid input, executing `continue` statement to go to the next loop iteration\")\n",
    "        continue\n",
    "    \n",
    "    # after a valid choice from above, we ask the user if they want to repeat\n",
    "    repeat = input(\"Do you want to try this again? Enter 'y' or 'n'\")\n",
    "    # depending on the choice, we either move on to the next iteration which repeats everything or we exit the loop\n",
    "    # this logic only actually checks if input is `y` or not\n",
    "    # if not, we just assume the user has entered `n` and exits the loop\n",
    "    if repeat == 'y':\n",
    "        print(\"Thanks for your answer! Repeating loop again!\")\n",
    "    else:\n",
    "        # note that to exit the loop execution, we set loop_boolean to False to terminate while loop on next iteration\n",
    "        print(\"Thanks for your answer! Ending loop now...\")\n",
    "        loop_boolean = False"
   ]
  },
  {
   "cell_type": "code",
   "execution_count": null,
   "metadata": {},
   "outputs": [],
   "source": []
  }
 ],
 "metadata": {
  "kernelspec": {
   "display_name": "Python 3",
   "language": "python",
   "name": "python3"
  },
  "language_info": {
   "codemirror_mode": {
    "name": "ipython",
    "version": 3
   },
   "file_extension": ".py",
   "mimetype": "text/x-python",
   "name": "python",
   "nbconvert_exporter": "python",
   "pygments_lexer": "ipython3",
   "version": "3.7.2"
  }
 },
 "nbformat": 4,
 "nbformat_minor": 2
}
