{
 "cells": [
  {
   "cell_type": "markdown",
   "metadata": {},
   "source": [
    "# "
   ]
  },
  {
   "cell_type": "code",
   "execution_count": 11,
   "metadata": {},
   "outputs": [
    {
     "name": "stdout",
     "output_type": "stream",
     "text": [
      "Enter first point's x coordinates: 0\n",
      "Enter first point's y coordinates: 5\n",
      "Enter second point's x coordinates: -5\n",
      "Enter second point's y coordinates: 0\n",
      "Enter third point's x coordinates: 5\n",
      "Enter third point's y coordinates: 0\n",
      "P1: 0,5\n",
      "P2: -5,0\n",
      "P3: 5,0\n",
      "Slope1:  1.0\n",
      "Slope2:  0.0\n",
      "Slopes are not equal, points form a triangle\n"
     ]
    }
   ],
   "source": [
    "'''\n",
    "    Introduction to Python:  Week 3 Assignment \n",
    "    \n",
    "    Program to determine if three sets of x,y coordinates can form a triangle.\n",
    "    The program asks for the 3 sets of coordinates and then determines the slope between \n",
    "    the second and first set of coordinates, and then between the third and second set of coordinates.\n",
    "    If the absolute value of slopes are equal then the lines cannot intersect and it is not possible to form a triangle\n",
    "\n",
    "    NB! Check for division by zero which can occur when the x cordinates are equal.\n",
    "\n",
    "    Author: Terry Cousins\n",
    "    Date: 2019-06-10\n",
    "    Version: 1.0\n",
    "    \n",
    "'''\n",
    "\n",
    "\n",
    "x1 = input(\"Enter first point's x coordinates: \")\n",
    "y1 = input(\"Enter first point's y coordinates: \")\n",
    "x2 = input(\"Enter second point's x coordinates: \")\n",
    "y2 = input(\"Enter second point's y coordinates: \")\n",
    "x3 = input(\"Enter third point's x coordinates: \")\n",
    "y3 = input(\"Enter third point's y coordinates: \")\n",
    "\n",
    "print(\"P1:\",str(x1)+\",\"+str(y1))\n",
    "print(\"P2:\",str(x2)+\",\"+str(y2))\n",
    "print(\"P3:\",str(x3)+\",\"+str(y3))\n",
    "\n",
    "# check if one of the divisors is zero\n",
    "slope1_divisor = float(x2)-float(x1)\n",
    "slope2_divisor = float(x3)-float(x2)  \n",
    "\n",
    "if(slope1_divisor != 0.0):\n",
    "    slope1 = (float(y2)-float(y1))/slope1_divisor\n",
    "else:\n",
    "    slope1 = 1.0E99\n",
    "\n",
    "if(slope2_divisor != 0.0):   \n",
    "    slope2 = (float(y3)-float(y2))/slope2_divisor\n",
    "else:\n",
    "    slope2 = 1.0E99\n",
    "\n",
    "print(\"Slope1: \",slope1)\n",
    "print(\"Slope2: \",slope2)\n",
    "\n",
    "if(abs(slope1) == abs(slope2)):\n",
    "   print(\"Slopes are equal, points do not form a triangle\")\n",
    "else:\n",
    "   print(\"Slopes are not equal, points form a triangle\")\n"
   ]
  },
  {
   "cell_type": "code",
   "execution_count": null,
   "metadata": {},
   "outputs": [],
   "source": []
  }
 ],
 "metadata": {
  "kernelspec": {
   "display_name": "Python 3",
   "language": "python",
   "name": "python3"
  },
  "language_info": {
   "codemirror_mode": {
    "name": "ipython",
    "version": 3
   },
   "file_extension": ".py",
   "mimetype": "text/x-python",
   "name": "python",
   "nbconvert_exporter": "python",
   "pygments_lexer": "ipython3",
   "version": "3.7.1"
  }
 },
 "nbformat": 4,
 "nbformat_minor": 2
}
