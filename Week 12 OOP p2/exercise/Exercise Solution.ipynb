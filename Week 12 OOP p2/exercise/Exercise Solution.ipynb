{
 "cells": [
  {
   "cell_type": "markdown",
   "metadata": {},
   "source": [
    "# Simple Time and Datetime classes\n",
    "\n",
    "## Time\n",
    "Create a parent class `Time` with the following attributes and Methods\n",
    "- Attributes\n",
    "    - `hour`: possible values are 0-23\n",
    "    - `minute`: possible values are 0-59\n",
    "    - `second`: possible values are 0-59\n",
    "- Methods\n",
    "    - `__init__(self, hour = 0, minute = 0, second = 0)`: initializes a time object, defaults to 00:00:00 if no arguments passed\n",
    "    - `getTime(self)`: returns a time string of format `hh:mm:ss`\n",
    "    - `setHour(self, hour)`: changes the current hour to value passed. Returns `True` if successful, returns `False` in unsuccessful or invalid value given\n",
    "    - `setMinute(self, minute)`: changes the current minute to value passed. Returns `True` if successful, returns `False` in unsuccessful or invalid value given\n",
    "    - `setSecond(self, second)`: changes the current second to value passed. Returns `True` if successful, returns `False` in unsuccessful or invalid value given\n",
    "    - `tickTock(self)`: increments current time by 1 second. Returns `True` after successful increment \n",
    "        \n",
    "## DateTime\n",
    "Create a child class `Datetime` that extends the `Time` class. It should have the following additional attributes and Methods:\n",
    "- Attributes\n",
    "    - `year`: possible values are 1970-9999\n",
    "    - `month`: possible values are 1-12\n",
    "    - `date`: possible values are 1-31 (depends on the month)\n",
    "- Methods\n",
    "    - `__init__(self, year = 1970, month = 1, date = 1, hour = 0, minute = 0, second = 0)`: initializes a time object, defaults to 1970-1-1 if no arguments passed\n",
    "    - `getDateTime(self)`: returns a datetime string of format `YYYY-MM-DD hh:mm:ss`\n",
    "    - `setYear(self, year)`: changes the current year to value passed. Returns `True` if successful, returns `False` in unsuccessful or invalid value given\n",
    "    - `setMonth(self, month)`: changes the current month to value passed. Returns `True` if successful, returns `False` in unsuccessful or invalid value given\n",
    "    - `setDate(self, date)`: changes the current date to value passed. Returns `True` if successful, returns `False` in unsuccessful or invalid value given"
   ]
  },
  {
   "cell_type": "code",
   "execution_count": 2,
   "metadata": {},
   "outputs": [],
   "source": [
    "class Time:\n",
    "    def __init__(self, hour = 0, minute = 0, second = 0):\n",
    "        self.hour = hour\n",
    "        self.minute = minute\n",
    "        self.second = second\n",
    "        \n",
    "    def getTime(self):\n",
    "        return '%02d:%02d:%02d' % (self.hour, self.minute, self.second)\n",
    "    \n",
    "    def setHour(self,hour):\n",
    "        if hour in range(24):\n",
    "            self.hour = hour\n",
    "            return True\n",
    "        else:\n",
    "            return False\n",
    "        \n",
    "    def setMinute(self,minute):\n",
    "        if minute in range(60):\n",
    "            self.minute = minute\n",
    "            return True\n",
    "        else:\n",
    "            return False\n",
    "        \n",
    "    def setSecond(self,second):\n",
    "        if second in range(60):\n",
    "            self.second = second\n",
    "            return True\n",
    "        else:\n",
    "            return False\n",
    "        \n",
    "    def tickTock(self):\n",
    "        self.second = self.second + 1\n",
    "        return True\n",
    "        \n",
    "class DateTime(Time):\n",
    "    def __init__(self, year = 1970, month = 1, date = 1, hour = 0, minute = 0, second = 0):\n",
    "        super().__init__(hour,minute,second)\n",
    "        self.year = year\n",
    "        self.month = month\n",
    "        self.date = date\n",
    "    \n",
    "    def setYear(self,year):\n",
    "        if year in range(1970,10000):\n",
    "            self.year = year\n",
    "            return True\n",
    "        else:\n",
    "            return False\n",
    "    \n",
    "    def setMonth(self,month):\n",
    "        if month in range(1,13):\n",
    "            self.month = month\n",
    "            return True\n",
    "        else:\n",
    "            return False\n",
    "    def setDate(self,date):\n",
    "        if date in range(1,31):\n",
    "            self.date = date\n",
    "            return True\n",
    "        else:\n",
    "            return False\n",
    "    \n",
    "    def getDateTime(self):\n",
    "        return '%04d-%02d-%02d' % (self.year, self.month, self.date) + ' ' + self.getTime()\n"
   ]
  },
  {
   "cell_type": "markdown",
   "metadata": {},
   "source": [
    "## Playground\n",
    "Try your class out in the code cell below to test that everything works"
   ]
  },
  {
   "cell_type": "code",
   "execution_count": 3,
   "metadata": {},
   "outputs": [],
   "source": [
    "# Try to play around with your code here to test that everything works ^_^\n"
   ]
  },
  {
   "cell_type": "markdown",
   "metadata": {},
   "source": [
    "## Tests\n",
    "Don't modify the code below. In the code below, I'm actually testing if your class behaves as specified above. To test your code for correctness, just run each of these cells from below. Essentially, if there are no errors, these should now output anything. if there are errors however, an assertion error will be raised, giving you a hint of what is wrong or missing in your implementation "
   ]
  },
  {
   "cell_type": "markdown",
   "metadata": {},
   "source": [
    "### Testing Time class"
   ]
  },
  {
   "cell_type": "code",
   "execution_count": 16,
   "metadata": {},
   "outputs": [],
   "source": [
    "# Create a Time object and use default values\n",
    "mytime = Time()\n",
    "assert(mytime.hour == 0),\"Default value should be zero\"\n",
    "assert(mytime.minute == 0),\"Default value should be zero\"\n",
    "assert(mytime.second == 0),\"Default value should be zero\"\n",
    "assert(mytime.getTime()=='00:00:00')"
   ]
  },
  {
   "cell_type": "code",
   "execution_count": 20,
   "metadata": {},
   "outputs": [],
   "source": [
    "# Create a Time object set only hour and minute\n",
    "mytime = Time(1,30)\n",
    "assert(mytime.hour == 1),\"Hour should have been set to 1\"\n",
    "assert(mytime.minute == 30),\"Minute should have been set to 30\"\n",
    "assert(mytime.second == 0),\"Second should have been set to 0\"\n",
    "assert(mytime.getTime()=='01:30:00'),\"Valid string returned should be 01:30:00\""
   ]
  },
  {
   "cell_type": "code",
   "execution_count": 21,
   "metadata": {},
   "outputs": [],
   "source": [
    "# Create a Time object set hour, minute, and second\n",
    "mytime = Time(1,30,32)\n",
    "assert(mytime.hour == 1),\"Hour should have been set to 1\"\n",
    "assert(mytime.minute == 30),\"Minute should have been set to 30\"\n",
    "assert(mytime.second == 32),\"Second should have been set to 32\"\n",
    "assert(mytime.getTime()=='01:30:32'),\"Valid string returned should be 01:30:32\""
   ]
  },
  {
   "cell_type": "code",
   "execution_count": 22,
   "metadata": {},
   "outputs": [],
   "source": [
    "# Test out tickTock\n",
    "mytime = Time()\n",
    "assert(mytime.second == 0),\"Second should have been set to 0\"\n",
    "assert(mytime.getTime()=='00:00:00'),\"Valid string returned should be 00:00:00\"\n",
    "mytime.tickTock()\n",
    "assert(mytime.second == 1),\"Second should have been set to 1\"\n",
    "assert(mytime.getTime()=='00:00:01'),\"Valid string returned should be 00:00:00\""
   ]
  },
  {
   "cell_type": "markdown",
   "metadata": {},
   "source": [
    "### Testing DateTime class"
   ]
  },
  {
   "cell_type": "code",
   "execution_count": 30,
   "metadata": {},
   "outputs": [],
   "source": [
    "# Test DateTime object with complete fields\n",
    "mydatetime = DateTime(2019,7,22,1,2,3)\n",
    "assert(mydatetime.year == 2019),\"Year should have been set to 2019\"\n",
    "assert(mydatetime.month == 7),\"Month should have been set to 7\"\n",
    "assert(mydatetime.date == 22),\"Date should have been set to 22\"\n",
    "assert(mydatetime.hour == 1),\"Hour should have been set to 1\"\n",
    "assert(mydatetime.minute == 2),\"Minute should have been set to 2\"\n",
    "assert(mydatetime.second == 3),\"Second should have been set to 3\"\n",
    "assert(mydatetime.getDateTime()=='2019-07-22 01:02:03'),\"Valid string returned should be 2019-07-22 01:02:03\""
   ]
  },
  {
   "cell_type": "code",
   "execution_count": 28,
   "metadata": {},
   "outputs": [],
   "source": [
    "# Create a DateTime object and use default values\n",
    "mydatetime = DateTime()\n",
    "assert(mydatetime.year == 1970),\"Year should have been set to 2019\"\n",
    "assert(mydatetime.month == 1),\"Month should have been set to 2019\"\n",
    "assert(mydatetime.date == 1),\"Date should have been set to 2019\"\n",
    "assert(mydatetime.hour == 0),\"Hour should have been set to 2019\"\n",
    "assert(mydatetime.minute == 0),\"Minute should have been set to 2019\"\n",
    "assert(mydatetime.second == 0),\"Second should have been set to 2019\"\n",
    "assert(mydatetime.getTime()=='00:00:00'),\"Valid string returned should be 00:00:00\"\n",
    "assert(mydatetime.getDateTime()=='1970-01-01 00:00:00'),\"Valid string returned should be 1970-01-01 00:00:00\""
   ]
  },
  {
   "cell_type": "code",
   "execution_count": 29,
   "metadata": {},
   "outputs": [],
   "source": [
    "# Test out tickTock\n",
    "mydatetime = DateTime()\n",
    "assert(mydatetime.second == 0),\"Second should have been set to 0\"\n",
    "assert(mydatetime.getTime()=='00:00:00'),\"Valid string returned should be 00:00:00\"\n",
    "mydatetime.tickTock()\n",
    "assert(mydatetime.second == 1),\"Second should have been set to 1\"\n",
    "assert(mydatetime.getTime()=='00:00:01'),\"Valid string returned should be 00:00:00\""
   ]
  },
  {
   "cell_type": "code",
   "execution_count": 40,
   "metadata": {},
   "outputs": [],
   "source": [
    "# Test out setting functions\n",
    "mydatetime = DateTime()\n",
    "\n",
    "# Test year\n",
    "mydatetime.setYear(1993)\n",
    "assert(mydatetime.year == 1993),\"Year should have been set to 1993\"\n",
    "assert(mydatetime.setYear(1969)==False),\"Should return False if invalid input\"\n",
    "assert(mydatetime.year == 1993)\n",
    "\n",
    "# Test month\n",
    "mydatetime.setMonth(12)\n",
    "assert(mydatetime.month == 12),\"Month should have been set to 12\"\n",
    "assert(mydatetime.setMonth(13)==False),\"Should return False if invalid input\"\n",
    "assert(mydatetime.month == 12),\"Month should still be 12\"\n",
    "\n",
    "# Test date\n",
    "mydatetime.setDate(12)\n",
    "assert(mydatetime.date == 12),\"Date should have been set to 12\"\n",
    "assert(mydatetime.setDate(32)==False),\"Should return False if invalid input\"\n",
    "assert(mydatetime.date == 12),\"Date should have been set to 12\"\n",
    "assert(mydatetime.getDateTime() == '1993-12-12 00:00:00'),\"Valid string returned should be 1993-12-12 00:00:00\"\n",
    "\n",
    "# Test hour\n",
    "mydatetime.setHour(12)\n",
    "assert(mydatetime.hour == 12),\"Hour should have been set to 12\"\n",
    "assert(mydatetime.setHour(32)==False),\"Should return False if invalid input\"\n",
    "assert(mydatetime.hour == 12),\"hour should have been set to 12\"\n",
    "\n",
    "# Test minute\n",
    "mydatetime.setMinute(12)\n",
    "assert(mydatetime.minute == 12),\"Minute should have been set to 12\"\n",
    "assert(mydatetime.setMinute(60)==False),\"Should return False if invalid input\"\n",
    "assert(mydatetime.minute == 12),\"Minute should have been set to 12\"\n",
    "\n",
    "# Test second\n",
    "mydatetime.setSecond(12)\n",
    "assert(mydatetime.second == 12),\"Second should have been set to 12\"\n",
    "assert(mydatetime.setSecond(60)==False),\"Should return False if invalid input\"\n",
    "assert(mydatetime.second == 12),\"Second should have been set to 12\"\n",
    "assert(mydatetime.getTime() == '12:12:12'),\"Valid string returned should be 12:12:12\""
   ]
  }
 ],
 "metadata": {
  "kernelspec": {
   "display_name": "Python 3",
   "language": "python",
   "name": "python3"
  },
  "language_info": {
   "codemirror_mode": {
    "name": "ipython",
    "version": 3
   },
   "file_extension": ".py",
   "mimetype": "text/x-python",
   "name": "python",
   "nbconvert_exporter": "python",
   "pygments_lexer": "ipython3",
   "version": "3.7.2"
  }
 },
 "nbformat": 4,
 "nbformat_minor": 2
}
