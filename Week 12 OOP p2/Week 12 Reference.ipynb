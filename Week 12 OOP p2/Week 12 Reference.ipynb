{
 "cells": [
  {
   "cell_type": "markdown",
   "metadata": {
    "slideshow": {
     "slide_type": "slide"
    }
   },
   "source": [
    "# Object-Oriented Programming (OOP)  in Python Part 2\n",
    "\n",
    "\n",
    "#### Mr. Kasey P. Martin, MIS\n"
   ]
  },
  {
   "cell_type": "markdown",
   "metadata": {
    "slideshow": {
     "slide_type": "slide"
    }
   },
   "source": [
    "## Outline:\n",
    "* Inheritance\n",
    "    * Child class\n",
    "    * Parent class\n",
    "* Advantages of Object-Oriented Programming"
   ]
  },
  {
   "cell_type": "markdown",
   "metadata": {
    "slideshow": {
     "slide_type": "slide"
    }
   },
   "source": [
    "## Inheritance\n",
    "- money, land, or possessions received from someone after the person has died _(law, property)_\n",
    "- a physical or mental characteristic inherited from your parents, or the process by which this happens _(biology)_\n",
    "\n",
    "<div style=\"text-align: right\"> - Cambridge Dictionary </div>"
   ]
  },
  {
   "cell_type": "markdown",
   "metadata": {
    "slideshow": {
     "slide_type": "slide"
    }
   },
   "source": [
    "## Inheritance\n",
    "* Process of creating a new class that takes on the attributes and methods of another class\n",
    "    * New class is called the `child class`\n",
    "    * The class where a child class is derived from is called the `parent class`"
   ]
  },
  {
   "cell_type": "markdown",
   "metadata": {
    "slideshow": {
     "slide_type": "slide"
    }
   },
   "source": [
    "## Inheritance: Parent Class\n",
    "- Parent Class is just a standard Python class"
   ]
  },
  {
   "cell_type": "code",
   "execution_count": 1,
   "metadata": {
    "slideshow": {
     "slide_type": "-"
    }
   },
   "outputs": [],
   "source": [
    "class Person: \n",
    "    def __init__(self, name, address):\n",
    "        self.name = name\n",
    "        self.address = address\n",
    "        self.email = name.replace(\" \",\"\").lower() + \"@eit.com\"\n",
    "        \n",
    "    def getInfo(self):\n",
    "        print(\"Name: \" + self.name +\n",
    "             \"\\nAddress: \" + self.address +\n",
    "             \"\\nE-mail: \" + self.email)"
   ]
  },
  {
   "cell_type": "markdown",
   "metadata": {
    "slideshow": {
     "slide_type": "slide"
    }
   },
   "source": [
    "## Inheritance: Child Class \n",
    "- For a child class, we simply add the name of the parent class in the class declaration using the following format:\n",
    "    ``` python\n",
    "    class ChildClassName(ParentClassName):\n",
    "        \n",
    "    ```"
   ]
  },
  {
   "cell_type": "code",
   "execution_count": 2,
   "metadata": {
    "slideshow": {
     "slide_type": "-"
    }
   },
   "outputs": [
    {
     "name": "stdout",
     "output_type": "stream",
     "text": [
      "Name: John Doe\n",
      "Address: Australia\n",
      "E-mail: johndoe@eit.com\n"
     ]
    }
   ],
   "source": [
    "class Student(Person):\n",
    "    pass \n",
    "\n",
    "student = Student(\"John Doe\", \"Australia\")\n",
    "student.getInfo()"
   ]
  },
  {
   "cell_type": "markdown",
   "metadata": {
    "slideshow": {
     "slide_type": "slide"
    }
   },
   "source": [
    "## Inheritance: Child Class\n",
    "- We can use child classes to extend the functionality of the parent class, without modifying the base class \n",
    "- We can extend the functionality of a child class by:\n",
    "    - adding more attributes\n",
    "    - adding more attribute methods\n",
    "    - extending/overwriting attribute methods"
   ]
  },
  {
   "cell_type": "markdown",
   "metadata": {
    "slideshow": {
     "slide_type": "slide"
    }
   },
   "source": [
    "## Inheritance: Child Class\n",
    "- We can add more attributes by extending the `__init__` function\n",
    "- To make sure we don't overwrite the `__init__` of the base class, call `super().__init__` inside new `__init__` function"
   ]
  },
  {
   "cell_type": "code",
   "execution_count": 3,
   "metadata": {
    "slideshow": {
     "slide_type": "slide"
    }
   },
   "outputs": [],
   "source": [
    "class Student(Person):\n",
    "    def __init__(self, name, address):\n",
    "        # call super() function\n",
    "        super().__init__(name, address)\n",
    "        \n",
    "        self.scores = None\n",
    "        self.grade = None"
   ]
  },
  {
   "cell_type": "markdown",
   "metadata": {
    "slideshow": {
     "slide_type": "slide"
    }
   },
   "source": [
    "## Inheritance: Child Class\n",
    "- To add a new instance method, just add the method as you would in a normal class"
   ]
  },
  {
   "cell_type": "code",
   "execution_count": 4,
   "metadata": {
    "slideshow": {
     "slide_type": "slide"
    }
   },
   "outputs": [],
   "source": [
    "class Student(Person):\n",
    "    def __init__(self, name, address):\n",
    "        # call super() function\n",
    "        super().__init__(name, address)\n",
    "        \n",
    "        self.scores = None\n",
    "        self.grade = None\n",
    "        \n",
    "    def getRemark(self):\n",
    "        if self.grade is None:\n",
    "            self.remark = 'No grades released yet.'        \n",
    "        elif self.grade < 60:\n",
    "            self.remark = 'Failing'\n",
    "        elif self.grade >= 60 and self.grade < 70:\n",
    "            self.remark = 'Conditional'\n",
    "        elif self.grade >= 70:\n",
    "            self.remark = 'Passing'\n",
    "        \n",
    "        return self.remark\n"
   ]
  },
  {
   "cell_type": "markdown",
   "metadata": {
    "slideshow": {
     "slide_type": "slide"
    }
   },
   "source": [
    "## Inheritance: Child Class\n",
    "- We can also overwrite instance methods, just redeclare the instance method again in your child class\n",
    "- if you want to extend the instance method, use `super()` to execute the base class' instance method first then add in your code"
   ]
  },
  {
   "cell_type": "markdown",
   "metadata": {
    "slideshow": {
     "slide_type": "slide"
    }
   },
   "source": [
    "## Inheritance: Instance Method Overwriting"
   ]
  },
  {
   "cell_type": "code",
   "execution_count": 5,
   "metadata": {
    "slideshow": {
     "slide_type": "-"
    }
   },
   "outputs": [
    {
     "name": "stdout",
     "output_type": "stream",
     "text": [
      "scores: NA\n",
      "grades: NA\n",
      "No grades released yet.\n"
     ]
    }
   ],
   "source": [
    "class Student(Person):\n",
    "    def __init__(self, name, address):\n",
    "        # call super() function\n",
    "        super().__init__(name, address)\n",
    "        \n",
    "        self.scores = None\n",
    "        self.grade = None\n",
    "\n",
    "    def getRemark(self):\n",
    "        if self.grade is None:\n",
    "            self.remark = 'No grades released yet.'        \n",
    "        elif self.grade < 60:\n",
    "            self.remark = 'Failing'\n",
    "        elif self.grade >= 60 and self.grade < 70:\n",
    "            self.remark = 'Conditional'\n",
    "        elif self.grade >= 70:\n",
    "            self.remark = 'Passing'\n",
    "        \n",
    "        return self.remark\n",
    "    \n",
    "    def getInfo(self):\n",
    "        if self.scores:\n",
    "            print(\"scores:\",self.scores)\n",
    "        else:\n",
    "            print(\"scores: NA\")\n",
    "        if self.grade:\n",
    "            print(\"grade:\",self.grade)\n",
    "        else:\n",
    "            print(\"grades: NA\")\n",
    "        print(self.getRemark())\n",
    "        \n",
    "\n",
    "student = Student(\"John Doe\", \"Australia\")\n",
    "student.getInfo()"
   ]
  },
  {
   "cell_type": "markdown",
   "metadata": {
    "slideshow": {
     "slide_type": "slide"
    }
   },
   "source": [
    "## Inheritance: Instance Method Extending"
   ]
  },
  {
   "cell_type": "code",
   "execution_count": 6,
   "metadata": {
    "slideshow": {
     "slide_type": "-"
    }
   },
   "outputs": [
    {
     "name": "stdout",
     "output_type": "stream",
     "text": [
      "Name: John Doe\n",
      "Address: Australia\n",
      "E-mail: johndoe@eit.com\n",
      "scores: NA\n",
      "grades: NA\n",
      "No grades released yet.\n"
     ]
    }
   ],
   "source": [
    "class Student(Person):\n",
    "    def __init__(self, name, address):\n",
    "        # call super() function\n",
    "        super().__init__(name, address)\n",
    "        \n",
    "        self.scores = None\n",
    "        self.grade = None\n",
    "\n",
    "    def getRemark(self):\n",
    "        if self.grade is None:\n",
    "            self.remark = 'No grades released yet.'        \n",
    "        elif self.grade < 60:\n",
    "            self.remark = 'Failing'\n",
    "        elif self.grade >= 60 and self.grade < 70:\n",
    "            self.remark = 'Conditional'\n",
    "        elif self.grade >= 70:\n",
    "            self.remark = 'Passing'\n",
    "        \n",
    "        return self.remark\n",
    "    \n",
    "    def getInfo(self):\n",
    "        super().getInfo()\n",
    "        if self.scores:\n",
    "            print(\"scores:\",self.scores)\n",
    "        else:\n",
    "            print(\"scores: NA\")\n",
    "        if self.grade:\n",
    "            print(\"grade:\",self.grade)\n",
    "        else:\n",
    "            print(\"grades: NA\")\n",
    "        print(self.getRemark())\n",
    "        \n",
    "\n",
    "student = Student(\"John Doe\", \"Australia\")\n",
    "student.getInfo()"
   ]
  },
  {
   "cell_type": "markdown",
   "metadata": {
    "slideshow": {
     "slide_type": "slide"
    }
   },
   "source": [
    "## Inheritance: Child Class\n",
    "- We can create multiple classes from a base class, here is an example of an instructor that has a number of students enrolled to that object"
   ]
  },
  {
   "cell_type": "code",
   "execution_count": 7,
   "metadata": {
    "slideshow": {
     "slide_type": "-"
    }
   },
   "outputs": [],
   "source": [
    "import statistics\n",
    "\n",
    "class Instructor(Person):\n",
    "    def __init__(self, name, address, students=None):\n",
    "        # call super() function\n",
    "        super().__init__(name, address)     \n",
    "        if students is not None:\n",
    "            self.students = students\n",
    "    \n",
    "    def gradeStudent(self, name, scores):\n",
    "        self.students[name].scores = scores\n",
    "        self.students[name].grade = statistics.mean(scores)"
   ]
  },
  {
   "cell_type": "code",
   "execution_count": 8,
   "metadata": {
    "slideshow": {
     "slide_type": "slide"
    }
   },
   "outputs": [
    {
     "name": "stdout",
     "output_type": "stream",
     "text": [
      "Name: Lindsey Williams\n",
      "Address: 78940 Rivera River, Josephfort, IL 65457\n",
      "E-mail: lindseywilliams@eit.com\n",
      "scores: NA\n",
      "grades: NA\n",
      "No grades released yet.\n",
      "Name: Allison Valenzuela\n",
      "Address: 57049 Blair Forge, Lake Adamland, RI 83807\n",
      "E-mail: allisonvalenzuela@eit.com\n",
      "scores: NA\n",
      "grades: NA\n",
      "No grades released yet.\n",
      "Name: Ashley Fisher\n",
      "Address: 852 Michelle Stravenue Apt. 563, Justinstad, OH 84542\n",
      "E-mail: ashleyfisher@eit.com\n",
      "scores: NA\n",
      "grades: NA\n",
      "No grades released yet.\n",
      "Name: David Payne\n",
      "Address: 57899 Amy Ports Suite 430, Michaeltown, MT 62038\n",
      "E-mail: davidpayne@eit.com\n",
      "scores: NA\n",
      "grades: NA\n",
      "No grades released yet.\n",
      "Name: Jose Gray\n",
      "Address: 975 Brown Shoals, Mariamouth, NC 62562\n",
      "E-mail: josegray@eit.com\n",
      "scores: NA\n",
      "grades: NA\n",
      "No grades released yet.\n",
      "Name: Kasey Martin\n",
      "Address: Baguio City\n",
      "E-mail: kaseymartin@eit.com\n",
      "{'Lindsey Williams': <__main__.Student object at 0x000001F2D86294A8>, 'Allison Valenzuela': <__main__.Student object at 0x000001F2D861BDA0>, 'Ashley Fisher': <__main__.Student object at 0x000001F2D8915EF0>, 'David Payne': <__main__.Student object at 0x000001F2DA820D30>, 'Jose Gray': <__main__.Student object at 0x000001F2DA820D68>}\n"
     ]
    }
   ],
   "source": [
    "# Let's use our Student and Instructor class practically! From a student_list.csv, create a dictionary of students\n",
    "# then add them to an instructor object\n",
    "\n",
    "import pandas as pd\n",
    "\n",
    "students_df = pd.read_csv(\"student_list.csv\")     \n",
    "\n",
    "student_list = {}\n",
    "\n",
    "for row in students_df.itertuples():\n",
    "    row = row._asdict()\n",
    "    student = Student(row[\"name\"], row[\"address\"])\n",
    "    student_list[row[\"name\"]] = student\n",
    "    student.getInfo()\n",
    "\n",
    "kasey = Instructor(\"Kasey Martin\", \"Baguio City\", student_list)\n",
    "kasey.getInfo()\n",
    "print(kasey.students)"
   ]
  },
  {
   "cell_type": "code",
   "execution_count": 9,
   "metadata": {
    "slideshow": {
     "slide_type": "slide"
    }
   },
   "outputs": [
    {
     "name": "stdout",
     "output_type": "stream",
     "text": [
      "Name: Lindsey Williams\n",
      "Address: 78940 Rivera River, Josephfort, IL 65457\n",
      "E-mail: lindseywilliams@eit.com\n",
      "scores: [100.0, 90.0, 89.0, 92.0]\n",
      "grade: 92.75\n",
      "Passing\n",
      "Name: Allison Valenzuela\n",
      "Address: 57049 Blair Forge, Lake Adamland, RI 83807\n",
      "E-mail: allisonvalenzuela@eit.com\n",
      "scores: [95.0, 91.0, 87.0, 91.0]\n",
      "grade: 91.0\n",
      "Passing\n",
      "Name: Ashley Fisher\n",
      "Address: 852 Michelle Stravenue Apt. 563, Justinstad, OH 84542\n",
      "E-mail: ashleyfisher@eit.com\n",
      "scores: [75.0, 80.0, 74.0, 82.0]\n",
      "grade: 77.75\n",
      "Passing\n",
      "Name: David Payne\n",
      "Address: 57899 Amy Ports Suite 430, Michaeltown, MT 62038\n",
      "E-mail: davidpayne@eit.com\n",
      "scores: [60.0, 72.0, 65.0, 40.0]\n",
      "grade: 59.25\n",
      "Failing\n",
      "Name: Jose Gray\n",
      "Address: 975 Brown Shoals, Mariamouth, NC 62562\n",
      "E-mail: josegray@eit.com\n",
      "scores: [88.0, 50.0, 92.0, 74.0]\n",
      "grade: 76.0\n",
      "Passing\n"
     ]
    }
   ],
   "source": [
    "# now lets load up a grades.csv containing the quarterly grades of a student, then let an instructor grade the\n",
    "# students using those quarterly grades\n",
    "grades_df = pd.read_csv(\"grades.csv\")     \n",
    "\n",
    "for row in grades_df.itertuples():\n",
    "    row = row._asdict()\n",
    "    scores=[float(row[\"q1\"]),float(row[\"q2\"]),float(row[\"q3\"]),float(row[\"q4\"])]\n",
    "    kasey.gradeStudent(row[\"name\"], scores)\n",
    "    kasey.students[row['name']].getInfo()"
   ]
  },
  {
   "cell_type": "markdown",
   "metadata": {
    "slideshow": {
     "slide_type": "slide"
    }
   },
   "source": [
    "## Advantages of Object-Oriented Programming\n",
    "* OOP increases code reusability\n",
    "    * For example, inheritance allows us to make a generic class and create subclasses based from its attributes and methods\n",
    "    * This would also mean faster development for future projects\n",
    "* The modular approach in OOP results in highly maintainable code\n",
    "    * Troubleshooting becomes easier because we can narrow down where to look\n",
    "    * Modularity allows us to edit code locally without affecting other parts of the program\n",
    "* More code flexibility and security using OOP's other concepts like polymorphism, and data encapsulation (you can read more about these)"
   ]
  },
  {
   "cell_type": "markdown",
   "metadata": {
    "slideshow": {
     "slide_type": "slide"
    }
   },
   "source": [
    "# THANK YOU!"
   ]
  }
 ],
 "metadata": {
  "celltoolbar": "Slideshow",
  "kernelspec": {
   "display_name": "Python 3",
   "language": "python",
   "name": "python3"
  },
  "language_info": {
   "codemirror_mode": {
    "name": "ipython",
    "version": 3
   },
   "file_extension": ".py",
   "mimetype": "text/x-python",
   "name": "python",
   "nbconvert_exporter": "python",
   "pygments_lexer": "ipython3",
   "version": "3.7.1"
  },
  "rise": {
   "scroll": true
  }
 },
 "nbformat": 4,
 "nbformat_minor": 2
}
