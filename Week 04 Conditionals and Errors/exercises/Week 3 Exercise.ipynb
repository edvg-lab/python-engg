{
 "cells": [
  {
   "cell_type": "markdown",
   "metadata": {},
   "source": [
    "# Determine if Three Points Make a Triangle\n",
    "\n",
    "Given three points *`P1(x1, y1)`*, *`P2(x2, y2)`* and *`P3(x3, y3)`*, we can actually find out whether those points, when plotted and connected, do form a triangle. To solve this predicament, we find the slope between `P1` and `P2`, and the slope between `P2` and `P3`. If the two slopes are not equal to each other, then their lines would intersect. This means that the instersection can already form two sides of a triangle, while the third line formed when connecting all vertices completes the triangle. When the two calculated slopes are equal though, this would mean that all three points just belong to a single line, which is, not a triangle.\n",
    "\n",
    "Slope formula:\n",
    "\\begin{equation*}\n",
    "slope = \\frac{Y_f - Y_0}{X_f - X_0}\n",
    "\\end{equation*}\n",
    "\n",
    "## Requirements:\n",
    "1. User will be prompted for three points\n",
    "    ``` \n",
    "    Enter first point's x coordinate: 0\n",
    "    Enter first point's y coordinate: 5\n",
    "    Enter second point's x coordinate: -5\n",
    "    Enter second point's y coordinate: 0\n",
    "    Enter third point's x coordinate: 5\n",
    "    Enter third point's y coordinate: 0\n",
    "    ```\n",
    "2. Print out points entered by user\n",
    "    ```\n",
    "    P1: 0,5\n",
    "    P2: -5,0\n",
    "    P3: 5,0\n",
    "    ```\n",
    "3. Calculate slopes and print out values:\n",
    "    ```\n",
    "    Slope1: 1.0\n",
    "    Slope2: -1.0\n",
    "    ```\n",
    "4. Print out whether points form a triangle:\n",
    "    ```\n",
    "    Slopes not equal, points does form a triangle\n",
    "    ```"
   ]
  },
  {
   "cell_type": "code",
   "execution_count": 4,
   "metadata": {},
   "outputs": [],
   "source": [
    "# insert code here"
   ]
  }
 ],
 "metadata": {
  "kernelspec": {
   "display_name": "Python 3",
   "language": "python",
   "name": "python3"
  },
  "language_info": {
   "codemirror_mode": {
    "name": "ipython",
    "version": 3
   },
   "file_extension": ".py",
   "mimetype": "text/x-python",
   "name": "python",
   "nbconvert_exporter": "python",
   "pygments_lexer": "ipython3",
   "version": "3.7.2"
  }
 },
 "nbformat": 4,
 "nbformat_minor": 2
}
