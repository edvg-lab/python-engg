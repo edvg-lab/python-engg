{
 "cells": [
  {
   "cell_type": "markdown",
   "metadata": {
    "slideshow": {
     "slide_type": "slide"
    }
   },
   "source": [
    "# Functions in Python\n",
    "\n",
    "\n",
    "#### Mr. Kasey P. Martin, MIS\n"
   ]
  },
  {
   "cell_type": "markdown",
   "metadata": {
    "slideshow": {
     "slide_type": "slide"
    }
   },
   "source": [
    "## Outline\n",
    "* Functions\n",
    "    * Defining functions\n",
    "    * Calling functions\n",
    "    * Functions without returns\n",
    "    * Argument passing"
   ]
  },
  {
   "cell_type": "markdown",
   "metadata": {
    "slideshow": {
     "slide_type": "slide"
    }
   },
   "source": [
    "## Functions"
   ]
  },
  {
   "cell_type": "markdown",
   "metadata": {
    "slideshow": {
     "slide_type": "slide"
    }
   },
   "source": [
    "## Functions\n",
    "* A block of reusable code that performs a certain task\n",
    "* Used to eliminate code duplication, thus improving code reusability\n",
    "* We use the <i>def</i> statement to indicate the start of a function definition\n",
    "\n",
    "``` python\n",
    "def function_name(parameters):\n",
    "    # code block here\n",
    "    return expression\n",
    "```"
   ]
  },
  {
   "cell_type": "markdown",
   "metadata": {
    "slideshow": {
     "slide_type": "slide"
    }
   },
   "source": [
    "## Functions\n",
    "* Use a function name that describes what that function is doing\n",
    "* The code block within every function is always indented\n",
    "* <i>Parameters</i> and <i>return expression</i> are optional"
   ]
  },
  {
   "cell_type": "code",
   "execution_count": 7,
   "metadata": {
    "slideshow": {
     "slide_type": "slide"
    }
   },
   "outputs": [
    {
     "name": "stdout",
     "output_type": "stream",
     "text": [
      "Hello World\n",
      "Hi\n"
     ]
    }
   ],
   "source": [
    "#!/usr/bin/env python3\n",
    "\n",
    "def main(): #THIS IS AN EXAMPLE OF A FUNCTION\n",
    "    \"\"\" Main entry point of the app \"\"\"\n",
    "    print(\"Hello World\")\n",
    "\n",
    "if __name__ == \"__main__\":\n",
    "    # This is executed when run from the command line \n",
    "    main()"
   ]
  },
  {
   "cell_type": "code",
   "execution_count": 11,
   "metadata": {
    "slideshow": {
     "slide_type": "slide"
    }
   },
   "outputs": [
    {
     "name": "stdout",
     "output_type": "stream",
     "text": [
      "Hello World\n"
     ]
    }
   ],
   "source": [
    "#!/usr/bin/env python3\n",
    "\n",
    "\"\"\"\n",
    "EXAMPLE OF A FUNCTION WITHOUT PARAMETERS AND RETURN EXPRESSION\n",
    "\"\"\"\n",
    "def print_helloworld():\n",
    "    print(\"Hello World\")\n",
    "\n",
    "print_helloworld() "
   ]
  },
  {
   "cell_type": "markdown",
   "metadata": {
    "slideshow": {
     "slide_type": "slide"
    }
   },
   "source": [
    "### Parameters\n",
    "* Parameters (or arguments) specify what information, if any, a user has to provide in order to use the function \n",
    "* Passed by reference\n",
    "* Types of parameters\n",
    "    * Required Parameters\n",
    "    * Keyword Parameters\n",
    "    * Default Parameters"
   ]
  },
  {
   "cell_type": "markdown",
   "metadata": {
    "slideshow": {
     "slide_type": "slide"
    }
   },
   "source": [
    "### Required Parameters\n",
    "* Parameters passed to a function in correct positional order\n",
    "* Number of parameters declared should match number of parameters passed to a function\n",
    "\n",
    "``` python\n",
    "def function_name(arg1, arg2, ... , argn):\n",
    "    # do something with passed arguments\n",
    "\n",
    "# executing function\n",
    "function_name(passed_arg1, passed_arg2, ... , passed_argn)\n",
    "```"
   ]
  },
  {
   "cell_type": "code",
   "execution_count": 11,
   "metadata": {
    "slideshow": {
     "slide_type": "slide"
    }
   },
   "outputs": [
    {
     "name": "stdout",
     "output_type": "stream",
     "text": [
      "Enter mass in kg: 5.5\n",
      "Enter velocity in m/s: 10\n",
      "\n",
      "The kinetic energy of the object is 275.0 joules.\n"
     ]
    }
   ],
   "source": [
    "\"\"\"\n",
    "EXAMPLE OF A FUNCTION WITH PARAMETERS BUT WITHOUT RETURN EXPRESSION\n",
    "\"\"\"\n",
    "def calculate_ke(m, v):\n",
    "    ke = 0.5 * m * (v**2)\n",
    "    print(\"\\nThe kinetic energy of the object is \" + str(ke) + \" joules.\")\n",
    "\n",
    "mass = float(input(\"Enter mass in kg: \"))\n",
    "velocity = float(input(\"Enter velocity in m/s: \"))\n",
    "calculate_ke(mass, velocity)\n",
    "#calculate_ke(mass) #try removing velocity to force an error"
   ]
  },
  {
   "cell_type": "markdown",
   "metadata": {
    "slideshow": {
     "slide_type": "slide"
    }
   },
   "source": [
    "### Keyword Parameters\n",
    "* Allows you to enter arguments out of order\n",
    "* Declare function with desired order\n",
    "* Use the argument names declared in the function along with the assignment operation `=` and value in any arbitrary position\n",
    "* Number of parameters declared still should match number of parameters passed to a function\n",
    "\n",
    "``` python\n",
    "def function_name(arg1, arg2, ... , argn):\n",
    "    # do something with passed arguments\n",
    "\n",
    "# executing function\n",
    "function_name(passed_arg1 = value1, passed_argn = valuen, ... , passed_arg2 = value2)\n",
    "```"
   ]
  },
  {
   "cell_type": "code",
   "execution_count": 5,
   "metadata": {
    "slideshow": {
     "slide_type": "slide"
    }
   },
   "outputs": [
    {
     "name": "stdout",
     "output_type": "stream",
     "text": [
      "Enter mass in kg: 10\n",
      "Enter velocity in m/s: 10\n",
      "\n",
      "The kinetic energy of the object is 500.0 joules.\n"
     ]
    }
   ],
   "source": [
    "#!/usr/bin/env python3\n",
    "\n",
    "\"\"\"\n",
    "EXAMPLE OF A FUNCTION WITH PARAMETERS THAT ARE OUT OF ORDER\n",
    "\"\"\"\n",
    "\n",
    "def calculate_ke(m, v):\n",
    "    ke = 0.5 * m * (v**2)\n",
    "    print(\"\\nThe kinetic energy of the object is \" + str(ke) + \" joules.\")\n",
    "\n",
    "mass = float(input(\"Enter mass in kg: \"))\n",
    "velocity = float(input(\"Enter velocity in m/s: \"))\n",
    "calculate_ke(v=velocity, m=mass)"
   ]
  },
  {
   "cell_type": "markdown",
   "metadata": {
    "slideshow": {
     "slide_type": "slide"
    }
   },
   "source": [
    "### Default Parameters\n",
    "* Parameters with default values in case no value is provided\n",
    "* Use assignment operator `=` and default value after declared parameter name \n",
    "* default parameters should be declared after required parameters\n",
    "\n",
    "``` python\n",
    "def function_name(arg1, arg2, ..., argn_minus_1 = default_value , \n",
    "                  argn = default_value):\n",
    "    # do something with passed arguments\n",
    "\n",
    "# executing function with complete arguments\n",
    "function_name(passed_arg1, passed_arg2, ... , passed_argn)\n",
    "# executing function without default arguments\n",
    "function_name(passed_arg1, passed_arg2, ... , argn_minus_2)\n",
    "```"
   ]
  },
  {
   "cell_type": "code",
   "execution_count": 7,
   "metadata": {
    "slideshow": {
     "slide_type": "slide"
    }
   },
   "outputs": [
    {
     "name": "stdout",
     "output_type": "stream",
     "text": [
      "Enter mass in kg: 5\n",
      "Enter velocity in m/s: 5\n",
      "\n",
      "The kinetic energy of the object is 62.5 joules.\n",
      "Enter mass in kg: 5\n",
      "\n",
      "The kinetic energy of the object is 25000.0 joules.\n"
     ]
    }
   ],
   "source": [
    "#!/usr/bin/env python3\n",
    "\n",
    "\"\"\"\n",
    "EXAMPLE OF A FUNCTION WITH DEFAULT PARAMETERS\n",
    "\"\"\"\n",
    "\n",
    "def calculate_ke(m, v=100):\n",
    "    ke = 0.5 * m * (v**2)\n",
    "    print(\"\\nThe kinetic energy of the object is \" + str(ke) + \" joules.\")\n",
    "\n",
    "mass = float(input(\"Enter mass in kg: \"))\n",
    "velocity = float(input(\"Enter velocity in m/s: \"))\n",
    "calculate_ke(v=velocity, m=mass)\n",
    "\n",
    "mass = float(input(\"Enter mass in kg: \"))\n",
    "calculate_ke(mass)"
   ]
  },
  {
   "cell_type": "markdown",
   "metadata": {
    "slideshow": {
     "slide_type": "slide"
    }
   },
   "source": [
    "### Return Values\n",
    "* Exits a function, execution goes back to the main code block\n",
    "* Optionally returns an expression \n",
    "\n",
    "``` python\n",
    "def function_name (parameters):\n",
    "    # code block here\n",
    "    return expression\n",
    "```"
   ]
  },
  {
   "cell_type": "code",
   "execution_count": 8,
   "metadata": {
    "slideshow": {
     "slide_type": "slide"
    }
   },
   "outputs": [
    {
     "name": "stdout",
     "output_type": "stream",
     "text": [
      "Enter mass in kg: 10\n",
      "Enter velocity in m/s: 10\n",
      "\n",
      "The kinetic energy of the object is 500.0 joules.\n"
     ]
    }
   ],
   "source": [
    "\"\"\"\n",
    "EXAMPLE OF A FUNCTION WITH PARAMETERS AND RETURN EXPRESSION\n",
    "\"\"\"\n",
    "def calculate_ke(m, v):\n",
    "    ke = 0.5 * m * (v**2)\n",
    "    return ke\n",
    "\n",
    "mass = float(input(\"Enter mass in kg: \"))\n",
    "velocity = float(input(\"Enter velocity in m/s: \"))\n",
    "energy = calculate_ke(mass, velocity)\n",
    "\n",
    "print(\"\\nThe kinetic energy of the object is \" + str(energy) + \" joules.\")"
   ]
  },
  {
   "cell_type": "code",
   "execution_count": 13,
   "metadata": {
    "slideshow": {
     "slide_type": "slide"
    }
   },
   "outputs": [
    {
     "name": "stdout",
     "output_type": "stream",
     "text": [
      "Enter mass in kg: 1\n",
      "Enter velocity in m/s: 10\n",
      "\n",
      "The kinetic energy of the object is 50.0 joules.\n",
      "50.0\n"
     ]
    }
   ],
   "source": [
    "\"\"\"\n",
    "EXAMPLE OF A FUNCTION WITH PARAMETERS AND TWO RETURN EXPRESSIONS\n",
    "\"\"\"\n",
    "def calculate_ke(m, v):\n",
    "    ke = 0.5 * m * (v**2)\n",
    "    string = \"\\nThe kinetic energy of the object is \" + str(ke) + \" joules.\"\n",
    "    return ke, string\n",
    "\n",
    "mass = float(input(\"Enter mass in kg: \"))\n",
    "velocity = float(input(\"Enter velocity in m/s: \"))\n",
    "energy,to_print = calculate_ke(mass, velocity)\n",
    "\n",
    "print(energy)\n",
    "print(to_print)"
   ]
  }
 ],
 "metadata": {
  "celltoolbar": "Slideshow",
  "kernelspec": {
   "display_name": "Python 3",
   "language": "python",
   "name": "python3"
  },
  "language_info": {
   "codemirror_mode": {
    "name": "ipython",
    "version": 3
   },
   "file_extension": ".py",
   "mimetype": "text/x-python",
   "name": "python",
   "nbconvert_exporter": "python",
   "pygments_lexer": "ipython3",
   "version": "3.7.1"
  }
 },
 "nbformat": 4,
 "nbformat_minor": 2
}
