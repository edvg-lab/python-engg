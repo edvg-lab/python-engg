{
 "cells": [
  {
   "cell_type": "markdown",
   "metadata": {},
   "source": [
    "# Tidying up the student records spreadsheet\n",
    "\n",
    "From the discussions in class, you may have realised that the structure we've been using for encoding student's quarterly grades were considered messy. I've added the `student_id` and `major_spec` columns just to mess things up a bit more."
   ]
  },
  {
   "cell_type": "code",
   "execution_count": 3,
   "metadata": {},
   "outputs": [
    {
     "data": {
      "text/html": [
       "<div>\n",
       "<style scoped>\n",
       "    .dataframe tbody tr th:only-of-type {\n",
       "        vertical-align: middle;\n",
       "    }\n",
       "\n",
       "    .dataframe tbody tr th {\n",
       "        vertical-align: top;\n",
       "    }\n",
       "\n",
       "    .dataframe thead th {\n",
       "        text-align: right;\n",
       "    }\n",
       "</style>\n",
       "<table border=\"1\" class=\"dataframe\">\n",
       "  <thead>\n",
       "    <tr style=\"text-align: right;\">\n",
       "      <th></th>\n",
       "      <th>student_id</th>\n",
       "      <th>name</th>\n",
       "      <th>major_spec</th>\n",
       "      <th>Q1</th>\n",
       "      <th>Q2</th>\n",
       "      <th>Q3</th>\n",
       "      <th>Q4</th>\n",
       "    </tr>\n",
       "  </thead>\n",
       "  <tbody>\n",
       "    <tr>\n",
       "      <th>0</th>\n",
       "      <td>2019-1</td>\n",
       "      <td>Hector Henderson</td>\n",
       "      <td>engineering_computer</td>\n",
       "      <td>95</td>\n",
       "      <td>80</td>\n",
       "      <td>75</td>\n",
       "      <td>87</td>\n",
       "    </tr>\n",
       "    <tr>\n",
       "      <th>1</th>\n",
       "      <td>2019-2</td>\n",
       "      <td>Michael Williams</td>\n",
       "      <td>engineering_computer</td>\n",
       "      <td>74</td>\n",
       "      <td>92</td>\n",
       "      <td>76</td>\n",
       "      <td>86</td>\n",
       "    </tr>\n",
       "    <tr>\n",
       "      <th>2</th>\n",
       "      <td>2019-3</td>\n",
       "      <td>Michael Mcmillan</td>\n",
       "      <td>engineering_civil</td>\n",
       "      <td>99</td>\n",
       "      <td>74</td>\n",
       "      <td>79</td>\n",
       "      <td>97</td>\n",
       "    </tr>\n",
       "    <tr>\n",
       "      <th>3</th>\n",
       "      <td>2019-4</td>\n",
       "      <td>Jason Wright</td>\n",
       "      <td>artificial-intelligence_expert-systems</td>\n",
       "      <td>85</td>\n",
       "      <td>79</td>\n",
       "      <td>86</td>\n",
       "      <td>73</td>\n",
       "    </tr>\n",
       "    <tr>\n",
       "      <th>4</th>\n",
       "      <td>2019-5</td>\n",
       "      <td>David Dixon</td>\n",
       "      <td>engineering_computer</td>\n",
       "      <td>87</td>\n",
       "      <td>82</td>\n",
       "      <td>88</td>\n",
       "      <td>96</td>\n",
       "    </tr>\n",
       "  </tbody>\n",
       "</table>\n",
       "</div>"
      ],
      "text/plain": [
       "  student_id              name                              major_spec  Q1  \\\n",
       "0     2019-1  Hector Henderson                    engineering_computer  95   \n",
       "1     2019-2  Michael Williams                    engineering_computer  74   \n",
       "2     2019-3  Michael Mcmillan                       engineering_civil  99   \n",
       "3     2019-4      Jason Wright  artificial-intelligence_expert-systems  85   \n",
       "4     2019-5       David Dixon                    engineering_computer  87   \n",
       "\n",
       "   Q2  Q3  Q4  \n",
       "0  80  75  87  \n",
       "1  92  76  86  \n",
       "2  74  79  97  \n",
       "3  79  86  73  \n",
       "4  82  88  96  "
      ]
     },
     "execution_count": 3,
     "metadata": {},
     "output_type": "execute_result"
    }
   ],
   "source": [
    "import numpy as np\n",
    "import pandas as pd\n",
    "students_df = pd.read_csv('students.csv')\n",
    "students_df.head()"
   ]
  },
  {
   "cell_type": "markdown",
   "metadata": {},
   "source": [
    "#### Here is a description of the following columns:\n",
    "\n",
    "- `student_id` - student's identification number\n",
    "- `name` - full name of the student\n",
    "- `major_spec` - student's major and chosen specialization\n",
    "- `Q1` - first quarterly grade\n",
    "- `Q2` - second quarterly grade\n",
    "- `Q3` - third quarterly grade\n",
    "- `Q4` - fourth quarterly grade"
   ]
  },
  {
   "cell_type": "markdown",
   "metadata": {},
   "source": [
    "## Data Cleaning\n",
    "Perform data cleaning concepts learned in class to arrive with a dataframe with the following columns (order of the columns does not matter, they should however exist in your final dataframe):\n",
    "- `student_id` - student's identification number\n",
    "- `year_entered` - year the student first enrolled in the university\n",
    "- `name` - full name of the student\n",
    "- `major` - student's major\n",
    "- `specialization` - student's specialization\n",
    "- `quarter` - quarter of observation\n",
    "- `grade` - student's grade in the current quarter in `quarter` field\n",
    "\n",
    "store your final dataframe in a variable named `student_cleaned_df`. Also, save the dataframe in a csv file called `students_cleaned.csv`\n",
    "\n",
    "#### Hints: checkout this link for splitting strings in pandas which is VERY useful for this exercise: https://pandas.pydata.org/pandas-docs/stable/user_guide/text.html#splitting-and-replacing-strings"
   ]
  },
  {
   "cell_type": "code",
   "execution_count": 1,
   "metadata": {},
   "outputs": [],
   "source": [
    "# do your data cleaning here, dont forget to execute the code cell above to initialize the dataframe"
   ]
  },
  {
   "cell_type": "markdown",
   "metadata": {},
   "source": [
    "## Assertion tests\n",
    "Run the code below to check if there is anything missing in your implementation. The following code below checks for:\n",
    "- shape of your dataframe should be 400x7\n",
    "- existence of `student_id`, `name`, `quarter`, `grade`, `year_entered`, `major` and `specialization` inside the `student_cleaned_df` dataframe\n",
    "- existence of the `students_cleaned.csv` output csv file"
   ]
  },
  {
   "cell_type": "code",
   "execution_count": null,
   "metadata": {},
   "outputs": [],
   "source": [
    "assert 'student_id' in student_cleaned_df.columns, \"student_id column does not exist in student_cleaned_df\"\n",
    "assert 'name' in student_cleaned_df.columns, \"name column does not exist in student_cleaned_df\"\n",
    "assert 'quarter' in student_cleaned_df.columns, \"quarter column does not exist in student_cleaned_df\"\n",
    "assert 'grade' in student_cleaned_df.columns, \"grade column does not exist in student_cleaned_df\"\n",
    "assert 'year_entered' in student_cleaned_df.columns, \"year_entered column does not exist in student_cleaned_df\"\n",
    "assert 'major' in student_cleaned_df.columns, \"major column does not exist in student_cleaned_df\"\n",
    "assert 'specialization' in student_cleaned_df.columns, \"specialization column does not exist in student_cleaned_df\"\n",
    "assert student_cleaned_df.shape == (400,7), \"Dataframe's shape does not match expected shape\"\n",
    "from os import path\n",
    "assert path.exists('students_cleaned.csv'),\"students_cleaned.csv does not exists in current directory!\""
   ]
  }
 ],
 "metadata": {
  "kernelspec": {
   "display_name": "Python 3",
   "language": "python",
   "name": "python3"
  },
  "language_info": {
   "codemirror_mode": {
    "name": "ipython",
    "version": 3
   },
   "file_extension": ".py",
   "mimetype": "text/x-python",
   "name": "python",
   "nbconvert_exporter": "python",
   "pygments_lexer": "ipython3",
   "version": "3.7.2"
  }
 },
 "nbformat": 4,
 "nbformat_minor": 2
}
