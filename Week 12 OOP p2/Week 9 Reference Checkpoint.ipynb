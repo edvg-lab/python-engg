{
 "cells": [
  {
   "cell_type": "markdown",
   "metadata": {
    "slideshow": {
     "slide_type": "slide"
    }
   },
   "source": [
    "# Object-Oriented Programming (OOP)  in Python Part 2\n",
    "\n",
    "\n",
    "#### Mr. Kasey P. Martin, MIS\n"
   ]
  },
  {
   "cell_type": "markdown",
   "metadata": {
    "slideshow": {
     "slide_type": "slide"
    }
   },
   "source": [
    "## Outline:\n",
    "* Inheritance\n",
    "    * Child class\n",
    "    * Parent class\n",
    "* Advantages of Object-Oriented Programming"
   ]
  },
  {
   "cell_type": "markdown",
   "metadata": {
    "slideshow": {
     "slide_type": "slide"
    }
   },
   "source": [
    "## Inheritance\n",
    "* Process of creating a new class that takes on the attributes and methods of another class\n",
    "    * New class is called the `child class`\n",
    "    * The class where a child class is derived from is called the `parent class`"
   ]
  },
  {
   "cell_type": "code",
   "execution_count": 1,
   "metadata": {
    "slideshow": {
     "slide_type": "slide"
    }
   },
   "outputs": [],
   "source": [
    "# Parent Class\n",
    "\n",
    "class Person: \n",
    "    \n",
    "    def __init__(self, name, address):\n",
    "        self.name = name\n",
    "        self.address = address\n",
    "        self.email = name.replace(\" \",\"\").lower() + \"@eit.com\"\n",
    "        \n",
    "    def getInfo(self):\n",
    "        print(\"Name: \" + self.name +\n",
    "             \"\\nAddress: \" + self.address +\n",
    "             \"\\nE-mail: \" + self.email)"
   ]
  },
  {
   "cell_type": "code",
   "execution_count": 2,
   "metadata": {
    "slideshow": {
     "slide_type": "slide"
    }
   },
   "outputs": [],
   "source": [
    "# Child Class\n",
    "\n",
    "class Student(Person):\n",
    "    \n",
    "    def __init__(self, name, address):\n",
    "        # call super() function\n",
    "        super().__init__(name, address)\n",
    "        \n",
    "        self.scores = None\n",
    "        self.grade = None\n",
    "        \n",
    "    def getRemark(self):\n",
    "        if self.grade is None:\n",
    "            self.remark = 'No grades released yet.'        \n",
    "        elif self.grade < 60:\n",
    "            self.remark = 'Failing'\n",
    "        elif self.grade >= 60 and self.grade < 70:\n",
    "            self.remark = 'Conditional'\n",
    "        elif self.grade >= 70:\n",
    "            self.remark = 'Passing'\n",
    "        \n",
    "        return self.remark\n"
   ]
  },
  {
   "cell_type": "code",
   "execution_count": 3,
   "metadata": {
    "slideshow": {
     "slide_type": "slide"
    }
   },
   "outputs": [],
   "source": [
    "# Child Class\n",
    "import statistics\n",
    "\n",
    "class Instructor(Person):\n",
    "    def __init__(self, name, address, students=None):\n",
    "        # call super() function\n",
    "        super().__init__(name, address)\n",
    "        \n",
    "        if students is not None:\n",
    "            self.students = students\n",
    "    \n",
    "    def gradeStudent(self, student, scores):\n",
    "        student.scores = scores\n",
    "        student.grade = statistics.mean(scores)\n",
    "        \n",
    "        return student.grade"
   ]
  },
  {
   "cell_type": "code",
   "execution_count": 4,
   "metadata": {
    "slideshow": {
     "slide_type": "slide"
    }
   },
   "outputs": [
    {
     "name": "stdout",
     "output_type": "stream",
     "text": [
      "Name: Lindsey Williams\n",
      "Address: 78940 Rivera River, Josephfort, IL 65457\n",
      "E-mail: lindseywilliams@eit.com\n",
      "None\n",
      "Name: Allison Valenzuela\n",
      "Address: 57049 Blair Forge, Lake Adamland, RI 83807\n",
      "E-mail: allisonvalenzuela@eit.com\n",
      "None\n",
      "Name: Ashley Fisher\n",
      "Address: 852 Michelle Stravenue Apt. 563, Justinstad, OH 84542\n",
      "E-mail: ashleyfisher@eit.com\n",
      "None\n",
      "Name: David Payne\n",
      "Address: 57899 Amy Ports Suite 430, Michaeltown, MT 62038\n",
      "E-mail: davidpayne@eit.com\n",
      "None\n",
      "Name: Jose Gray\n",
      "Address: 975 Brown Shoals, Mariamouth, NC 62562\n",
      "E-mail: josegray@eit.com\n",
      "None\n",
      "92.75 -- Passing\n",
      "91.0 -- Passing\n",
      "77.75 -- Passing\n",
      "59.25 -- Failing\n",
      "76.0 -- Passing\n"
     ]
    }
   ],
   "source": [
    "import csv\n",
    "\n",
    "reader = open(\"student_list.csv\",\"r\")     \n",
    "csvfile = csv.DictReader(reader)\n",
    "\n",
    "student_list = {}\n",
    "\n",
    "for row in csvfile:\n",
    "    student = Student(row[\"name\"], row[\"address\"])\n",
    "    student_list[row[\"name\"]] = student\n",
    "    print(student.getInfo())\n",
    "\n",
    "reader.close()\n",
    "\n",
    "kasey = Instructor(\"Kasey Martin\", \"Baguio City\", student_list)\n",
    "\n",
    "reader = open(\"grades.csv\",\"r\")     \n",
    "csvfile = csv.DictReader(reader)\n",
    "\n",
    "scores=[]\n",
    "\n",
    "for row in csvfile:\n",
    "    scores=[float(row[\"q1\"]),float(row[\"q2\"]),float(row[\"q3\"]),float(row[\"q4\"])]\n",
    "    student_list[row[\"name\"]].grade = kasey.gradeStudent(student_list[row[\"name\"]],scores)\n",
    "    print(str(student_list[row[\"name\"]].grade) + \" -- \" + student_list[row[\"name\"]].getRemark())"
   ]
  },
  {
   "cell_type": "markdown",
   "metadata": {
    "slideshow": {
     "slide_type": "slide"
    }
   },
   "source": [
    "## Advantages of Object-Oriented Programming\n",
    "* OOP increases code reusability\n",
    "    * For example, inheritance allows us to make a generic class and create subclasses based from its attributes and methods\n",
    "    * This would also mean faster development for future projects\n",
    "* The modular approach in OOP results in highly maintainable code\n",
    "    * Troubleshooting becomes easier because we can narrow down where to look\n",
    "    * Modularity allows us to edit code locally without affecting other parts of the program\n",
    "* More code flexibility and security using OOP's other concepts like polymorphism, and data encapsulation (you can read more about these)"
   ]
  },
  {
   "cell_type": "markdown",
   "metadata": {
    "slideshow": {
     "slide_type": "slide"
    }
   },
   "source": [
    "# FIN :)"
   ]
  }
 ],
 "metadata": {
  "celltoolbar": "Slideshow",
  "kernelspec": {
   "display_name": "Python 3",
   "language": "python",
   "name": "python3"
  },
  "language_info": {
   "codemirror_mode": {
    "name": "ipython",
    "version": 3
   },
   "file_extension": ".py",
   "mimetype": "text/x-python",
   "name": "python",
   "nbconvert_exporter": "python",
   "pygments_lexer": "ipython3",
   "version": "3.7.2"
  }
 },
 "nbformat": 4,
 "nbformat_minor": 2
}
