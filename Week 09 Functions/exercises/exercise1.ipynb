{
 "cells": [
  {
   "cell_type": "markdown",
   "metadata": {
    "slideshow": {
     "slide_type": "slide"
    }
   },
   "source": [
    "# Temperature Converter\n",
    "\n",
    "Create a program that will ask if the user wants to convert CELSIUS TO FAHRENHEIT or FAHRENHEIT TO CELSIUS. \n",
    "Two functions should be created: <i>celsius_to_fahrenheit</i> and <i>fahrenheit_to_celsius</i>\n",
    "\n",
    "``` bash\n",
    "Do you want to convert:\n",
    "1) CELSIUS TO FAHRENHEIT\n",
    "2) FAHRENHEIT TO CELSIUS\n",
    "Enter Choice (1 or 2):\n",
    "```\n",
    "\n",
    "### Case 1: CELSIUS TO FAHRENHEIT\n",
    "\n",
    "Example input:\n",
    "\n",
    "``` bash\n",
    "Enter degrees in Celsius: 30\n",
    "```\n",
    "\n",
    "Expected output:\n",
    "\n",
    "``` bash\n",
    "Celsius: 30\n",
    "Fahrenheit: 86\n",
    "```\n",
    "\n",
    "### Case 2: FAHRENHEIT TO CELSIUS\n",
    "\n",
    "Example input:\n",
    "\n",
    "``` bash\n",
    "Enter degrees in Fahrenheit: 86\n",
    "```\n",
    "\n",
    "Expected output:\n",
    "\n",
    "``` bash\n",
    "Fahrenheit: 86\n",
    "Celsius: 30\n",
    "```\n",
    "\n",
    "## Looping\n",
    "\n",
    "After a successful conversion, the program should ask a user if they want to convert a value again or exit the program:\n",
    "\n",
    "``` bash\n",
    "Do you want to:\n",
    "1) Convert again\n",
    "2) Exit the program\n",
    "```\n",
    "\n",
    "### Case 1: Convert Again\n",
    "\n",
    "The program would ask the user for what method to use again:\n",
    "\n",
    "``` bash\n",
    "Do you want to convert:\n",
    "1) CELSIUS TO FAHRENHEIT\n",
    "2) FAHRENHEIT TO CELSIUS\n",
    "Enter Choice (1 or 2):\n",
    "```\n",
    "\n",
    "### Case 2: Exit the Program\n",
    "\n",
    "The program should gracefully exit the loop\n",
    "\n",
    "``` bash\n",
    "Program exiting. Thank you for using the converter!\n",
    "```\n",
    "\n",
    "\n",
    "#### TIP: Use week 1's code inside the functions"
   ]
  },
  {
   "cell_type": "code",
   "execution_count": 22,
   "metadata": {
    "slideshow": {
     "slide_type": "slide"
    }
   },
   "outputs": [],
   "source": [
    "# function definition\n",
    "# celsius_to_fahrenheit and fahrenheit_to_celsius\n",
    "def celsius_to_fahrenheit(celsius):\n",
    "    fahrenheit = (celsius * (9/5)) + 32\n",
    "    return fahrenheit\n",
    "\n",
    "def fahrenheit_to_celsius(fahrenheit):\n",
    "    celsius = (fahrenheit - 32) * (5/9)\n",
    "    return celsius"
   ]
  },
  {
   "cell_type": "code",
   "execution_count": 21,
   "metadata": {
    "slideshow": {
     "slide_type": "slide"
    }
   },
   "outputs": [],
   "source": [
    "# define conversion function\n",
    "def conversion():\n",
    "    print(\"Do you want to convert:\")\n",
    "    print(\"1) CELSIUS TO FAHRENHEIT\")\n",
    "    print(\"2) FAHRENHEIT TO CELSIUS\")\n",
    "    choice = input(\"Enter Choice (1 or 2):\")\n",
    "    if choice == '1':\n",
    "        c = float(input(\"Enter degrees in Celsius: \"))\n",
    "        f = celsius_to_fahrenheit(c)\n",
    "        print(\"Celsius: \",c)\n",
    "        print(\"Fahrenheit: \",f)\n",
    "    elif choice == '2':\n",
    "        f = float(input(\"Enter degrees in Fahrenheit: \"))\n",
    "        c = fahrenheit_to_c elsius(f)\n",
    "        print(\"Fahrenheit: \",f)\n",
    "        print(\"Celsius: \",c)\n",
    "\n",
    "    "
   ]
  },
  {
   "cell_type": "code",
   "execution_count": 23,
   "metadata": {
    "slideshow": {
     "slide_type": "slide"
    }
   },
   "outputs": [
    {
     "name": "stdout",
     "output_type": "stream",
     "text": [
      "Do you want to convert:\n",
      "1) CELSIUS TO FAHRENHEIT\n",
      "2) FAHRENHEIT TO CELSIUS\n",
      "Enter Choice (1 or 2):1\n",
      "Enter degrees in Celsius: 15\n",
      "Celsius:  15.0\n",
      "Fahrenheit:  59.0\n",
      "Do you want to:\n",
      "1) Convert again\n",
      "2) Exit the program\n",
      "Enter Choice (1 or 2):2\n",
      "Program exiting. Thank you for using the converter!\n"
     ]
    }
   ],
   "source": [
    "# Declare looper boolean\n",
    "looper_boolean = True\n",
    "# while Loop\n",
    "while looper_boolean:\n",
    "    # do conversion choice first\n",
    "    conversion()\n",
    "\n",
    "    # Prompt to repeat program\n",
    "    print(\"Do you want to:\")\n",
    "    print(\"1) Convert again\")\n",
    "    print(\"2) Exit the program\")\n",
    "    choice = input(\"Enter Choice (1 or 2):\")\n",
    "    # choice evaluation\n",
    "    if choice == '1':\n",
    "        continue\n",
    "    else:\n",
    "        looper_boolean = False\n",
    "        print(\"Program exiting. Thank you for using the converter!\")"
   ]
  }
 ],
 "metadata": {
  "celltoolbar": "Slideshow",
  "kernelspec": {
   "display_name": "Python 3",
   "language": "python",
   "name": "python3"
  },
  "language_info": {
   "codemirror_mode": {
    "name": "ipython",
    "version": 3
   },
   "file_extension": ".py",
   "mimetype": "text/x-python",
   "name": "python",
   "nbconvert_exporter": "python",
   "pygments_lexer": "ipython3",
   "version": "3.7.2"
  }
 },
 "nbformat": 4,
 "nbformat_minor": 2
}
