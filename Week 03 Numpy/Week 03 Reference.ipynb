{
 "cells": [
  {
   "cell_type": "markdown",
   "metadata": {
    "slideshow": {
     "slide_type": "slide"
    }
   },
   "source": [
    "# The Numpy Package\n",
    "\n",
    "### Kasey Martin, MIS"
   ]
  },
  {
   "cell_type": "markdown",
   "metadata": {
    "slideshow": {
     "slide_type": "slide"
    }
   },
   "source": [
    "## Outline\n",
    "- What is Numpy\n",
    "- Simple Benchmarks\n",
    "- Basic Operations\n",
    "- Matrix Manipulations\n",
    "- Numpy's `random` module"
   ]
  },
  {
   "cell_type": "markdown",
   "metadata": {
    "slideshow": {
     "slide_type": "slide"
    }
   },
   "source": [
    "## What is Numpy?\n",
    "- Package for scientific computing\n",
    "- High performance N-dimensional array object\n",
    "- Very useful for:\n",
    "    - Linear Algebra\n",
    "    - Advanced Random Number Generation "
   ]
  },
  {
   "cell_type": "markdown",
   "metadata": {
    "slideshow": {
     "slide_type": "slide"
    }
   },
   "source": [
    "## How to Add to Our Projects?\n",
    "\n",
    "- Already comes preinstalled with the Anaconda computing distribution \n",
    "- Use `import` to include into project:"
   ]
  },
  {
   "cell_type": "code",
   "execution_count": 1,
   "metadata": {
    "slideshow": {
     "slide_type": "-"
    }
   },
   "outputs": [],
   "source": [
    "import numpy as np"
   ]
  },
  {
   "cell_type": "markdown",
   "metadata": {
    "slideshow": {
     "slide_type": "slide"
    }
   },
   "source": [
    "## High performance N-dimensional array object\n",
    "- To create an N-dimensional array purely in Python, we create a list of lists\n",
    "- N-number of list elements\n",
    "- Each inner list is holds M number of elements\n",
    "- Let's try a 4x3 matrix"
   ]
  },
  {
   "cell_type": "code",
   "execution_count": 2,
   "metadata": {
    "slideshow": {
     "slide_type": "-"
    }
   },
   "outputs": [],
   "source": [
    "matrix = [\n",
    "    [1,2,3,4],\n",
    "    [5,6,7,8],\n",
    "    [9,10,11,12]\n",
    "]"
   ]
  },
  {
   "cell_type": "markdown",
   "metadata": {
    "slideshow": {
     "slide_type": "slide"
    }
   },
   "source": [
    "## High performance N-dimensional array object\n",
    "- To create a NxM matrix with numpy, we can use by default its `np.array` method\n",
    "- accepts a list by default"
   ]
  },
  {
   "cell_type": "code",
   "execution_count": 3,
   "metadata": {
    "slideshow": {
     "slide_type": "-"
    }
   },
   "outputs": [],
   "source": [
    "np_matrix = np.array([[1,2,3,4],[5,6,7,8],[9,10,11,12]])"
   ]
  },
  {
   "cell_type": "markdown",
   "metadata": {
    "slideshow": {
     "slide_type": "slide"
    }
   },
   "source": [
    "## Simple benchmark 1\n",
    "- Try multiplying the whole sample 4x3 matrix by 2\n",
    "- Use Jupyter Notebook's `%%time` magic keyword to measure execution time "
   ]
  },
  {
   "cell_type": "code",
   "execution_count": 4,
   "metadata": {
    "slideshow": {
     "slide_type": "slide"
    }
   },
   "outputs": [],
   "source": [
    "matrix = [\n",
    "    [1,2,3,4],\n",
    "    [5,6,7,8],\n",
    "    [9,10,11,12]\n",
    "]\n",
    "np_matrix = np.array([[1,2,3,4],[5,6,7,8],[9,10,11,12]])"
   ]
  },
  {
   "cell_type": "code",
   "execution_count": 5,
   "metadata": {
    "slideshow": {
     "slide_type": "-"
    }
   },
   "outputs": [
    {
     "name": "stdout",
     "output_type": "stream",
     "text": [
      "CPU times: user 11 µs, sys: 0 ns, total: 11 µs\n",
      "Wall time: 15 µs\n"
     ]
    }
   ],
   "source": [
    "%%time\n",
    "for x , row in enumerate(matrix):\n",
    "    for y,item in enumerate(row):\n",
    "        matrix[x][y] = item * 2"
   ]
  },
  {
   "cell_type": "code",
   "execution_count": 6,
   "metadata": {
    "slideshow": {
     "slide_type": "-"
    }
   },
   "outputs": [
    {
     "name": "stdout",
     "output_type": "stream",
     "text": [
      "CPU times: user 24 µs, sys: 5 µs, total: 29 µs\n",
      "Wall time: 32.2 µs\n"
     ]
    }
   ],
   "source": [
    "%%time\n",
    "np_matrix = np_matrix*2"
   ]
  },
  {
   "cell_type": "markdown",
   "metadata": {
    "slideshow": {
     "slide_type": "slide"
    }
   },
   "source": [
    "## Simple benchmark 2\n",
    "- Let's try multiplying a 1 million element list by 2"
   ]
  },
  {
   "cell_type": "code",
   "execution_count": 7,
   "metadata": {
    "slideshow": {
     "slide_type": "slide"
    }
   },
   "outputs": [
    {
     "name": "stdout",
     "output_type": "stream",
     "text": [
      "1000000\n",
      "1000000\n"
     ]
    }
   ],
   "source": [
    "vector = list(range(1000000))\n",
    "np_vector = np.arange(1000000)\n",
    "print(len(vector))\n",
    "print(len(np_vector))"
   ]
  },
  {
   "cell_type": "code",
   "execution_count": 8,
   "metadata": {
    "slideshow": {
     "slide_type": "-"
    }
   },
   "outputs": [
    {
     "name": "stdout",
     "output_type": "stream",
     "text": [
      "CPU times: user 142 ms, sys: 1.8 ms, total: 143 ms\n",
      "Wall time: 184 ms\n"
     ]
    }
   ],
   "source": [
    "%%time\n",
    "for i,x in enumerate(vector):\n",
    "    vector[i] = x*2"
   ]
  },
  {
   "cell_type": "code",
   "execution_count": 9,
   "metadata": {
    "slideshow": {
     "slide_type": "-"
    }
   },
   "outputs": [
    {
     "name": "stdout",
     "output_type": "stream",
     "text": [
      "CPU times: user 2.63 ms, sys: 3.03 ms, total: 5.65 ms\n",
      "Wall time: 5.38 ms\n"
     ]
    }
   ],
   "source": [
    "%%time\n",
    "np_vector = np_vector*2"
   ]
  },
  {
   "cell_type": "markdown",
   "metadata": {
    "slideshow": {
     "slide_type": "slide"
    }
   },
   "source": [
    "## Simple benchmark 3\n",
    "- Let's try multiplying a 1000x1000 matrix by 2"
   ]
  },
  {
   "cell_type": "code",
   "execution_count": 10,
   "metadata": {
    "slideshow": {
     "slide_type": "slide"
    }
   },
   "outputs": [],
   "source": [
    "matrix = []\n",
    "for row in range(1000):\n",
    "    matrix.append([])\n",
    "    for column in range(1000):\n",
    "        value = (row*1000)+column\n",
    "        matrix[row].append(value)\n",
    "        \n",
    "np_matrix = np.arange(1000000)\n",
    "np_matrix = np_matrix.reshape(1000,1000)"
   ]
  },
  {
   "cell_type": "code",
   "execution_count": 11,
   "metadata": {
    "slideshow": {
     "slide_type": "-"
    }
   },
   "outputs": [
    {
     "name": "stdout",
     "output_type": "stream",
     "text": [
      "CPU times: user 169 ms, sys: 3.1 ms, total: 172 ms\n",
      "Wall time: 171 ms\n"
     ]
    }
   ],
   "source": [
    "%%time\n",
    "for x , row in enumerate(matrix):\n",
    "    for y,item in enumerate(row):\n",
    "        matrix[x][y] = item * 2\n"
   ]
  },
  {
   "cell_type": "code",
   "execution_count": 12,
   "metadata": {
    "slideshow": {
     "slide_type": "-"
    }
   },
   "outputs": [
    {
     "name": "stdout",
     "output_type": "stream",
     "text": [
      "CPU times: user 2.65 ms, sys: 3.23 ms, total: 5.88 ms\n",
      "Wall time: 4.9 ms\n"
     ]
    }
   ],
   "source": [
    "%%time\n",
    "np_matrix = np_matrix*2"
   ]
  },
  {
   "cell_type": "markdown",
   "metadata": {
    "slideshow": {
     "slide_type": "slide"
    }
   },
   "source": [
    "## Matrix Initialization\n",
    "- `np.array([[list1],[list2],...,[listn]])` - creates an N-dimension matrix from list of lists"
   ]
  },
  {
   "cell_type": "code",
   "execution_count": 13,
   "metadata": {
    "slideshow": {
     "slide_type": "-"
    }
   },
   "outputs": [
    {
     "data": {
      "text/plain": [
       "array([[1, 2, 3],\n",
       "       [4, 5, 6],\n",
       "       [7, 8, 9]])"
      ]
     },
     "execution_count": 13,
     "metadata": {},
     "output_type": "execute_result"
    }
   ],
   "source": [
    "np.array([\n",
    "    [1,2,3],\n",
    "    [4,5,6],\n",
    "    [7,8,9]\n",
    "])"
   ]
  },
  {
   "cell_type": "markdown",
   "metadata": {
    "slideshow": {
     "slide_type": "slide"
    }
   },
   "source": [
    "## Matrix Initialization\n",
    "- `np.zeros([x,y,z,..])` - creates an N-dimension matrix of zeros\n",
    "- `np.ones([x,y,z,..])` - creates an N-dimension matrix of ones"
   ]
  },
  {
   "cell_type": "code",
   "execution_count": 14,
   "metadata": {
    "slideshow": {
     "slide_type": "-"
    }
   },
   "outputs": [
    {
     "name": "stdout",
     "output_type": "stream",
     "text": [
      "array of zeros:\n",
      "[[0. 0. 0. 0.]\n",
      " [0. 0. 0. 0.]\n",
      " [0. 0. 0. 0.]]\n",
      "array of ones:\n",
      "[[1. 1. 1. 1.]\n",
      " [1. 1. 1. 1.]\n",
      " [1. 1. 1. 1.]]\n"
     ]
    }
   ],
   "source": [
    "print(\"array of zeros:\")\n",
    "print(np.zeros((3,4)))\n",
    "print(\"array of ones:\")\n",
    "print(np.ones((3,4)))\n"
   ]
  },
  {
   "cell_type": "markdown",
   "metadata": {
    "slideshow": {
     "slide_type": "slide"
    }
   },
   "source": [
    "## Matrix Initialization\n",
    "- `np.full([x,y,z,..],value)` - creates an N-dimension matrix of a constant value\n",
    "- `np.random.random([x,y,z,..])` - creates an N-dimension matrix of random values"
   ]
  },
  {
   "cell_type": "code",
   "execution_count": 15,
   "metadata": {
    "slideshow": {
     "slide_type": "-"
    }
   },
   "outputs": [
    {
     "name": "stdout",
     "output_type": "stream",
     "text": [
      "array of constants:\n",
      "[[16 16 16 16]\n",
      " [16 16 16 16]\n",
      " [16 16 16 16]]\n",
      "array of random values:\n",
      "[[0.93236417 0.34040285 0.45188013 0.6264704 ]\n",
      " [0.91257783 0.72286607 0.21967525 0.93131759]\n",
      " [0.9488106  0.49443911 0.97786523 0.23043897]]\n"
     ]
    }
   ],
   "source": [
    "print(\"array of constants:\")\n",
    "print(np.full([3,4],16))\n",
    "print(\"array of random values:\")\n",
    "print(np.random.random([3,4]))"
   ]
  },
  {
   "cell_type": "markdown",
   "metadata": {
    "slideshow": {
     "slide_type": "slide"
    }
   },
   "source": [
    "## Matrix Initialization\n",
    "\n",
    "- `np.empty([x,y,z,..])` - creates an N-dimension empty matrix \n",
    "- `np.eye(N)` - creates an N-dimension identity matrix "
   ]
  },
  {
   "cell_type": "code",
   "execution_count": 16,
   "metadata": {
    "slideshow": {
     "slide_type": "-"
    }
   },
   "outputs": [
    {
     "name": "stdout",
     "output_type": "stream",
     "text": [
      "empty array:\n",
      "[[0.93236417 0.34040285 0.45188013 0.6264704 ]\n",
      " [0.91257783 0.72286607 0.21967525 0.93131759]\n",
      " [0.9488106  0.49443911 0.97786523 0.23043897]]\n",
      "identity matrix:\n",
      "[[1. 0. 0.]\n",
      " [0. 1. 0.]\n",
      " [0. 0. 1.]]\n"
     ]
    }
   ],
   "source": [
    "print(\"empty array:\")\n",
    "print(np.empty([3,4]))\n",
    "print(\"identity matrix:\")\n",
    "print(np.eye(3))"
   ]
  },
  {
   "cell_type": "markdown",
   "metadata": {
    "slideshow": {
     "slide_type": "slide"
    }
   },
   "source": [
    "## Matrix Initialization\n",
    "- `np.arange(start = 0, end, step=1)` - creates an 1d array from `start` to `end` with a step-size of `step`\n",
    "- `np.linspace(start=0,end,num=50)` - creates an 1d array from `start` to `end` with a size of `num` "
   ]
  },
  {
   "cell_type": "code",
   "execution_count": 17,
   "metadata": {
    "slideshow": {
     "slide_type": "-"
    }
   },
   "outputs": [
    {
     "name": "stdout",
     "output_type": "stream",
     "text": [
      "array of zeros:\n",
      "[10.  10.1 10.2 10.3 10.4 10.5 10.6 10.7 10.8 10.9 11.  11.1 11.2 11.3\n",
      " 11.4 11.5 11.6 11.7 11.8 11.9 12.  12.1 12.2 12.3 12.4 12.5 12.6 12.7\n",
      " 12.8 12.9 13.  13.1 13.2 13.3 13.4 13.5 13.6 13.7 13.8 13.9 14.  14.1\n",
      " 14.2 14.3 14.4 14.5 14.6 14.7 14.8 14.9]\n",
      "array of zeros:\n",
      "[10.         10.55555556 11.11111111 11.66666667 12.22222222 12.77777778\n",
      " 13.33333333 13.88888889 14.44444444 15.        ]\n"
     ]
    }
   ],
   "source": [
    "print(\"array of zeros:\")\n",
    "print(np.arange(10,15,0.1))\n",
    "print(\"array of zeros:\")\n",
    "print(np.linspace(10,15,10))"
   ]
  },
  {
   "cell_type": "markdown",
   "metadata": {
    "slideshow": {
     "slide_type": "slide"
    }
   },
   "source": [
    "## Linear Algebra: Operations\n",
    "- Numpy has efficient and readable operations for Linear Algebra\n",
    "\n",
    "<table>\n",
    "<tr>\n",
    "    <th>Operator</th>\n",
    "    <th>Numpy Method Format</th>\n",
    "    <th>Operation</th>\n",
    "</tr>\n",
    "<tr>\n",
    "    <td> A + B </td>\n",
    "    <td>np.add(A, B)</td>\n",
    "    <td>matrix addition</td>\n",
    "</tr>\n",
    "<tr>\n",
    "    <td> A - B </td>\n",
    "    <td>np.subtract(A,B)</td>\n",
    "    <td>matrix subtraction</td>\n",
    "</tr>\n",
    "<tr>\n",
    "    <td> A / B </td>\n",
    "    <td>np.divide(A, B)</td>\n",
    "    <td>matrix division</td>\n",
    "</tr>\n",
    "<tr>\n",
    "    <td> A * B </td>\n",
    "    <td>np.multiply(A,B)</td>\n",
    "    <td>matrix multiplication</td>\n",
    "</tr>\n",
    "<tr>\n",
    "    <td> A @ B </td>\n",
    "    <td>np.dot(A, B)</td>\n",
    "    <td>matrix dot multiplication</td>\n",
    "</tr>\n",
    "</table>"
   ]
  },
  {
   "cell_type": "code",
   "execution_count": 18,
   "metadata": {
    "slideshow": {
     "slide_type": "slide"
    }
   },
   "outputs": [
    {
     "name": "stdout",
     "output_type": "stream",
     "text": [
      "A:\n",
      " [[0 1 2]\n",
      " [3 4 5]\n",
      " [6 7 8]]\n",
      "B:\n",
      " [[52  3 21]\n",
      " [37 10 97]\n",
      " [41 65  4]]\n",
      "b:\n",
      " [2 4 6]\n",
      "scalar_cons:\n",
      " 2\n"
     ]
    }
   ],
   "source": [
    "# create matrices A and B\n",
    "A = np.arange(9)\n",
    "A = A.reshape(3,3)\n",
    "print('A:\\n',A)\n",
    "B = np.random.randint(1,100,size=(3,3))\n",
    "B = B.reshape(3,3)\n",
    "print('B:\\n',B)\n",
    "b = np.array([2,4,6])\n",
    "print('b:\\n',b)\n",
    "scalar_cons = 2\n",
    "print('scalar_cons:\\n',scalar_cons)"
   ]
  },
  {
   "cell_type": "markdown",
   "metadata": {
    "slideshow": {
     "slide_type": "slide"
    }
   },
   "source": [
    "## Scalar Addition and Subtraction\n",
    "- Addition:"
   ]
  },
  {
   "cell_type": "code",
   "execution_count": 19,
   "metadata": {
    "slideshow": {
     "slide_type": "-"
    }
   },
   "outputs": [
    {
     "name": "stdout",
     "output_type": "stream",
     "text": [
      "A:\n",
      " [[0 1 2]\n",
      " [3 4 5]\n",
      " [6 7 8]]\n",
      "scalar_cons:\n",
      " 2\n",
      "Scalar Addition:\n",
      " [[ 2  3  4]\n",
      " [ 5  6  7]\n",
      " [ 8  9 10]]\n"
     ]
    }
   ],
   "source": [
    "print('A:\\n',A)\n",
    "print('scalar_cons:\\n',scalar_cons)\n",
    "C = A + scalar_cons\n",
    "print('Scalar Addition:\\n',C)"
   ]
  },
  {
   "cell_type": "markdown",
   "metadata": {
    "slideshow": {
     "slide_type": "slide"
    }
   },
   "source": [
    "## Scalar Addition and Subtraction\n",
    "- Subtraction:"
   ]
  },
  {
   "cell_type": "code",
   "execution_count": 20,
   "metadata": {
    "slideshow": {
     "slide_type": "-"
    }
   },
   "outputs": [
    {
     "name": "stdout",
     "output_type": "stream",
     "text": [
      "A:\n",
      " [[0 1 2]\n",
      " [3 4 5]\n",
      " [6 7 8]]\n",
      "scalar_cons:\n",
      " 2\n",
      "Scalar Subtraction:\n",
      " [[-2 -1  0]\n",
      " [ 1  2  3]\n",
      " [ 4  5  6]]\n"
     ]
    }
   ],
   "source": [
    "print('A:\\n',A)\n",
    "print('scalar_cons:\\n',scalar_cons)\n",
    "C = A - scalar_cons\n",
    "print('Scalar Subtraction:\\n',C)"
   ]
  },
  {
   "cell_type": "markdown",
   "metadata": {
    "slideshow": {
     "slide_type": "slide"
    }
   },
   "source": [
    "## Vector Addition and Subtraction\n",
    "- Addition:"
   ]
  },
  {
   "cell_type": "code",
   "execution_count": 21,
   "metadata": {
    "slideshow": {
     "slide_type": "-"
    }
   },
   "outputs": [
    {
     "name": "stdout",
     "output_type": "stream",
     "text": [
      "A:\n",
      " [[0 1 2]\n",
      " [3 4 5]\n",
      " [6 7 8]]\n",
      "b:\n",
      " [2 4 6]\n",
      "Vector Addition:\n",
      " [[ 2  5  8]\n",
      " [ 5  8 11]\n",
      " [ 8 11 14]]\n"
     ]
    }
   ],
   "source": [
    "print('A:\\n',A)\n",
    "print('b:\\n',b)\n",
    "C = A + b\n",
    "print('Vector Addition:\\n',C)"
   ]
  },
  {
   "cell_type": "markdown",
   "metadata": {
    "slideshow": {
     "slide_type": "slide"
    }
   },
   "source": [
    "## Vector Addition and Subtraction\n",
    "- Subtraction:"
   ]
  },
  {
   "cell_type": "code",
   "execution_count": 22,
   "metadata": {
    "slideshow": {
     "slide_type": "-"
    }
   },
   "outputs": [
    {
     "name": "stdout",
     "output_type": "stream",
     "text": [
      "A:\n",
      " [[0 1 2]\n",
      " [3 4 5]\n",
      " [6 7 8]]\n",
      "b:\n",
      " [2 4 6]\n",
      "Vector Subtraction:\n",
      " [[-2 -3 -4]\n",
      " [ 1  0 -1]\n",
      " [ 4  3  2]]\n"
     ]
    }
   ],
   "source": [
    "print('A:\\n',A)\n",
    "print('b:\\n',b)\n",
    "C = A - b\n",
    "print('Vector Subtraction:\\n',C)"
   ]
  },
  {
   "cell_type": "markdown",
   "metadata": {
    "slideshow": {
     "slide_type": "slide"
    }
   },
   "source": [
    "## Matrix Addition and Subtraction\n",
    "- Addition:"
   ]
  },
  {
   "cell_type": "code",
   "execution_count": 23,
   "metadata": {
    "slideshow": {
     "slide_type": "-"
    }
   },
   "outputs": [
    {
     "name": "stdout",
     "output_type": "stream",
     "text": [
      "A:\n",
      " [[0 1 2]\n",
      " [3 4 5]\n",
      " [6 7 8]]\n",
      "B:\n",
      " [[52  3 21]\n",
      " [37 10 97]\n",
      " [41 65  4]]\n",
      "Matrix Addition:\n",
      " [[ 52   4  23]\n",
      " [ 40  14 102]\n",
      " [ 47  72  12]]\n"
     ]
    }
   ],
   "source": [
    "print('A:\\n',A)\n",
    "print('B:\\n',B)\n",
    "C = A + B\n",
    "print('Matrix Addition:\\n',C)"
   ]
  },
  {
   "cell_type": "markdown",
   "metadata": {
    "slideshow": {
     "slide_type": "slide"
    }
   },
   "source": [
    "## Matrix Addition and Subtraction\n",
    "- Subtraction:"
   ]
  },
  {
   "cell_type": "code",
   "execution_count": 24,
   "metadata": {
    "slideshow": {
     "slide_type": "-"
    }
   },
   "outputs": [
    {
     "name": "stdout",
     "output_type": "stream",
     "text": [
      "A:\n",
      " [[0 1 2]\n",
      " [3 4 5]\n",
      " [6 7 8]]\n",
      "B:\n",
      " [[52  3 21]\n",
      " [37 10 97]\n",
      " [41 65  4]]\n",
      "Matrix Subtraction:\n",
      " [[-52  -2 -19]\n",
      " [-34  -6 -92]\n",
      " [-35 -58   4]]\n"
     ]
    }
   ],
   "source": [
    "print('A:\\n',A)\n",
    "print('B:\\n',B)\n",
    "C = A - B\n",
    "print('Matrix Subtraction:\\n',C)"
   ]
  },
  {
   "cell_type": "markdown",
   "metadata": {
    "slideshow": {
     "slide_type": "slide"
    }
   },
   "source": [
    "## Matrix Multiplication\n",
    "- element-wise multiplication\n",
    "$$C=AB \\Leftrightarrow c_{ij} = a_{ij}b_{ij}$$"
   ]
  },
  {
   "cell_type": "code",
   "execution_count": 25,
   "metadata": {
    "slideshow": {
     "slide_type": "-"
    }
   },
   "outputs": [
    {
     "name": "stdout",
     "output_type": "stream",
     "text": [
      "A:\n",
      " [[0 1 2]\n",
      " [3 4 5]\n",
      " [6 7 8]]\n",
      "B:\n",
      " [[52  3 21]\n",
      " [37 10 97]\n",
      " [41 65  4]]\n",
      "Matrix Multiplication:\n",
      " [[  0   3  42]\n",
      " [111  40 485]\n",
      " [246 455  32]]\n"
     ]
    }
   ],
   "source": [
    "print('A:\\n',A)\n",
    "print('B:\\n',B)\n",
    "C = A * B\n",
    "print('Matrix Multiplication:\\n',C)"
   ]
  },
  {
   "cell_type": "markdown",
   "metadata": {
    "slideshow": {
     "slide_type": "slide"
    }
   },
   "source": [
    "## Matrix Dot Multiplication\n",
    "- Let **A** is an _n x m_matrix\n",
    "- Let **B** be an _m x p_ matrix\n",
    "$$C=A\\cdot B \\Leftrightarrow c_{ij} = \\sum_{k=1}^{n}a_{ik}b_{kj}$$\n",
    "- Where _i = 1, ..., n_ and _j = 1, ..., p_."
   ]
  },
  {
   "cell_type": "code",
   "execution_count": 26,
   "metadata": {
    "slideshow": {
     "slide_type": "slide"
    }
   },
   "outputs": [
    {
     "name": "stdout",
     "output_type": "stream",
     "text": [
      "A:\n",
      " [[0 1 2]\n",
      " [3 4 5]\n",
      " [6 7 8]]\n",
      "B:\n",
      " [[52  3 21]\n",
      " [37 10 97]\n",
      " [41 65  4]]\n",
      "Matrix Dot Multiplication:\n",
      " [[119 140 105]\n",
      " [509 374 471]\n",
      " [899 608 837]]\n"
     ]
    }
   ],
   "source": [
    "print('A:\\n',A)\n",
    "print('B:\\n',B)\n",
    "C = A @ B\n",
    "print('Matrix Dot Multiplication:\\n',C)"
   ]
  },
  {
   "cell_type": "markdown",
   "metadata": {
    "slideshow": {
     "slide_type": "slide"
    }
   },
   "source": [
    "## Matrix Scalar Division"
   ]
  },
  {
   "cell_type": "code",
   "execution_count": 27,
   "metadata": {
    "slideshow": {
     "slide_type": "-"
    }
   },
   "outputs": [
    {
     "name": "stdout",
     "output_type": "stream",
     "text": [
      "A:\n",
      " [[0 1 2]\n",
      " [3 4 5]\n",
      " [6 7 8]]\n",
      "scalar_cons:\n",
      " 2\n",
      "Scalar multiplication:\n",
      " [[0.  0.5 1. ]\n",
      " [1.5 2.  2.5]\n",
      " [3.  3.5 4. ]]\n"
     ]
    }
   ],
   "source": [
    "print('A:\\n',A)\n",
    "print('scalar_cons:\\n',scalar_cons)\n",
    "C = A / scalar_cons\n",
    "print('Scalar multiplication:\\n',C)"
   ]
  },
  {
   "cell_type": "markdown",
   "metadata": {
    "slideshow": {
     "slide_type": "slide"
    }
   },
   "source": [
    "## Matrix Vector Division"
   ]
  },
  {
   "cell_type": "code",
   "execution_count": 28,
   "metadata": {
    "slideshow": {
     "slide_type": "-"
    }
   },
   "outputs": [
    {
     "name": "stdout",
     "output_type": "stream",
     "text": [
      "A:\n",
      " [[0 1 2]\n",
      " [3 4 5]\n",
      " [6 7 8]]\n",
      "b:\n",
      " [2 4 6]\n",
      "Scalar multiplication:\n",
      " [[0.         0.25       0.33333333]\n",
      " [1.5        1.         0.83333333]\n",
      " [3.         1.75       1.33333333]]\n"
     ]
    }
   ],
   "source": [
    "print('A:\\n',A)\n",
    "print('b:\\n',b)\n",
    "C = A / b\n",
    "print('Scalar multiplication:\\n',C)"
   ]
  },
  {
   "cell_type": "markdown",
   "metadata": {
    "slideshow": {
     "slide_type": "slide"
    }
   },
   "source": [
    "## Matrix Division\n",
    "- element wise division\n",
    "$$ \\frac{A}{B} \\Leftrightarrow c_{ij} = \\sum_{k=1}^{n} \\frac{a_{ik}}{b_{kj}}$$"
   ]
  },
  {
   "cell_type": "code",
   "execution_count": 29,
   "metadata": {
    "slideshow": {
     "slide_type": "-"
    }
   },
   "outputs": [
    {
     "name": "stdout",
     "output_type": "stream",
     "text": [
      "A:\n",
      " [[0 1 2]\n",
      " [3 4 5]\n",
      " [6 7 8]]\n",
      "B:\n",
      " [[52  3 21]\n",
      " [37 10 97]\n",
      " [41 65  4]]\n",
      "Matrix element-wise Division(C = A / B):\n",
      " [[0.         0.33333333 0.0952381 ]\n",
      " [0.08108108 0.4        0.05154639]\n",
      " [0.14634146 0.10769231 2.        ]]\n"
     ]
    }
   ],
   "source": [
    "print('A:\\n',A)\n",
    "print('B:\\n',B)\n",
    "C =  A / B\n",
    "print('Matrix element-wise Division(C = A / B):\\n',C)"
   ]
  },
  {
   "cell_type": "markdown",
   "metadata": {
    "slideshow": {
     "slide_type": "slide"
    }
   },
   "source": [
    "## Matrix Division\n",
    "- True matrix division **(valid only if B has an inverse)**\n",
    "$$ \\frac{A}{B} = AB^{-1}$$"
   ]
  },
  {
   "cell_type": "code",
   "execution_count": 30,
   "metadata": {
    "slideshow": {
     "slide_type": "-"
    }
   },
   "outputs": [
    {
     "name": "stdout",
     "output_type": "stream",
     "text": [
      "A:\n",
      " [[0 1 2]\n",
      " [3 4 5]\n",
      " [6 7 8]]\n",
      "B:\n",
      " [[52  3 21]\n",
      " [37 10 97]\n",
      " [41 65  4]]\n",
      "Matrix Division(C = A / B):\n",
      " [[0.         0.33333333 0.0952381 ]\n",
      " [0.08108108 0.4        0.05154639]\n",
      " [0.14634146 0.10769231 2.        ]]\n",
      "Matrix Division(C = A @ B^-1):\n",
      " [[-0.02870432  0.02631077  0.01266162]\n",
      " [-0.02384746  0.05447177  0.05425884]\n",
      " [-0.01899059  0.08263277  0.09585606]]\n",
      "[[-5.89805982e-17  1.00000000e+00  2.00000000e+00]\n",
      " [ 3.00000000e+00  4.00000000e+00  5.00000000e+00]\n",
      " [ 6.00000000e+00  7.00000000e+00  8.00000000e+00]]\n"
     ]
    }
   ],
   "source": [
    "print('A:\\n',A)\n",
    "print('B:\\n',B)\n",
    "C =  A / B\n",
    "print('Matrix Division(C = A / B):\\n',C)\n",
    "C =  A@np.linalg.inv(B)\n",
    "print('Matrix Division(C = A @ B^-1):\\n',C)\n",
    "# validate that C is correct\n",
    "print(C@B)"
   ]
  },
  {
   "cell_type": "code",
   "execution_count": 31,
   "metadata": {
    "slideshow": {
     "slide_type": "slide"
    }
   },
   "outputs": [
    {
     "name": "stdout",
     "output_type": "stream",
     "text": [
      "A + B:\n",
      " [[ 52   4  23]\n",
      " [ 40  14 102]\n",
      " [ 47  72  12]]\n",
      "A - B:\n",
      " [[-52  -2 -19]\n",
      " [-34  -6 -92]\n",
      " [-35 -58   4]]\n",
      "A / B:\n",
      " [[0.         0.33333333 0.0952381 ]\n",
      " [0.08108108 0.4        0.05154639]\n",
      " [0.14634146 0.10769231 2.        ]]\n",
      "A * B:\n",
      " [[  0   3  42]\n",
      " [111  40 485]\n",
      " [246 455  32]]\n",
      "A @ B:\n",
      " [[119 140 105]\n",
      " [509 374 471]\n",
      " [899 608 837]]\n"
     ]
    }
   ],
   "source": [
    "# Sample operations\n",
    "print('A + B:\\n',A + B)\n",
    "print('A - B:\\n',A - B)\n",
    "print('A / B:\\n',A / B)\n",
    "print('A * B:\\n',A * B)\n",
    "print('A @ B:\\n',A @ B)"
   ]
  },
  {
   "cell_type": "markdown",
   "metadata": {
    "slideshow": {
     "slide_type": "slide"
    }
   },
   "source": [
    "## Matrix Manipulations\n",
    "- As seen earlier, we can change the dimensions of an existing matrix by the `reshape` function"
   ]
  },
  {
   "cell_type": "code",
   "execution_count": 32,
   "metadata": {
    "slideshow": {
     "slide_type": "-"
    }
   },
   "outputs": [
    {
     "name": "stdout",
     "output_type": "stream",
     "text": [
      "[0 1 2 3]\n",
      "[[0 1]\n",
      " [2 3]]\n"
     ]
    }
   ],
   "source": [
    "A = np.arange(4)\n",
    "print(A)\n",
    "print(A.reshape([2,2])) "
   ]
  },
  {
   "cell_type": "markdown",
   "metadata": {
    "slideshow": {
     "slide_type": "slide"
    }
   },
   "source": [
    "## Matrix Manipulations\n",
    "- To flatten a matrix, we have two functions:\n",
    "    - `ravel` returns flattened matrix\n",
    "    - `flatten` returns a _copy_ of the flattened matrix"
   ]
  },
  {
   "cell_type": "code",
   "execution_count": 33,
   "metadata": {
    "slideshow": {
     "slide_type": "slide"
    }
   },
   "outputs": [
    {
     "name": "stdout",
     "output_type": "stream",
     "text": [
      "C: [1 2 3 4 5 6]\n",
      "C: [1 2 3 4 5 7]\n",
      "B: [[1 2 3]\n",
      " [4 5 7]]\n"
     ]
    }
   ],
   "source": [
    "# ravel sample\n",
    "B = np.array([[1,2,3],[4,5,6]])\n",
    "C = B.ravel()\n",
    "print('C:',C)\n",
    "C[-1] = 7\n",
    "print('C:',C)\n",
    "print('B:',B)"
   ]
  },
  {
   "cell_type": "code",
   "execution_count": 34,
   "metadata": {
    "slideshow": {
     "slide_type": "slide"
    }
   },
   "outputs": [
    {
     "name": "stdout",
     "output_type": "stream",
     "text": [
      "C: [1 2 3 4 5 6]\n",
      "C: [1 2 3 4 5 7]\n",
      "B: [[1 2 3]\n",
      " [4 5 6]]\n"
     ]
    }
   ],
   "source": [
    "# flatten sample\n",
    "B = np.array([[1,2,3],[4,5,6]])\n",
    "C = B.flatten()\n",
    "print('C:',C)\n",
    "C[-1] = 7\n",
    "print('C:',C)\n",
    "print('B:',B)"
   ]
  },
  {
   "cell_type": "markdown",
   "metadata": {
    "slideshow": {
     "slide_type": "slide"
    }
   },
   "source": [
    "## Matrix Manipulations\n",
    "- Just like lists, numpy arrays also have the ability to add elements with the `append` method"
   ]
  },
  {
   "cell_type": "code",
   "execution_count": 35,
   "metadata": {
    "slideshow": {
     "slide_type": "slide"
    }
   },
   "outputs": [
    {
     "name": "stdout",
     "output_type": "stream",
     "text": [
      "A: [1 2 3 4 5]\n",
      "[1 2 3 4 5 1]\n",
      "[1 2 3 4 5 2 3 4]\n"
     ]
    }
   ],
   "source": [
    "A = np.array([1,2,3,4,5])\n",
    "print('A:',A)\n",
    "print(np.append(A,1))\n",
    "print(np.append(A,[2,3,4]))"
   ]
  },
  {
   "cell_type": "markdown",
   "metadata": {
    "slideshow": {
     "slide_type": "slide"
    }
   },
   "source": [
    "## Matrix Manipulations\n",
    "- Since Numpy excels in Linear Algebra operations, we also have very useful methods such as matrix transposing and taking the inverse of a matrix\n",
    "    - To transpose a matrix `A`: `A.T`\n",
    "    - To perform an inverse of matrix `A`: `np.linalg.inv(A)`"
   ]
  },
  {
   "cell_type": "code",
   "execution_count": 36,
   "metadata": {
    "slideshow": {
     "slide_type": "slide"
    }
   },
   "outputs": [
    {
     "name": "stdout",
     "output_type": "stream",
     "text": [
      "Transpose of A:\n",
      "[[ 2  8 14]\n",
      " [ 4 10 16]\n",
      " [ 6 12 18]]\n",
      "Inverse of A:\n",
      "[[ 1.57625987e+15 -3.15251974e+15  1.57625987e+15]\n",
      " [-3.15251974e+15  6.30503948e+15 -3.15251974e+15]\n",
      " [ 1.57625987e+15 -3.15251974e+15  1.57625987e+15]]\n"
     ]
    }
   ],
   "source": [
    "A = np.array([\n",
    "    [2,4,6],\n",
    "    [8,10,12],\n",
    "    [14,16,18]\n",
    "])\n",
    "print('Transpose of A:')\n",
    "print(A.T)\n",
    "print('Inverse of A:')\n",
    "print(np.linalg.inv(A))"
   ]
  },
  {
   "cell_type": "markdown",
   "metadata": {
    "slideshow": {
     "slide_type": "slide"
    }
   },
   "source": [
    "## Random: Simple random data\n",
    "- numpy provides a lot methods for generating simple random data. Two of which are:\n",
    "    - `np.random.rand(d0, d1, …, dn)` - generate a random number matrix with uniform distribution\n",
    "    - `np.random.randn(d0, d1, …, dn)` - generate a random number matrix with standard normal distribution"
   ]
  },
  {
   "cell_type": "code",
   "execution_count": 37,
   "metadata": {
    "slideshow": {
     "slide_type": "slide"
    }
   },
   "outputs": [
    {
     "data": {
      "text/plain": [
       "array([[0.51021144, 0.44186442],\n",
       "       [0.92831141, 0.36522915],\n",
       "       [0.48553739, 0.30924215]])"
      ]
     },
     "execution_count": 37,
     "metadata": {},
     "output_type": "execute_result"
    }
   ],
   "source": [
    "# random 3x2 matrix with uniform distribution\n",
    "np.random.rand(3,2)"
   ]
  },
  {
   "cell_type": "code",
   "execution_count": 38,
   "metadata": {
    "slideshow": {
     "slide_type": "slide"
    }
   },
   "outputs": [
    {
     "data": {
      "text/plain": [
       "array([[-0.31024414, -0.85432039],\n",
       "       [ 0.26757357, -0.88134475],\n",
       "       [ 0.27360596, -0.36603366]])"
      ]
     },
     "execution_count": 38,
     "metadata": {},
     "output_type": "execute_result"
    }
   ],
   "source": [
    "# random 3x2 matrix with standard normal distribution\n",
    "np.random.randn(3,2)"
   ]
  },
  {
   "cell_type": "markdown",
   "metadata": {
    "slideshow": {
     "slide_type": "slide"
    }
   },
   "source": [
    "## Random: Permutations\n",
    "- Shuffling and permutations are also included in numpy via:\n",
    "    - `np.random.shuffle(x)` - permutates a sequence in-place\n",
    "    - `np.random.permutation(x)` - return a permutation of the sequence\n"
   ]
  },
  {
   "cell_type": "code",
   "execution_count": 39,
   "metadata": {
    "slideshow": {
     "slide_type": "slide"
    }
   },
   "outputs": [
    {
     "name": "stdout",
     "output_type": "stream",
     "text": [
      "A: [0 1 2 3 4 5 6 7 8 9]\n",
      "Shuffle: None\n",
      "A: [1 4 2 6 9 5 3 8 0 7]\n"
     ]
    }
   ],
   "source": [
    "# shuffle\n",
    "A = np.arange(10)\n",
    "print('A:',A)\n",
    "print('Shuffle:',np.random.shuffle(A)) # returns None, but check value of A below\n",
    "print('A:',A)"
   ]
  },
  {
   "cell_type": "code",
   "execution_count": 40,
   "metadata": {
    "slideshow": {
     "slide_type": "slide"
    }
   },
   "outputs": [
    {
     "name": "stdout",
     "output_type": "stream",
     "text": [
      "A: [0 1 2 3 4 5 6 7 8 9]\n",
      "Permutation: [2 5 0 3 8 9 6 4 1 7]\n",
      "A: [0 1 2 3 4 5 6 7 8 9]\n"
     ]
    }
   ],
   "source": [
    "# permutation\n",
    "A = np.arange(10)\n",
    "print('A:',A)\n",
    "print('Permutation:',np.random.permutation(A)) # returns None, but check value of A below\n",
    "print('A:',A)"
   ]
  },
  {
   "cell_type": "markdown",
   "metadata": {
    "slideshow": {
     "slide_type": "slide"
    }
   },
   "source": [
    "## Random: Distributions\n",
    "- numpy can also be used to draw samples from various distributions\n",
    "- numpy implements 36 types of distributions"
   ]
  },
  {
   "cell_type": "markdown",
   "metadata": {
    "slideshow": {
     "slide_type": "slide"
    }
   },
   "source": [
    "## Random: Normal Distributions\n",
    "- `np.random.normal(loc=0.0, scale=1.0, size=None)`\n",
    "    - loc - center of distribution\n",
    "    - scale - standard deviation of distribution\n",
    "    - size - output shape"
   ]
  },
  {
   "cell_type": "code",
   "execution_count": 41,
   "metadata": {
    "slideshow": {
     "slide_type": "-"
    }
   },
   "outputs": [
    {
     "name": "stdout",
     "output_type": "stream",
     "text": [
      "[-0.16090775 -0.15507172 -0.14988266 -0.11760981 -0.08957677 -0.06825945\n",
      " -0.06424099 -0.06265832 -0.05623899 -0.04534928 -0.04322283 -0.02292111\n",
      " -0.01879064 -0.00962895 -0.00381058  0.00126567  0.0219826   0.04189316\n",
      "  0.05553079  0.07334335  0.07977418  0.08131094  0.09893341  0.10519903\n",
      "  0.11534444  0.12467043  0.16621186  0.19540889  0.20201479  0.21132592]\n"
     ]
    }
   ],
   "source": [
    "loc = 0\n",
    "scale = 0.1\n",
    "normal = np.random.normal(loc, scale, 30)\n",
    "print(np.sort(normal))"
   ]
  },
  {
   "cell_type": "markdown",
   "metadata": {
    "slideshow": {
     "slide_type": "slide"
    }
   },
   "source": [
    "## Random: Standard Distributions\n",
    "- `np.random.uniform(loc=0.0, scale=1.0, size=None)`\n",
    "    - low - lower boundary of interval\n",
    "    - high - upper boundary of interval\n",
    "    - size - output shape"
   ]
  },
  {
   "cell_type": "code",
   "execution_count": 42,
   "metadata": {
    "slideshow": {
     "slide_type": "-"
    }
   },
   "outputs": [
    {
     "name": "stdout",
     "output_type": "stream",
     "text": [
      "[10.0635118  10.80629176 11.44481832 12.25892569 12.26213275 12.90268294\n",
      " 13.21116594 13.59915431 13.62427497 13.75661932 14.64448945 15.2279316\n",
      " 15.51367435 15.70238723 15.75531763 15.98414262 16.09267964 16.11398484\n",
      " 17.11075273 17.29780686 17.42955146 17.60095108 17.63455282 17.69933056\n",
      " 17.89027268 18.43209985 18.56890752 18.69938386 19.01562756 19.24993363]\n"
     ]
    }
   ],
   "source": [
    "low = 10\n",
    "high = 20\n",
    "uniform = np.random.uniform(low,high,30)\n",
    "print(np.sort(uniform))"
   ]
  },
  {
   "cell_type": "markdown",
   "metadata": {
    "slideshow": {
     "slide_type": "slide"
    }
   },
   "source": [
    "## Further Reading:\n",
    "- A more in-depth intro: https://docs.scipy.org/doc/numpy/user/quickstart.html\n",
    "- More advance linear algebra methods: https://docs.scipy.org/doc/numpy/reference/routines.linalg.html\n",
    "- The full power of the the random sample module: https://docs.scipy.org/doc/numpy/reference/routines.random.html"
   ]
  },
  {
   "cell_type": "markdown",
   "metadata": {
    "slideshow": {
     "slide_type": "slide"
    }
   },
   "source": [
    "# FIN"
   ]
  }
 ],
 "metadata": {
  "celltoolbar": "Slideshow",
  "kernelspec": {
   "display_name": "Python 3",
   "language": "python",
   "name": "python3"
  },
  "language_info": {
   "codemirror_mode": {
    "name": "ipython",
    "version": 3
   },
   "file_extension": ".py",
   "mimetype": "text/x-python",
   "name": "python",
   "nbconvert_exporter": "python",
   "pygments_lexer": "ipython3",
   "version": "3.7.1"
  }
 },
 "nbformat": 4,
 "nbformat_minor": 2
}
