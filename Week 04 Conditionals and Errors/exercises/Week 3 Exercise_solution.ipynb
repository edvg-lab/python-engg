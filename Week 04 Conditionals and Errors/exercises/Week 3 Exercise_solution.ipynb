{
 "cells": [
  {
   "cell_type": "markdown",
   "metadata": {},
   "source": [
    "# Determine if Three Points Make a Triangle\n",
    "\n",
    "Given three points *`P1(x1, y1)`*, *`P2(x2, y2)`* and *`P3(x3, y3)`*, we can actually find out whether those points, when plotted and connected, do form a triangle. To solve this predicament, we find the slope between `P1` and `P2`, and the slope between `P2` and `P3`. If the two slopes are not equal to each other, then their lines would intersect. This means that the instersection can already form two sides of a triangle, while the third line formed when connecting all vertices completes the triangle. When the two calculated slopes are equal though, this would mean that all three points just belong to a single line, which is, not a triangle.\n",
    "\n",
    "Slope formula:\n",
    "\\begin{equation*}\n",
    "slope = \\frac{Y_f - Y_0}{X_f - X_0}\n",
    "\\end{equation*}\n",
    "\n",
    "## Requirements:\n",
    "1. User will be prompted for three points\n",
    "    ``` \n",
    "    Enter first point's x coordinate: 0\n",
    "    Enter first point's y coordinate: 5\n",
    "    Enter second point's x coordinate: -5\n",
    "    Enter second point's y coordinate: 0\n",
    "    Enter third point's x coordinate: 5\n",
    "    Enter third point's y coordinate: 0\n",
    "    ```\n",
    "2. Print out points entered by user\n",
    "    ```\n",
    "    P1: 0,5\n",
    "    P2: -5,0\n",
    "    P3: 5,0\n",
    "    ```\n",
    "3. Calculate slopes and print out values:\n",
    "    ```\n",
    "    Slope1: 1.0\n",
    "    Slope2: -1.0\n",
    "    ```\n",
    "4. Print out whether points form a triangle:\n",
    "    ```\n",
    "    Slopes not equal, points does form a triangle\n",
    "    ```"
   ]
  },
  {
   "cell_type": "code",
   "execution_count": 1,
   "metadata": {
    "slideshow": {
     "slide_type": "slide"
    }
   },
   "outputs": [
    {
     "name": "stdout",
     "output_type": "stream",
     "text": [
      "Enter P1's x coordinate:1\n",
      "Enter P1's y coordinate:0\n",
      "Enter P2's x coordinate:2\n",
      "Enter P2's y coordinate:4\n",
      "Enter P3's x coordinate:5\n",
      "Enter P3's y coordinate:11\n"
     ]
    }
   ],
   "source": [
    "# ask user for input\n",
    "P1 = {}\n",
    "P2= {}\n",
    "P3 = {}\n",
    "P1['x'] = int(input(\"Enter P1's x coordinate:\"))\n",
    "P1['y'] = int(input(\"Enter P1's y coordinate:\"))\n",
    "\n",
    "P2['x'] = int(input(\"Enter P2's x coordinate:\"))\n",
    "P2['y'] = int(input(\"Enter P2's y coordinate:\"))\n",
    "\n",
    "P3['x'] = int(input(\"Enter P3's x coordinate:\"))\n",
    "P3['y'] = int(input(\"Enter P3's y coordinate:\"))"
   ]
  },
  {
   "cell_type": "code",
   "execution_count": 3,
   "metadata": {
    "slideshow": {
     "slide_type": "slide"
    }
   },
   "outputs": [
    {
     "name": "stdout",
     "output_type": "stream",
     "text": [
      "P1:  1 0\n",
      "P2:  2 4\n",
      "P3:  5 11\n"
     ]
    }
   ],
   "source": [
    "# print out points\n",
    "print(\"P1: \",P1['x'],P1['y'])\n",
    "print(\"P2: \",P2['x'],P2['y'])\n",
    "print(\"P3: \",P3['x'],P3['y'])"
   ]
  },
  {
   "cell_type": "code",
   "execution_count": 4,
   "metadata": {
    "slideshow": {
     "slide_type": "slide"
    }
   },
   "outputs": [],
   "source": [
    "# calculate slopes    \n",
    "\n",
    "# Slope1 = slope of P1 and P2\n",
    "Slope1 = (P2['y']-P1['y'])/(P2['x']-P1['x'])\n",
    "\n",
    "# Slope 2 = slope of P2 and P3\n",
    "Slope2 = (P3['y']-P2['y'])/(P3['x']-P2['x'])\n"
   ]
  },
  {
   "cell_type": "code",
   "execution_count": 5,
   "metadata": {
    "slideshow": {
     "slide_type": "slide"
    }
   },
   "outputs": [
    {
     "name": "stdout",
     "output_type": "stream",
     "text": [
      "Slopes are not equal! You have an awesome triangle!\n"
     ]
    }
   ],
   "source": [
    "# Evaluate slopes\n",
    "if Slope1 != Slope2:\n",
    "    print(\"Slopes are not equal! You have an awesome triangle!\")\n",
    "else:\n",
    "    print(\"Awww. Its a line buddy :(\")\n",
    "    "
   ]
  },
  {
   "cell_type": "code",
   "execution_count": null,
   "metadata": {
    "slideshow": {
     "slide_type": "slide"
    }
   },
   "outputs": [],
   "source": [
    "# ask user for input\n",
    "P1 = {}\n",
    "P2= {}\n",
    "P3 = {}\n",
    "P1['x'] = int(input(\"Enter P1's x coordinate:\"))\n",
    "P1['y'] = int(input(\"Enter P1's y coordinate:\"))\n",
    "P2['x'] = int(input(\"Enter P2's x coordinate:\"))\n",
    "P2['y'] = int(input(\"Enter P2's y coordinate:\"))\n",
    "P3['x'] = int(input(\"Enter P3's x coordinate:\"))\n",
    "P3['y'] = int(input(\"Enter P3's y coordinate:\"))\n",
    "\n",
    "# print out points\n",
    "print(\"P1: \",P1['x'],P1['y'])\n",
    "print(\"P2: \",P2['x'],P2['y'])\n",
    "print(\"P3: \",P3['x'],P3['y'])\n",
    "\n",
    "# calculate slopes    \n",
    "# Slope1 = slope of P1 and P2\n",
    "Slope1 = (P2['y']-P1['y'])/(P2['x']-P1['x'])\n",
    "# Slope 2 = slope of P2 and P3\n",
    "Slope2 = (P3['y']-P2['y'])/(P3['x']-P2['x'])\n",
    "\n",
    "# Evaluate slopes\n",
    "if Slope1 != Slope2:\n",
    "    print(\"Slopes are not equal! You have an awesome triangle!\")\n",
    "else:\n",
    "    print(\"Awww. Its a line buddy :(\")"
   ]
  }
 ],
 "metadata": {
  "celltoolbar": "Slideshow",
  "kernelspec": {
   "display_name": "Python 3",
   "language": "python",
   "name": "python3"
  },
  "language_info": {
   "codemirror_mode": {
    "name": "ipython",
    "version": 3
   },
   "file_extension": ".py",
   "mimetype": "text/x-python",
   "name": "python",
   "nbconvert_exporter": "python",
   "pygments_lexer": "ipython3",
   "version": "3.7.2"
  }
 },
 "nbformat": 4,
 "nbformat_minor": 2
}
