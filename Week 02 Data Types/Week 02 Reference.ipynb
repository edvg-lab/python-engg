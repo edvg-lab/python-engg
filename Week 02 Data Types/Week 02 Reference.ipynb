{
 "cells": [
  {
   "cell_type": "markdown",
   "metadata": {
    "slideshow": {
     "slide_type": "slide"
    }
   },
   "source": [
    "# Data Types in Python\n",
    "\n",
    "#### Mr. Kasey P. Martin, MIS"
   ]
  },
  {
   "cell_type": "markdown",
   "metadata": {
    "slideshow": {
     "slide_type": "slide"
    }
   },
   "source": [
    "## Outline:\n",
    "Main Python Datatypes:\n",
    "- Numbers\n",
    "- Strings\n",
    "- Lists\n",
    "- Tuples\n",
    "- Dictionaries"
   ]
  },
  {
   "cell_type": "markdown",
   "metadata": {
    "slideshow": {
     "slide_type": "slide"
    }
   },
   "source": [
    "## Data Types\n",
    "* Python has five (5) standard data types:\n",
    "    * Numbers\n",
    "    * String\n",
    "    * List\n",
    "    * Tuple\n",
    "    * Dictionary"
   ]
  },
  {
   "cell_type": "markdown",
   "metadata": {
    "slideshow": {
     "slide_type": "slide"
    }
   },
   "source": [
    "### Numbers\n",
    "* Store numeric values\n",
    "    * int (signed integers)\n",
    "    ``` python\n",
    "        int_a = -7528\n",
    "        int_b = 132\n",
    "    ```\n",
    "    * float (floating point real values)\n",
    "    ``` python\n",
    "        float_a = -75.28\n",
    "        float_b = 13.2e+7\n",
    "    ```\n",
    "    * complex (complex numbers)\n",
    "    ``` python\n",
    "        #j is the imaginary unit\n",
    "        complex_a = -75.28j \n",
    "        complex_b = 13.2e-10j\n",
    "    ```"
   ]
  },
  {
   "cell_type": "code",
   "execution_count": null,
   "metadata": {
    "slideshow": {
     "slide_type": "slide"
    }
   },
   "outputs": [],
   "source": [
    "my_complex = complex(input(\"Enter an integer here ->\"))\n",
    "print(type(my_complex))\n",
    "\n",
    "# functions we can use to convert to numbers from string\n",
    "# int, float, complex\n"
   ]
  },
  {
   "cell_type": "markdown",
   "metadata": {
    "slideshow": {
     "slide_type": "slide"
    }
   },
   "source": [
    "### Strings\n",
    "* Contiguous set of characters enclosed by either single or double quotes\n",
    "* Here are some operations you can use on strings: "
   ]
  },
  {
   "cell_type": "markdown",
   "metadata": {
    "slideshow": {
     "slide_type": "slide"
    }
   },
   "source": [
    "* Print the length of a string"
   ]
  },
  {
   "cell_type": "code",
   "execution_count": null,
   "metadata": {
    "slideshow": {
     "slide_type": "-"
    }
   },
   "outputs": [],
   "source": [
    "mystr = \"\\\"Python\\\" is fun\"\n",
    "print(mystr)\n",
    "print(len(mystr))"
   ]
  },
  {
   "cell_type": "markdown",
   "metadata": {
    "slideshow": {
     "slide_type": "slide"
    }
   },
   "source": [
    "* Print the first character of a string"
   ]
  },
  {
   "cell_type": "code",
   "execution_count": null,
   "metadata": {
    "slideshow": {
     "slide_type": "-"
    }
   },
   "outputs": [],
   "source": [
    "mystr = \"Python is fun!\"\n",
    "print(mystr[0])"
   ]
  },
  {
   "cell_type": "markdown",
   "metadata": {
    "slideshow": {
     "slide_type": "slide"
    }
   },
   "source": [
    "* Print the last character of a string\n",
    "\n",
    "<div class=\"alert alert-block alert-info\">\n",
    "<b>INDEXING</b>   A negative index means you start counting from the end of the string. -1 represents the index of the last character.\n",
    "</div>"
   ]
  },
  {
   "cell_type": "code",
   "execution_count": null,
   "metadata": {
    "slideshow": {
     "slide_type": "-"
    }
   },
   "outputs": [],
   "source": [
    "my_index = -1\n",
    "str = \"Python is fun!\"\n",
    "print(str[my_index]) "
   ]
  },
  {
   "cell_type": "markdown",
   "metadata": {
    "slideshow": {
     "slide_type": "slide"
    }
   },
   "source": [
    "* Print the substring of a string\n",
    "    * string[start:end] - Get all characters from index start to end-1\n",
    "    * string[:end] - Get all characters from the beginning of the string to end-1\n",
    "    * string[start:] - Get all characters from index start to the end of the string"
   ]
  },
  {
   "cell_type": "code",
   "execution_count": null,
   "metadata": {
    "slideshow": {
     "slide_type": "slide"
    }
   },
   "outputs": [],
   "source": [
    "#Let's print the 2nd to 5th characters; string[start:end] end - 1\n",
    "mystr = \"Python is fun!\"\n",
    "print(mystr[-5:])"
   ]
  },
  {
   "cell_type": "code",
   "execution_count": null,
   "metadata": {
    "slideshow": {
     "slide_type": "slide"
    }
   },
   "outputs": [],
   "source": [
    "#Let's print the starting character up to the 6th character; string[:end]\n",
    "start = 0\n",
    "end = 6\n",
    "my_str = \"Python is fun!\"\n",
    "my_substring = my_str[start:end]\n",
    "print(my_substring)"
   ]
  },
  {
   "cell_type": "code",
   "execution_count": null,
   "metadata": {
    "slideshow": {
     "slide_type": "slide"
    }
   },
   "outputs": [],
   "source": [
    "#Let's print the 3rd character up to the last; string[start:]\n",
    "my_str = \"Python is fun!\"\n",
    "print(my_str[2:])"
   ]
  },
  {
   "cell_type": "markdown",
   "metadata": {
    "slideshow": {
     "slide_type": "slide"
    }
   },
   "source": [
    "* Print the string twice"
   ]
  },
  {
   "cell_type": "code",
   "execution_count": null,
   "metadata": {
    "slideshow": {
     "slide_type": "-"
    }
   },
   "outputs": [],
   "source": [
    "my_str = \"Python is fun!\"\n",
    "new_str = my_str * 10\n",
    "print(new_str)"
   ]
  },
  {
   "cell_type": "markdown",
   "metadata": {
    "slideshow": {
     "slide_type": "slide"
    }
   },
   "source": [
    "* Concatenate the string"
   ]
  },
  {
   "cell_type": "code",
   "execution_count": null,
   "metadata": {
    "slideshow": {
     "slide_type": "-"
    }
   },
   "outputs": [],
   "source": [
    "my_str = \"Python is fun!\"\n",
    "new_str = (my_str + '\\n')*2\n",
    "print(new_str)"
   ]
  },
  {
   "cell_type": "markdown",
   "metadata": {
    "slideshow": {
     "slide_type": "slide"
    }
   },
   "source": [
    "### Lists\n",
    "* Contains items separated by commas and enclosed with square brackets\n",
    "* Similar to arrays in C or C++. But unlike arrays in these languages, you can store <i> different </i> data types in lists!\n",
    "* Lists are mutable containers which means you can change its contents\n",
    "* Here are some operations you can use on lists: "
   ]
  },
  {
   "cell_type": "markdown",
   "metadata": {
    "slideshow": {
     "slide_type": "slide"
    }
   },
   "source": [
    "* Printing out the list"
   ]
  },
  {
   "cell_type": "code",
   "execution_count": null,
   "metadata": {
    "slideshow": {
     "slide_type": "-"
    }
   },
   "outputs": [],
   "source": [
    "mylist = [\"John\", 21, \"BS Computer Science\", 90.5]\n",
    "print(mylist)  "
   ]
  },
  {
   "cell_type": "markdown",
   "metadata": {
    "slideshow": {
     "slide_type": "slide"
    }
   },
   "source": [
    "* Print the length of a list"
   ]
  },
  {
   "cell_type": "code",
   "execution_count": null,
   "metadata": {
    "slideshow": {
     "slide_type": "-"
    }
   },
   "outputs": [],
   "source": [
    "my_list = [\"Baguio City\", 16.413, 120.599, 1469] #city, latitude, longitude, altitude(meters)\n",
    "print(len(mylist))"
   ]
  },
  {
   "cell_type": "markdown",
   "metadata": {
    "slideshow": {
     "slide_type": "slide"
    }
   },
   "source": [
    "* Print the first and last element of a list\n",
    "\n",
    "<div class=\"alert alert-block alert-info\">\n",
    "<b>INDEXING</b>  Just like in strings, a negative index means you start counting from the end of the list. -1 represents the index of the last element.\n",
    "</div>"
   ]
  },
  {
   "cell_type": "code",
   "execution_count": 3,
   "metadata": {
    "slideshow": {
     "slide_type": "-"
    }
   },
   "outputs": [
    {
     "name": "stdout",
     "output_type": "stream",
     "text": [
      "First element is: Baguio City\n",
      "1469\n"
     ]
    }
   ],
   "source": [
    "my_list = [\"Baguio City\", 16.413, 120.599, 1469] #city, latitude, longitude, altitude(meters)\n",
    "print(\"First element is: \" + my_list[0])\n",
    "print(my_list[-1]) #this works\n",
    "#but not this: print(\"Last element is: \" + my_list[-1]) \n"
   ]
  },
  {
   "cell_type": "markdown",
   "metadata": {
    "slideshow": {
     "slide_type": "slide"
    }
   },
   "source": [
    "* Printing out the sublist of a list is similar to strings"
   ]
  },
  {
   "cell_type": "code",
   "execution_count": 4,
   "metadata": {
    "slideshow": {
     "slide_type": "-"
    }
   },
   "outputs": [
    {
     "name": "stdout",
     "output_type": "stream",
     "text": [
      "[16.413, 120.599]\n",
      "[16.413, 120.599, 1469]\n",
      "['Baguio City', 16.413, 120.599]\n"
     ]
    }
   ],
   "source": [
    "my_list = [\"Baguio City\", 16.413, 120.599, 1469]\n",
    "print(my_list[1:3])\n",
    "print(my_list[1:])\n",
    "print(my_list[:3])"
   ]
  },
  {
   "cell_type": "markdown",
   "metadata": {
    "slideshow": {
     "slide_type": "slide"
    }
   },
   "source": [
    "* Append an item at the end of the list"
   ]
  },
  {
   "cell_type": "code",
   "execution_count": 5,
   "metadata": {
    "slideshow": {
     "slide_type": "-"
    }
   },
   "outputs": [
    {
     "name": "stdout",
     "output_type": "stream",
     "text": [
      "['Baguio City', 16.413, 120.599, 1469, 'Philippines']\n",
      "['Baguio City', 16.413, 120.599, 1469, 'Philippines', -1]\n"
     ]
    }
   ],
   "source": [
    "my_list = [\"Baguio City\", 16.413, 120.599, 1469]\n",
    "my_list.append(\"Philippines\")\n",
    "print(my_list)"
   ]
  },
  {
   "cell_type": "markdown",
   "metadata": {
    "slideshow": {
     "slide_type": "slide"
    }
   },
   "source": [
    "* Insert an element x at index i\n",
    "* list.insert[i,x]"
   ]
  },
  {
   "cell_type": "code",
   "execution_count": 6,
   "metadata": {
    "slideshow": {
     "slide_type": "-"
    }
   },
   "outputs": [
    {
     "name": "stdout",
     "output_type": "stream",
     "text": [
      "['Philippines', 'Baguio City', 16.413, 120.599, 1469]\n"
     ]
    }
   ],
   "source": [
    "my_list = [\"Baguio City\", 16.413, 120.599, 1469]\n",
    "my_list.insert(0, \"Philippines\")\n",
    "print(my_list)"
   ]
  },
  {
   "cell_type": "markdown",
   "metadata": {
    "slideshow": {
     "slide_type": "slide"
    }
   },
   "source": [
    "* Remove an element x from the list if it exists"
   ]
  },
  {
   "cell_type": "code",
   "execution_count": 7,
   "metadata": {
    "slideshow": {
     "slide_type": "-"
    }
   },
   "outputs": [
    {
     "name": "stdout",
     "output_type": "stream",
     "text": [
      "['Baguio City', 16.413, 120.599, 1469]\n"
     ]
    }
   ],
   "source": [
    "my_list = [\"Philippines\", \"Baguio City\", 16.413, 120.599, 1469]\n",
    "my_list.remove(\"Philippines\")\n",
    "print(my_list)"
   ]
  },
  {
   "cell_type": "markdown",
   "metadata": {
    "slideshow": {
     "slide_type": "slide"
    }
   },
   "source": [
    "* Remove an element from index i\n",
    "* If no index in specified, it will remove the last item from the list"
   ]
  },
  {
   "cell_type": "code",
   "execution_count": 8,
   "metadata": {
    "slideshow": {
     "slide_type": "-"
    }
   },
   "outputs": [
    {
     "name": "stdout",
     "output_type": "stream",
     "text": [
      "['Baguio City', 16.413, 1469]\n"
     ]
    }
   ],
   "source": [
    "my_list = [\"Baguio City\", 16.413, 120.599, 1469]\n",
    "i = 2\n",
    "my_list.pop(i)\n",
    "print(my_list)"
   ]
  },
  {
   "cell_type": "markdown",
   "metadata": {
    "slideshow": {
     "slide_type": "slide"
    }
   },
   "source": [
    "### Tuples\n",
    "* Contains items separated by commas and enclosed with parentheses\n",
    "* Similar to lists where you can store <i> different </i> data types\n",
    "* But unlike lists, tuples are immutable containers (contents cannot be changed)\n",
    "* Here are some operations you can use on tuples: "
   ]
  },
  {
   "cell_type": "markdown",
   "metadata": {
    "slideshow": {
     "slide_type": "slide"
    }
   },
   "source": [
    "* Print the length of a tuple"
   ]
  },
  {
   "cell_type": "code",
   "execution_count": null,
   "metadata": {
    "slideshow": {
     "slide_type": "-"
    }
   },
   "outputs": [],
   "source": [
    "mtuple = (\"Baguio City\", 16.413, 120.599, 1469) #city, latitude, longitude, altitude(meters)\n",
    "print(len(mtuple))"
   ]
  },
  {
   "cell_type": "markdown",
   "metadata": {
    "slideshow": {
     "slide_type": "slide"
    }
   },
   "source": [
    "* Print the nth element of a tuple "
   ]
  },
  {
   "cell_type": "code",
   "execution_count": 9,
   "metadata": {
    "slideshow": {
     "slide_type": "-"
    }
   },
   "outputs": [
    {
     "name": "stdout",
     "output_type": "stream",
     "text": [
      "Baguio City\n",
      "1469\n"
     ]
    }
   ],
   "source": [
    "mtuple = (\"Baguio City\", 16.413, 120.599, 1469) #city, latitude, longitude, altitude(meters)\n",
    "print(mtuple[0])\n",
    "print(mtuple[-1])"
   ]
  },
  {
   "cell_type": "markdown",
   "metadata": {
    "slideshow": {
     "slide_type": "slide"
    }
   },
   "source": [
    "* Print the subtuple of a tuple \n",
    "* tuple(start:end)"
   ]
  },
  {
   "cell_type": "code",
   "execution_count": 10,
   "metadata": {
    "slideshow": {
     "slide_type": "-"
    }
   },
   "outputs": [
    {
     "name": "stdout",
     "output_type": "stream",
     "text": [
      "('Baguio City', 16.413)\n",
      "(16.413, 120.599, 1469)\n",
      "('Baguio City', 16.413, 120.599)\n"
     ]
    }
   ],
   "source": [
    "mtuple = (\"Baguio City\", 16.413, 120.599, 1469) #city, latitude, longitude, altitude(meters)\n",
    "print(mtuple[0:2])\n",
    "print(mtuple[1:])\n",
    "print(mtuple[:3])"
   ]
  },
  {
   "cell_type": "markdown",
   "metadata": {
    "slideshow": {
     "slide_type": "slide"
    }
   },
   "source": [
    "* Concatenate a tuple "
   ]
  },
  {
   "cell_type": "code",
   "execution_count": 13,
   "metadata": {
    "slideshow": {
     "slide_type": "-"
    }
   },
   "outputs": [
    {
     "name": "stdout",
     "output_type": "stream",
     "text": [
      "('Baguio City', 16.413, 120.599, 1469, 57.5, 'Philippines')\n"
     ]
    }
   ],
   "source": [
    "mtuple = (\"Baguio City\", 16.413, 120.599, 1469) #city, latitude, longitude, altitude(meters)\n",
    "tuple_1 = (57.5, \"Philippines\") #area (km^2), major language\n",
    "new_tuple = mtuple + tuple_1\n",
    "print(new_tuple)"
   ]
  },
  {
   "cell_type": "markdown",
   "metadata": {
    "slideshow": {
     "slide_type": "slide"
    }
   },
   "source": [
    "### Dictionary\n",
    "* Consists of key-value pairs where keys are required to be unique\n",
    "* Enclosed by curly braces {}\n",
    "* Here are some operations you can use on dictionaries: "
   ]
  },
  {
   "cell_type": "markdown",
   "metadata": {
    "slideshow": {
     "slide_type": "slide"
    }
   },
   "source": [
    "* Print the length of a dictionary"
   ]
  },
  {
   "cell_type": "code",
   "execution_count": 29,
   "metadata": {
    "slideshow": {
     "slide_type": "-"
    }
   },
   "outputs": [
    {
     "name": "stdout",
     "output_type": "stream",
     "text": [
      "4\n"
     ]
    }
   ],
   "source": [
    "my_dictionary = {\n",
    "    \"city\" : \"Baguio City\",\n",
    "    \"latitude\" : 16.413,\n",
    "    \"longitude\" : 120.599,\n",
    "    \"altitude\" : 1469\n",
    "    }\n",
    "print(len(my_dictionary))"
   ]
  },
  {
   "cell_type": "markdown",
   "metadata": {
    "slideshow": {
     "slide_type": "slide"
    }
   },
   "source": [
    "* Print the keys of a dictionary"
   ]
  },
  {
   "cell_type": "code",
   "execution_count": 17,
   "metadata": {
    "slideshow": {
     "slide_type": "-"
    }
   },
   "outputs": [
    {
     "name": "stdout",
     "output_type": "stream",
     "text": [
      "dict_keys(['city', 'latitude', 'longitude', 'altitude'])\n",
      "Baguio City\n"
     ]
    }
   ],
   "source": [
    "my_dictionary = {\n",
    "    \"city\" : \"Baguio City\",\n",
    "    \"latitude\" : 16.413,\n",
    "    \"longitude\" : 120.599,\n",
    "    \"altitude\" : 1469\n",
    "    }\n",
    "print(my_dictionary.keys())\n",
    "\n",
    "print(my_dictionary['city'])\n"
   ]
  },
  {
   "cell_type": "markdown",
   "metadata": {
    "slideshow": {
     "slide_type": "slide"
    }
   },
   "source": [
    "* Print the values of a dictionary"
   ]
  },
  {
   "cell_type": "code",
   "execution_count": 18,
   "metadata": {
    "slideshow": {
     "slide_type": "-"
    }
   },
   "outputs": [
    {
     "name": "stdout",
     "output_type": "stream",
     "text": [
      "dict_values(['Baguio City', 16.413, 120.599, 1469])\n"
     ]
    }
   ],
   "source": [
    "my_dictionary = {\n",
    "    \"city\" : \"Baguio City\",\n",
    "    \"latitude\" : 16.413,\n",
    "    \"longitude\" : 120.599,\n",
    "    \"altitude\" : 1469\n",
    "    }\n",
    "print(my_dictionary.values())"
   ]
  },
  {
   "cell_type": "markdown",
   "metadata": {
    "slideshow": {
     "slide_type": "slide"
    }
   },
   "source": [
    "* Add a key-value pair to a dictionary"
   ]
  },
  {
   "cell_type": "code",
   "execution_count": 30,
   "metadata": {
    "slideshow": {
     "slide_type": "-"
    }
   },
   "outputs": [
    {
     "name": "stdout",
     "output_type": "stream",
     "text": [
      "{'city': 'Baguio City', 'latitude': 16.413, 'longitude': 120.599, 'altitude': 1469, 'country': 'Philippines'}\n",
      "{'city': 'Baguio City', 'coordinates': {'lat': 16.413, 'long': 120.599}, 'altitude': 1469, 'country': 'Philippines'}\n"
     ]
    }
   ],
   "source": [
    "my_dictionary = {\n",
    "    \"city\" : \"Baguio City\",\n",
    "    \"latitude\" : 16.413,\n",
    "    \"longitude\" : 120.599,\n",
    "    \"altitude\" : 1469\n",
    "    }\n",
    "\n",
    "my_dictionary[\"country\"] = \"Philippines\"\n",
    "print(my_dictionary)\n",
    "\n",
    "lat = 16.413\n",
    "long = 120.599\n",
    "new_dictionary = {\n",
    "    \"city\" : \"Baguio City\",\n",
    "    \"coordinates\" : {'lat': lat, 'long': long},\n",
    "    \"altitude\" : 1469,\n",
    "    \"country\" : \"Philippines\"\n",
    "    }\n",
    "\n",
    "print(new_dictionary)"
   ]
  },
  {
   "cell_type": "markdown",
   "metadata": {
    "slideshow": {
     "slide_type": "slide"
    }
   },
   "source": [
    "* Delete a key-value pair from a dictionary"
   ]
  },
  {
   "cell_type": "code",
   "execution_count": 34,
   "metadata": {
    "slideshow": {
     "slide_type": "-"
    }
   },
   "outputs": [
    {
     "name": "stdout",
     "output_type": "stream",
     "text": [
      "{'city': 'Baguio City', 'coordinates': {'lat': 16.413, 'long': 120.599}, 'altitude': 1469, 'country': 'Philippines'}\n",
      "{'city': 'Baguio City', 'coordinates': {'lat': 16.413, 'long': 120.599}, 'country': 'Philippines'}\n",
      "Philippines\n",
      "{'city': 'Baguio City', 'coordinates': {'lat': 16.413, 'long': 120.599}}\n"
     ]
    }
   ],
   "source": [
    "lat = 16.413\n",
    "long = 120.599\n",
    "\n",
    "new_dictionary = {\n",
    "    \"city\" : \"Baguio City\",\n",
    "    \"coordinates\" : {'lat': lat, 'long': long},\n",
    "    \"altitude\" : 1469,\n",
    "    \"country\" : \"Philippines\"\n",
    "    }\n",
    "\n",
    "print(new_dictionary)\n",
    "\n",
    "new_dictionary.pop(\"altitude\")\n",
    "print(new_dictionary)\n",
    "\n",
    "#OR\n",
    "deleted = new_dictionary.pop(\"country\")\n",
    "print(deleted)\n",
    "print(new_dictionary)"
   ]
  },
  {
   "cell_type": "code",
   "execution_count": 35,
   "metadata": {
    "slideshow": {
     "slide_type": "slide"
    }
   },
   "outputs": [
    {
     "name": "stdout",
     "output_type": "stream",
     "text": [
      "Jane\n",
      "5\n"
     ]
    }
   ],
   "source": [
    "list_of_dictionaries = [\n",
    "    {'name':'John'},\n",
    "    {'name': 'Jane'},\n",
    "    {'name': 'Jessica'}\n",
    "]\n",
    "dictionary_of_lists = {\n",
    "    'lista': [0,1,2,3,4,5],\n",
    "    'listb': [12,13,14,15,16]\n",
    "}\n",
    "\n",
    "#how to access data\n",
    "print(list_of_dictionaries[1]['name'])\n",
    "print(dictionary_of_lists['lista'][-1])"
   ]
  }
 ],
 "metadata": {
  "celltoolbar": "Slideshow",
  "kernelspec": {
   "display_name": "Python 3",
   "language": "python",
   "name": "python3"
  },
  "language_info": {
   "codemirror_mode": {
    "name": "ipython",
    "version": 3
   },
   "file_extension": ".py",
   "mimetype": "text/x-python",
   "name": "python",
   "nbconvert_exporter": "python",
   "pygments_lexer": "ipython3",
   "version": "3.7.1"
  }
 },
 "nbformat": 4,
 "nbformat_minor": 2
}
