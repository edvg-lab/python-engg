{
 "cells": [
  {
   "cell_type": "markdown",
   "metadata": {
    "slideshow": {
     "slide_type": "slide"
    }
   },
   "source": [
    "# Conditionals, and Errors in Python\n",
    "\n",
    "\n",
    "### Mr. Kasey P. Martin, MIS"
   ]
  },
  {
   "cell_type": "markdown",
   "metadata": {
    "slideshow": {
     "slide_type": "slide"
    }
   },
   "source": [
    "## Outline\n",
    "* Conditionals\n",
    "    * Booleans and Object “Truthiness” \n",
    "    * Conditional operators\n",
    "    * if, elif and else\n",
    "    \n",
    "* Errors\n",
    "    * Syntax errors\n",
    "    * Logic errors\n",
    "    * Run-time errors\n",
    "\n",
    "* Common Exceptions\n",
    "\n",
    "* Exception Handling\n"
   ]
  },
  {
   "cell_type": "markdown",
   "metadata": {
    "slideshow": {
     "slide_type": "slide"
    }
   },
   "source": [
    "## Conditionals"
   ]
  },
  {
   "cell_type": "markdown",
   "metadata": {
    "slideshow": {
     "slide_type": "slide"
    }
   },
   "source": [
    "## Object \"truthiness\" - Booleans\n",
    "- A boolean is a data type used to denote `True` or `False`\n",
    "- Traditionally `True` is denoted by `1` and `False` is denoted by `0`"
   ]
  },
  {
   "cell_type": "markdown",
   "metadata": {
    "slideshow": {
     "slide_type": "slide"
    }
   },
   "source": [
    "## Object \"truthiness\" \n",
    "- With Python, **any** object can be tested for \"truthiness\"\n",
    "- By default, any object defaults to `True`, with the following exceptions:\n",
    "    - `None` and `False`\n",
    "    - Zeros in any numeric type (`0`, `0.0`, `0j`, `Decimal(0)`, `Fraction(0, 1)`)\n",
    "    - Empty sequences like strings, lists, dicts, tuples, etc. (`''`, `()`, `[]`, `{}`, `set()`, `range(0)`)"
   ]
  },
  {
   "cell_type": "markdown",
   "metadata": {
    "slideshow": {
     "slide_type": "slide"
    }
   },
   "source": [
    "## Conditionals\n",
    "* A common way to control the flow of program\n",
    "* A code structure that evaluates certain expressions as TRUE or FALSE and executes certain code blocks depending on the condition\n",
    "    * If statement\n",
    "    * If-else statement\n",
    "    * If-elif-else statement"
   ]
  },
  {
   "cell_type": "markdown",
   "metadata": {
    "slideshow": {
     "slide_type": "slide"
    }
   },
   "source": [
    "## Conditional Operators\n",
    "\n",
    "\n",
    "<table style=\"font-size: 20px\">\n",
    "<thead>\n",
    "<tr>\n",
    "<th align=\"center\">Operator</th>\n",
    "<th align=\"center\">Definition</th>\n",
    "<th align=\"center\">Example</th>\n",
    "</tr>\n",
    "</thead>\n",
    "<tbody>\n",
    "<tr>\n",
    "<td align=\"center\">></td>\n",
    "<td align=\"center\">Left operand is greater than right operand</td>\n",
    "<td align=\"center\">a > b</td>\n",
    "</tr>\n",
    "<tr>\n",
    "<td align=\"center\">&lt;</td>\n",
    "<td align=\"center\">Left operand is less than right operand</td>\n",
    "<td align=\"center\">a &lt; b</td>\n",
    "</tr>\n",
    "<tr>\n",
    "<td align=\"center\">==</td>\n",
    "<td align=\"center\">Left operand is equal to right operand</td>\n",
    "<td align=\"center\">a == b</td>\n",
    "</tr>\n",
    "<tr>\n",
    "<td align=\"center\">!=</td>\n",
    "<td align=\"center\">Left operand is not equal to right operand</td>\n",
    "<td align=\"center\">a != b</td>\n",
    "</tr>\n",
    "<tr>\n",
    "<td align=\"center\">>=</td>\n",
    "<td align=\"center\">Left operand is greater than OR equal to right operand</td>\n",
    "<td align=\"center\">a >= b</td>\n",
    "</tr>\n",
    "<tr>\n",
    "<td align=\"center\">&lt;=</td>\n",
    "<td align=\"center\">Left operand is less than or equal to right operand</td>\n",
    "<td align=\"center\">a &lt;= b</td>\n",
    "</tr>\n",
    "</tbody>\n",
    "</table>"
   ]
  },
  {
   "cell_type": "code",
   "execution_count": null,
   "metadata": {
    "slideshow": {
     "slide_type": "-"
    }
   },
   "outputs": [],
   "source": [
    "a = 30\n",
    "b = 30\n",
    "print(\"a > b:\",a > b)\n",
    "print(\"a < b:\",a < b)\n",
    "print(\"a == b:\",a == b)\n",
    "print(\"a != b:\",a != b)\n",
    "print(\"a >= b:\",a >= b)\n",
    "print(\"a <= b:\",a <= b)"
   ]
  },
  {
   "cell_type": "markdown",
   "metadata": {
    "slideshow": {
     "slide_type": "slide"
    }
   },
   "source": [
    "## Logical Operators\n",
    "\n",
    "\n",
    "<table style=\"font-size: 20px\">\n",
    "<thead>\n",
    "<tr>\n",
    "<th align=\"center\">Operator</th>\n",
    "<th align=\"center\">Definition</th>\n",
    "<th align=\"center\">Example</th>\n",
    "</tr>\n",
    "</thead>\n",
    "<tbody>\n",
    "<tr>\n",
    "<td align=\"center\">and</td>\n",
    "<td align=\"center\">True if both left and right operand are both True</td>\n",
    "<td align=\"center\">a and b</td>\n",
    "</tr>\n",
    "<tr>\n",
    "<td align=\"center\">or</td>\n",
    "<td align=\"center\">True of either of the operands are True</td>\n",
    "<td align=\"center\">a or b</td>\n",
    "</tr>\n",
    "<tr>\n",
    "<td align=\"center\">not</td>\n",
    "<td align=\"center\">True if right operand is false</td>\n",
    "<td align=\"center\">not a</td>\n",
    "</tr>\n",
    "</tbody>\n",
    "</table>"
   ]
  },
  {
   "cell_type": "code",
   "execution_count": null,
   "metadata": {
    "slideshow": {
     "slide_type": "-"
    }
   },
   "outputs": [],
   "source": [
    "a = False\n",
    "b = False\n",
    "print(\"a and b:\",a and b)\n",
    "print(\"a or b:\",a or b) \n",
    "print(\"negation of a:\",not a)"
   ]
  },
  {
   "cell_type": "markdown",
   "metadata": {
    "slideshow": {
     "slide_type": "slide"
    }
   },
   "source": [
    "### If Statement\n",
    "* A logical expression in which a decision is made based on the condition\n",
    "* If the condition is TRUE, the statement/s inside the IF STATEMENT will be executed\n",
    "``` python\n",
    "if condition:\n",
    "    execute this code block\n",
    "```"
   ]
  },
  {
   "cell_type": "code",
   "execution_count": null,
   "metadata": {
    "slideshow": {
     "slide_type": "slide"
    }
   },
   "outputs": [],
   "source": [
    "\"\"\" Write a program that checks if the inputted power is correct \"\"\"\n",
    "\n",
    "print(\"A 3V torch with a 10 ohm bulb is switched on.\")\n",
    "mynumber = float(input(\"What is the power of the torch?\"))\n",
    "print(type(mynumber))\n",
    "\n",
    "power = (3**2)/10\n",
    "\n",
    "if mynumber == power:\n",
    "    print(\"Your input is correct!\")"
   ]
  },
  {
   "cell_type": "markdown",
   "metadata": {
    "slideshow": {
     "slide_type": "slide"
    }
   },
   "source": [
    "### If-Else Statement\n",
    "* An optional, single else statement may be paired with an if statement\n",
    "* If the condition in the if statement is not met, the code block inside the else statement will be executed\n",
    "* We do not put any logical expression in the else statement\n",
    "\n",
    "``` python\n",
    "if condition:\n",
    "    \n",
    "    execute this code block\n",
    "else:\n",
    "    execute this code block\n",
    "```\n"
   ]
  },
  {
   "cell_type": "code",
   "execution_count": null,
   "metadata": {
    "scrolled": true,
    "slideshow": {
     "slide_type": "slide"
    }
   },
   "outputs": [],
   "source": [
    "\"\"\" Write a program that checks if the inputted power is correct \"\"\"\n",
    "\n",
    "print(\"A 3V torch with a 10 ohm bulb is switched on.\")\n",
    "mynumber = float(input(\"What is the power of the torch?\"))\n",
    "print(type(mynumber))\n",
    "\n",
    "power = (3**2)/10\n",
    "\n",
    "if mynumber == power:\n",
    "    print(\"Your input is correct!\")\n",
    "else:\n",
    "    print(\"Your input is not valid.\")"
   ]
  },
  {
   "cell_type": "markdown",
   "metadata": {
    "slideshow": {
     "slide_type": "slide"
    }
   },
   "source": [
    "### If-Elif-Else Statement\n",
    "* An optional elif statement is used to check additional logical expressions\n",
    "* Unlike the else statement, there can be any number of elif statements in between an if and else statement\n",
    "\n",
    "``` python\n",
    "if condition:\n",
    "    execute this code block\n",
    "elif condition2:\n",
    "    execute this code block\n",
    "else:\n",
    "    execute this code block\n",
    "```\n"
   ]
  },
  {
   "cell_type": "code",
   "execution_count": 3,
   "metadata": {
    "slideshow": {
     "slide_type": "slide"
    }
   },
   "outputs": [
    {
     "name": "stdout",
     "output_type": "stream",
     "text": [
      "A 3V torch with a 10 ohm bulb is switched on.\n",
      "How long (in seconds) much the torch be switched on so that in consumes 63 Joules of energy?\n",
      "Your input: 100\n",
      "Your input is too high for the torch to consume the required energy.\n"
     ]
    }
   ],
   "source": [
    "print(\"A 3V torch with a 10 ohm bulb is switched on.\")\n",
    "print(\"How long (in seconds) must the torch be switched on so that in consumes 63 Joules of energy?\")\n",
    "\n",
    "power = 0.9\n",
    "energy = 63\n",
    "mynumber = float(input(\"Your input: \"))\n",
    "\n",
    "time = energy/power #time must be 70\n",
    "\n",
    "if mynumber < time:\n",
    "    print(\"Your input is too low for the torch to consume the required energy.\")\n",
    "elif mynumber == time:\n",
    "    print(\"Your input is correct!\")\n",
    "else:\n",
    "    print(\"Your input is too high for the torch to consume the required energy.\")"
   ]
  },
  {
   "cell_type": "markdown",
   "metadata": {
    "slideshow": {
     "slide_type": "slide"
    }
   },
   "source": [
    "## Errors"
   ]
  },
  {
   "cell_type": "markdown",
   "metadata": {
    "slideshow": {
     "slide_type": "slide"
    }
   },
   "source": [
    "## Errors\n",
    "* As you start your programming journey, you will encounter lots of errors (or bugs)\n",
    "* There are many sources and types of Python errors\n",
    "    * Syntax Errors\n",
    "    * Runtime Errors\n",
    "    * Logic Errors\n"
   ]
  },
  {
   "cell_type": "markdown",
   "metadata": {
    "slideshow": {
     "slide_type": "slide"
    }
   },
   "source": [
    "### Syntax Errors\n",
    "* Rules that specify the correct combination of symbol sequences that define a valid program\n",
    "* If the structure of your program is incorrect, it will fail to execute at all!\n",
    "* Which of the following is a syntax error?\n",
    "    * Attempting to divide by 0\n",
    "    * Trying to print a string: <i> print \"Hello world!\" </i>\n",
    "    * Putting two else statements in an if-else statement\n"
   ]
  },
  {
   "cell_type": "markdown",
   "metadata": {
    "slideshow": {
     "slide_type": "slide"
    }
   },
   "source": [
    "### Syntax Errors\n",
    "* Rules that specify the correct combination of symbol sequences that define a valid program\n",
    "* If the structure of your program is incorrect, it will fail to execute at all!\n",
    "* Which of the following is a syntax error?\n",
    "    * Attempting to divide by 0\n",
    "    * <b>Trying to print a string: <i> print \"Hello world!\" </i></b>\n",
    "    * <b>Putting two else statements in an if-else statement</b>\n"
   ]
  },
  {
   "cell_type": "code",
   "execution_count": null,
   "metadata": {
    "slideshow": {
     "slide_type": "-"
    }
   },
   "outputs": [],
   "source": [
    "a = True\n",
    "if a:\n",
    "    print(\"This is true\")\n",
    "else:\n",
    "    print(\"false\")"
   ]
  },
  {
   "cell_type": "markdown",
   "metadata": {
    "slideshow": {
     "slide_type": "slide"
    }
   },
   "source": [
    "### Runtime Errors\n",
    "* Errors that don't appear until the programming is running\n",
    "* These statements are syntactically correct but Python has trouble executing them\n",
    "* Which of the following is a runtime error?\n",
    "    * Attempting to divide by 0\n",
    "    * Forgetting a colon at the end of a statement where one is required\n",
    "    * Declaring a variable <i>myNumber</i> but using <i>mynumber</i> later on in the program\n"
   ]
  },
  {
   "cell_type": "markdown",
   "metadata": {
    "slideshow": {
     "slide_type": "slide"
    }
   },
   "source": [
    "### Runtime Errors\n",
    "* Errors that don't appear until the programming is running\n",
    "* These statements are syntactically correct but Python has trouble executing them\n",
    "* Which of the following is a runtime error?\n",
    "    * <b>Attempting to divide by 0</b>\n",
    "    * Forgetting a colon at the end of a statement where one is required\n",
    "    * <b>Declaring a variable <i>myNumber</i> but using <i>mynumber</i> later on in the program</b>"
   ]
  },
  {
   "cell_type": "code",
   "execution_count": null,
   "metadata": {
    "slideshow": {
     "slide_type": "-"
    }
   },
   "outputs": [],
   "source": [
    "myNumber = 12\n",
    "\n",
    "if myNumber == 10:\n",
    "    print(mynumber)\n",
    "else:\n",
    "    print(myNumber)"
   ]
  },
  {
   "cell_type": "markdown",
   "metadata": {
    "slideshow": {
     "slide_type": "slide"
    }
   },
   "source": [
    "### Logic Errors\n",
    "* Also known as semantic errors\n",
    "* Happens when a program runs without errors but produces an invalid result\n",
    "* Perhaps the hardest type of error to fix because the program's algorithm itself is incorrect"
   ]
  },
  {
   "cell_type": "markdown",
   "metadata": {
    "slideshow": {
     "slide_type": "slide"
    }
   },
   "source": [
    "### Logic Errors\n",
    "* Find the logic error/s in this code snippet:\n"
   ]
  },
  {
   "cell_type": "code",
   "execution_count": null,
   "metadata": {
    "slideshow": {
     "slide_type": "-"
    }
   },
   "outputs": [],
   "source": [
    "myStr = \"Spot the mistakes in the program\"\n",
    "print(\"The last character of this string is: \" + myStr[-1])\n",
    "print(\"Length without spaces: \",len(myStr.replace(\" \",\"\")))\n",
    "if not (len(myStr)%2 == 0):\n",
    "    print(\"The string has an odd number of characters\")\n",
    "else:\n",
    "     print(\"The string has an even number of characters\")"
   ]
  },
  {
   "cell_type": "markdown",
   "metadata": {
    "slideshow": {
     "slide_type": "slide"
    }
   },
   "source": [
    "## Exceptions"
   ]
  },
  {
   "cell_type": "markdown",
   "metadata": {
    "slideshow": {
     "slide_type": "slide"
    }
   },
   "source": [
    "## Exceptions\n",
    "* Exceptions are events that disrupt the normal flow of a Python program\n",
    "    * We previously learned about runtime and syntax errors - these are examples of exceptions!"
   ]
  },
  {
   "cell_type": "code",
   "execution_count": 2,
   "metadata": {
    "slideshow": {
     "slide_type": "slide"
    }
   },
   "outputs": [
    {
     "ename": "ZeroDivisionError",
     "evalue": "division by zero",
     "output_type": "error",
     "traceback": [
      "\u001b[0;31m---------------------------------------------------------------------------\u001b[0m",
      "\u001b[0;31mZeroDivisionError\u001b[0m                         Traceback (most recent call last)",
      "\u001b[0;32m<ipython-input-2-d6d0abdbb42e>\u001b[0m in \u001b[0;36m<module>\u001b[0;34m()\u001b[0m\n\u001b[1;32m      1\u001b[0m \u001b[0mnumerator\u001b[0m \u001b[0;34m=\u001b[0m \u001b[0;36m0\u001b[0m\u001b[0;34m\u001b[0m\u001b[0;34m\u001b[0m\u001b[0m\n\u001b[1;32m      2\u001b[0m \u001b[0mdenominator\u001b[0m \u001b[0;34m=\u001b[0m \u001b[0;36m0\u001b[0m\u001b[0;34m\u001b[0m\u001b[0;34m\u001b[0m\u001b[0m\n\u001b[0;32m----> 3\u001b[0;31m \u001b[0manswer\u001b[0m \u001b[0;34m=\u001b[0m \u001b[0mnumerator\u001b[0m\u001b[0;34m/\u001b[0m\u001b[0mdenominator\u001b[0m\u001b[0;34m\u001b[0m\u001b[0;34m\u001b[0m\u001b[0m\n\u001b[0m",
      "\u001b[0;31mZeroDivisionError\u001b[0m: division by zero"
     ]
    }
   ],
   "source": [
    "numerator = 0\n",
    "denominator = 0\n",
    "answer = numerator/denominator\n"
   ]
  },
  {
   "cell_type": "markdown",
   "metadata": {
    "scrolled": true,
    "slideshow": {
     "slide_type": "slide"
    }
   },
   "source": [
    "### Language Exceptions\n",
    "<img src=\"img/language_exceptions.png\" width=\"652\">"
   ]
  },
  {
   "cell_type": "markdown",
   "metadata": {
    "slideshow": {
     "slide_type": "slide"
    }
   },
   "source": [
    "### Math Exceptions\n",
    "<img src=\"img/math_exceptions.png\" width=\"685\" height=\"212\">"
   ]
  },
  {
   "cell_type": "markdown",
   "metadata": {
    "slideshow": {
     "slide_type": "slide"
    }
   },
   "source": [
    "### IO Exceptions\n",
    "<img src=\"img/io_exceptions.png\" width=\"688\" height=\"309\">\n"
   ]
  },
  {
   "cell_type": "markdown",
   "metadata": {
    "slideshow": {
     "slide_type": "slide"
    }
   },
   "source": [
    "### Other Exceptions\n",
    "<img src=\"img/other_exceptions.png\" width=\"686\" height=\"375\">"
   ]
  },
  {
   "cell_type": "markdown",
   "metadata": {
    "slideshow": {
     "slide_type": "slide"
    }
   },
   "source": [
    "## Exceptions Handling"
   ]
  },
  {
   "cell_type": "markdown",
   "metadata": {
    "slideshow": {
     "slide_type": "slide"
    }
   },
   "source": [
    "## Exceptions Handling\n",
    "* Instead of letting our program crash or end unexpectedly, we can intercept and do something about it. This is called <i>exceptions handling</i>\n",
    " * Try-except block\n",
    " * Else and finally statements\n",
    "* Exceptions handling provides an alternative way to deal with errors in our code (instead of coding multiple lines of error-checking code)"
   ]
  },
  {
   "cell_type": "markdown",
   "metadata": {
    "slideshow": {
     "slide_type": "slide"
    }
   },
   "source": [
    "### Try-except Block"
   ]
  },
  {
   "cell_type": "markdown",
   "metadata": {
    "slideshow": {
     "slide_type": "slide"
    }
   },
   "source": [
    "### Try-except Block\n",
    "* Python will execute the <i>try block</i> and if an exception happens, the flow of the code will be passed to the <i>except block</i>. Any remaining statements in the try block will be skipped.\n",
    "``` python\n",
    "try: \n",
    "    # code block to try\n",
    "except exception:\n",
    "    # code block to handle error\n",
    "```"
   ]
  },
  {
   "cell_type": "code",
   "execution_count": 8,
   "metadata": {
    "slideshow": {
     "slide_type": "slide"
    }
   },
   "outputs": [
    {
     "name": "stdout",
     "output_type": "stream",
     "text": [
      "Answer is:  10.5\n",
      "variablea was not defined\n"
     ]
    }
   ],
   "source": [
    "try:\n",
    "    # We intentionally cause a division by zero error\n",
    "    numerator = 10\n",
    "    denominator = 20\n",
    "    answer = numerator/denominator\n",
    "    #the next two lines never gets executed\n",
    "    answer = answer + 10\n",
    "    print(\"Answer is: \",answer)\n",
    "    print(variable)\n",
    "except ZeroDivisionError: \n",
    "    answer = 0\n",
    "    print(\"Division by Zero encountered\")\n",
    "    print(\"Answer is: \",answer)\n",
    "except NameError:\n",
    "    print(\"variable was not defined\") \n",
    "    "
   ]
  },
  {
   "cell_type": "code",
   "execution_count": 16,
   "metadata": {
    "slideshow": {
     "slide_type": "slide"
    }
   },
   "outputs": [
    {
     "name": "stdout",
     "output_type": "stream",
     "text": [
      "Please enter an integer: 4\n",
      "Your input is:  4.0\n",
      "The square of the number is  16.0\n"
     ]
    }
   ],
   "source": [
    "# We want to make sure that the user's input will be an integer, perform exception handling\n",
    "try:\n",
    "    myint = float(input(\"Please enter an integer: \")) \n",
    "    square = myint * myint\n",
    "    print(\"Your input is: \",myint)\n",
    "    print(\"The square of the number is \",square)\n",
    "except ValueError:\n",
    "    myint = 1\n",
    "    square = myint * myint\n",
    "    print(\"You did not input an integer, defaulting to 1\")\n",
    "    print(\"Your input is: \",myint)\n",
    "    print(\"The square of the number is \",square) \n"
   ]
  },
  {
   "cell_type": "markdown",
   "metadata": {
    "slideshow": {
     "slide_type": "slide"
    }
   },
   "source": [
    "### Try-except-else Block\n",
    "* Python will execute the <i>try block</i> and if an exception happens, the flow of the code will be passed to the <i>except block</i>. Any remaining statements in the try block will be skipped.\n",
    "* If there are no exceptions in the try block, code inside the else block will be executed.\n",
    "``` python\n",
    "try: \n",
    "    # code block to try\n",
    "except exception:\n",
    "    # code block to handle error\n",
    "else:\n",
    "    # code block to execute if try was a success\n",
    "```\n"
   ]
  },
  {
   "cell_type": "code",
   "execution_count": 19,
   "metadata": {
    "slideshow": {
     "slide_type": "slide"
    }
   },
   "outputs": [
    {
     "name": "stdout",
     "output_type": "stream",
     "text": [
      "Division by Zero encountered\n",
      "Answer is:  0\n"
     ]
    }
   ],
   "source": [
    "try:\n",
    "    # Lets try valid divisors\n",
    "    numerator = 10\n",
    "    denominator = 0\n",
    "    answer = numerator/denominator\n",
    "except ZeroDivisionError: \n",
    "    answer = 0\n",
    "    print(\"Division by Zero encountered\")\n",
    "    print(\"Answer is: \",answer)\n",
    "else:\n",
    "    print(\"answer is\",answer)\n",
    "    print(\"try was successfully run, adding 10 now\")\n",
    "    answer = answer + 10\n",
    "    print(\"Answer is: \",answer)"
   ]
  },
  {
   "cell_type": "markdown",
   "metadata": {
    "slideshow": {
     "slide_type": "slide"
    }
   },
   "source": [
    "### Try-except-finally Block\n",
    "* Python will execute the <i>try block</i> and if an exception happens, the flow of the code will be passed to the <i>except block</i>. Any remaining statements in the try block will be skipped.\n",
    "* Regardless of the result of the try block, code inside the finally will still be executed\n",
    "\n",
    "``` python\n",
    "try: \n",
    "    # code block to try\n",
    "except exception:\n",
    "    # code block to handle error\n",
    "finally:\n",
    "    # code block to execute always after try-except\n",
    "```"
   ]
  },
  {
   "cell_type": "code",
   "execution_count": 26,
   "metadata": {
    "slideshow": {
     "slide_type": "slide"
    }
   },
   "outputs": [
    {
     "name": "stdout",
     "output_type": "stream",
     "text": [
      "Try successfully ran, adding 10 to answer\n",
      "Answer is:  10.333333333333334\n"
     ]
    }
   ],
   "source": [
    "try:\n",
    "    numerator = 10\n",
    "    denominator = 30\n",
    "    answer = numerator/denominator\n",
    "except ZeroDivisionError: \n",
    "    answer = 0\n",
    "    print(\"Division by Zero encountered\")\n",
    "else:\n",
    "    print(\"Try successfully ran, adding 10 to answer\")\n",
    "    answer = answer + 10\n",
    "finally:\n",
    "    print(\"Answer is: \",answer) "
   ]
  },
  {
   "cell_type": "markdown",
   "metadata": {
    "slideshow": {
     "slide_type": "slide"
    }
   },
   "source": [
    "### Try-except-else-finally Block\n",
    "* Python will execute the <i>try block</i> and if an exception happens, the flow of the code will be passed to the <i>except block</i>. Any remaining statements in the try block will be skipped.\n",
    "* If there are no exceptions in the try block, code inside the else block will be executed.\n",
    "* Regardless of the result of the try block, code inside the finally will still be executed\n",
    "``` python\n",
    "try: \n",
    "    # code block to try\n",
    "except exception:\n",
    "    # code block to handle error\n",
    "else:\n",
    "    # code block to execute if try was a success\n",
    "finally:\n",
    "    # code block to execute always after try-except\n",
    "```"
   ]
  },
  {
   "cell_type": "markdown",
   "metadata": {
    "slideshow": {
     "slide_type": "slide"
    }
   },
   "source": [
    "# FIN"
   ]
  }
 ],
 "metadata": {
  "celltoolbar": "Slideshow",
  "kernelspec": {
   "display_name": "Python 3",
   "language": "python",
   "name": "python3"
  },
  "language_info": {
   "codemirror_mode": {
    "name": "ipython",
    "version": 3
   },
   "file_extension": ".py",
   "mimetype": "text/x-python",
   "name": "python",
   "nbconvert_exporter": "python",
   "pygments_lexer": "ipython3",
   "version": "3.7.1"
  }
 },
 "nbformat": 4,
 "nbformat_minor": 2
}
