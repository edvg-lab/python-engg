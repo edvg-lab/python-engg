{
 "cells": [
  {
   "cell_type": "markdown",
   "metadata": {
    "slideshow": {
     "slide_type": "slide"
    }
   },
   "source": [
    "# Modules in Python\n",
    "\n",
    "\n",
    "#### Mr. Kasey P. Martin, MIS\n"
   ]
  },
  {
   "cell_type": "markdown",
   "metadata": {
    "slideshow": {
     "slide_type": "slide"
    }
   },
   "source": [
    "## Outline:\n",
    "* Modules\n",
    "    * What are Modules?\n",
    "    * `import` Statement\n",
    "    * `import ...` as Statement\n",
    "    * `from ... import [...]` Statement\n",
    "    * `from ... import [... as ...]` Statement\n",
    "* Useful Built-in Python Modules\n"
   ]
  },
  {
   "cell_type": "markdown",
   "metadata": {
    "slideshow": {
     "slide_type": "slide"
    }
   },
   "source": [
    "## What are Modules?\n",
    "* Allows you to logically organize your code\n",
    "* When your code gets a bit too lengthy, you can split it into multiple files\n",
    "    * These files are called modules\n",
    "    * They contain executable statements, functions, classes, and/or variables\n",
    "    * Grouping related code in a module (usually by functionality) makes for easier maintenance and reusability\n",
    "    * A module name is the same as its file name"
   ]
  },
  {
   "cell_type": "markdown",
   "metadata": {
    "slideshow": {
     "slide_type": "slide"
    }
   },
   "source": [
    "## `import` Statement\n",
    "* You can use any Python file as a module by using the `import` statement\n",
    "    ``` python\n",
    "    import module_name\n",
    "    ```"
   ]
  },
  {
   "cell_type": "markdown",
   "metadata": {
    "slideshow": {
     "slide_type": "slide"
    }
   },
   "source": [
    "## `import` Statement\n",
    "\n",
    "* When the interpreter executes the `import` statement, it searches for the module in the following sources:\n",
    "    * The current directory\n",
    "    * `PYTHONPATH` environment variable, if it is set\n",
    "    * An installation-dependent list of directories configured at the time Python is installed"
   ]
  },
  {
   "cell_type": "code",
   "execution_count": 1,
   "metadata": {
    "slideshow": {
     "slide_type": "slide"
    }
   },
   "outputs": [
    {
     "name": "stdout",
     "output_type": "stream",
     "text": [
      "PYTHONPATH variable not defined\n",
      "Using sys.path instead\n",
      "['', '/Users/hackspace/Dropbox/Python Class/Week 6', '/anaconda3/lib/python37.zip', '/anaconda3/lib/python3.7', '/anaconda3/lib/python3.7/lib-dynload', '/anaconda3/lib/python3.7/site-packages', '/anaconda3/lib/python3.7/site-packages/aeosa', '/anaconda3/lib/python3.7/site-packages/urllib3-dev-py3.7.egg', '/anaconda3/lib/python3.7/site-packages/IPython/extensions', '/Users/hackspace/.ipython']\n"
     ]
    }
   ],
   "source": [
    "# Try to check if PYTHONPATH is set\n",
    "import os\n",
    "import sys\n",
    "try:\n",
    "    print(os.environ['PYTHONPATH'])\n",
    "except KeyError:\n",
    "    print(\"PYTHONPATH variable not defined\")\n",
    "    print(\"Using sys.path instead\")\n",
    "    print(sys.path)"
   ]
  },
  {
   "cell_type": "markdown",
   "metadata": {
    "slideshow": {
     "slide_type": "slide"
    }
   },
   "source": [
    "## Sample module: `convert.py`\n",
    "\n",
    "``` python\n",
    "def c_to_f(celsius):\n",
    "    fahrenheit = (celsius * (9/5)) + 32\n",
    "    print(\"Its fahrenheit equivalent is \" + str(fahrenheit))\n",
    "    \n",
    "def f_to_c(fahrenheit):\n",
    "    celsius = (fahrenheit - 32) * (5/9)\n",
    "    print(\"Its celsius equivalent is \" + str(celsius))\n",
    "```"
   ]
  },
  {
   "cell_type": "markdown",
   "metadata": {
    "slideshow": {
     "slide_type": "slide"
    }
   },
   "source": [
    "## Using the `convert` module\n",
    "\n",
    "Make sure convert.py is on the same directory as this python script\n",
    "\n",
    "``` python\n",
    "#!/usr/bin/env python3\n",
    "import convert\n",
    "\n",
    "def main():\n",
    "    \"\"\" Main entry point of the app \"\"\"\n",
    "    my_celsius = float(input(\"Enter temperature in celsius: \"))\n",
    "    convert.c_to_f(my_celsius) \n",
    "    \n",
    "    my_fahrenheit = float(input(\"Enter temperature in fahrenheit: \"))\n",
    "    convert.f_to_c(my_fahrenheit)\n",
    "\n",
    "if __name__ == \"__main__\":\n",
    "    # This is executed when run from the command line \n",
    "    main()\n",
    "```"
   ]
  },
  {
   "cell_type": "markdown",
   "metadata": {
    "slideshow": {
     "slide_type": "slide"
    }
   },
   "source": [
    "## `import ... as ...` Statement\n",
    "*  `import ... as ...` statement lets you import a module using an alternate name\n",
    "    ``` python\n",
    "       import module_name as alternate_name\n",
    "    ```"
   ]
  },
  {
   "cell_type": "markdown",
   "metadata": {
    "slideshow": {
     "slide_type": "slide"
    }
   },
   "source": [
    "## Using `import ... as ...`\n",
    "\n",
    "``` python\n",
    "#!/usr/bin/env python3\n",
    "import convert as my_conversion\n",
    "\n",
    "def main():\n",
    "    \"\"\" Main entry point of the app \"\"\"\n",
    "    my_celsius = float(input(\"Enter temperature in celsius: \"))\n",
    "    my_conversion.c_to_f(my_celsius) \n",
    "    \n",
    "    my_fahrenheit = float(input(\"Enter temperature in fahrenheit: \"))\n",
    "    my_conversion.f_to_c(my_fahrenheit)\n",
    "\n",
    "if __name__ == \"__main__\":\n",
    "    # This is executed when run from the command line \n",
    "    main()\n",
    "```"
   ]
  },
  {
   "cell_type": "markdown",
   "metadata": {
    "slideshow": {
     "slide_type": "slide"
    }
   },
   "source": [
    "## `from ... import [...]` Statement\n",
    "* `from ... import [...]` statement lets you import specific attributes (like functions) from a module\n",
    "    ``` python\n",
    "    from module_name import [attribute_name, attribute_name2, ...]\n",
    "    ```\n",
    "    "
   ]
  },
  {
   "cell_type": "markdown",
   "metadata": {
    "slideshow": {
     "slide_type": "slide"
    }
   },
   "source": [
    "## Using `from ... import [...]` - Single attribute\n",
    "``` python\n",
    "#!/usr/bin/env python3\n",
    "from convert import f_to_c\n",
    "\n",
    "\n",
    "def main():\n",
    "    \"\"\" Main entry point of the app \"\"\"\n",
    "    my_fahrenheit = float(input(\"Enter temperature in fahrenheit: \"))\n",
    "    f_to_c(my_fahrenheit)\n",
    "    \n",
    "    #these lines shouldn't work anymore\n",
    "    #my_celsius = float(input(\"Enter temperature in celsius: \"))\n",
    "    #c_to_f(my_celsius) \n",
    "    \n",
    "\n",
    "if __name__ == \"__main__\":\n",
    "    # This is executed when run from the command line \n",
    "    main()\n",
    "```"
   ]
  },
  {
   "cell_type": "markdown",
   "metadata": {
    "slideshow": {
     "slide_type": "slide"
    }
   },
   "source": [
    "## Using `from ... import [...]` - Multiple Attributes\n",
    "``` python\n",
    "#!/usr/bin/env python3\n",
    "from convert import f_to_c, c_to_f\n",
    "\n",
    "def main():\n",
    "    \"\"\" Main entry point of the app \"\"\"\n",
    "    my_fahrenheit = float(input(\"Enter temperature in fahrenheit: \"))\n",
    "    convert.f_to_c(my_fahrenheit)\n",
    "    \n",
    "    #these lines shouldn't work anymore\n",
    "    #my_celsius = float(input(\"Enter temperature in celsius: \"))\n",
    "    #convert.c_to_f(my_celsius) \n",
    "    \n",
    "\n",
    "if __name__ == \"__main__\":\n",
    "    # This is executed when run from the command line \n",
    "    main()\n",
    "```"
   ]
  },
  {
   "cell_type": "markdown",
   "metadata": {
    "slideshow": {
     "slide_type": "slide"
    }
   },
   "source": [
    "## `from ... import [... as ...]` Statement\n",
    "* `from ... import [... as ...]` statement lets you import specific attributes (like functions) from a module using alternate names\n",
    "    ``` python\n",
    "    from module_name import attribute_name as alias[, attribute_name as alias, ...]\n",
    "    ```"
   ]
  },
  {
   "cell_type": "markdown",
   "metadata": {
    "slideshow": {
     "slide_type": "slide"
    }
   },
   "source": [
    "## Using `from ... import [... as ...]` - Single Attribute\n",
    "``` python\n",
    "#!/usr/bin/env python3\n",
    "from convert import f_to_c as fahr_cel\n",
    "\n",
    "def main():\n",
    "    \"\"\" Main entry point of the app \"\"\"\n",
    "    my_fahrenheit = float(input(\"Enter temperature in fahrenheit: \"))\n",
    "    convert.fahr_cel(my_fahrenheit)\n",
    "    \n",
    "    #these lines shouldn't work anymore\n",
    "    #my_celsius = float(input(\"Enter temperature in celsius: \"))\n",
    "    #convert.cel_fahr(my_celsius) \n",
    "    \n",
    "\n",
    "if __name__ == \"__main__\":\n",
    "    # This is executed when run from the command line \n",
    "    main()\n",
    "```"
   ]
  },
  {
   "cell_type": "markdown",
   "metadata": {
    "slideshow": {
     "slide_type": "slide"
    }
   },
   "source": [
    "## Using `from ... import [... as ...]` - Multiple Attributes\n",
    "``` python\n",
    "#!/usr/bin/env python3\n",
    "from convert import f_to_c as fahr_cel, c_to_f as cel_fahr show this line too\n",
    "\n",
    "def main():\n",
    "    \"\"\" Main entry point of the app \"\"\"\n",
    "    my_fahrenheit = float(input(\"Enter temperature in fahrenheit: \"))\n",
    "    convert.fahr_cel(my_fahrenheit)\n",
    "    \n",
    "    #these lines shouldn't work anymore\n",
    "    #my_celsius = float(input(\"Enter temperature in celsius: \"))\n",
    "    #convert.cel_fahr(my_celsius) \n",
    "    \n",
    "\n",
    "if __name__ == \"__main__\":\n",
    "    # This is executed when run from the command line \n",
    "    main()\n",
    "```"
   ]
  },
  {
   "cell_type": "markdown",
   "metadata": {
    "slideshow": {
     "slide_type": "slide"
    }
   },
   "source": [
    "## Useful Built-in Python Modules\n",
    "* Math\n",
    "* Statistics\n",
    "* Datetime\n",
    "* CSV\n",
    "* Random"
   ]
  },
  {
   "cell_type": "markdown",
   "metadata": {
    "slideshow": {
     "slide_type": "slide"
    }
   },
   "source": [
    "### Math Module\n",
    "* Contains some of the most popular mathematical functions\n",
    "    * trigonometric functions\n",
    "    * representation functions\n",
    "    * logarithmic functions\n",
    "    * angle conversion functions\n",
    "* Also contains two mathematical constants\n",
    "    * Pi\n",
    "    * Euler's Number "
   ]
  },
  {
   "cell_type": "code",
   "execution_count": 3,
   "metadata": {
    "slideshow": {
     "slide_type": "slide"
    }
   },
   "outputs": [
    {
     "name": "stdout",
     "output_type": "stream",
     "text": [
      "2.718281828459045\n",
      "The area of this circle is:  706.8583470577034\n",
      "The square root of this number is:  32.4037034920393\n",
      "0.9999999999999999\n"
     ]
    }
   ],
   "source": [
    "import math\n",
    "from math import e as eulers_number\n",
    "#print Euler's number\n",
    "print(math.e)\n",
    "\n",
    "#print area of a circle using Pi constant\n",
    "radius = 15\n",
    "print(\"The area of this circle is: \", math.pi*radius*radius)\n",
    "\n",
    "#printing the square root of a number\n",
    "num = math.sqrt(1050)\n",
    "print(\"The square root of this number is: \", num)\n",
    "\n",
    "print(math.tan(math.pi/4))"
   ]
  },
  {
   "cell_type": "markdown",
   "metadata": {
    "slideshow": {
     "slide_type": "slide"
    }
   },
   "source": [
    "### Statistics Module\n",
    "* Provides functions to mathematical statistics of numeric data"
   ]
  },
  {
   "cell_type": "code",
   "execution_count": 4,
   "metadata": {
    "slideshow": {
     "slide_type": "slide"
    }
   },
   "outputs": [
    {
     "name": "stdout",
     "output_type": "stream",
     "text": [
      "43\n",
      "red\n",
      "1.0810874155219827\n"
     ]
    }
   ],
   "source": [
    "import statistics\n",
    "\n",
    "#Here are some mathematical statistics functions:\n",
    "\n",
    "print(statistics.mean([16,73,5,100,21]))\n",
    "print(statistics.mode([\"red\", \"blue\", \"blue\", \"red\", \"green\", \"red\", \"red\"]))\n",
    "\n",
    "data = [1.5, 2.5, 2.5, 2.75, 3.25, 4.75]\n",
    "print(statistics.stdev(data))"
   ]
  },
  {
   "cell_type": "markdown",
   "metadata": {
    "slideshow": {
     "slide_type": "slide"
    }
   },
   "source": [
    "### Datetime Module\n",
    "* Provides functions to work with dates and times"
   ]
  },
  {
   "cell_type": "code",
   "execution_count": 5,
   "metadata": {
    "slideshow": {
     "slide_type": "slide"
    }
   },
   "outputs": [
    {
     "name": "stdout",
     "output_type": "stream",
     "text": [
      "2019-07-01 14:53:16.205012\n",
      "2019\n",
      "2019-07-01\n"
     ]
    }
   ],
   "source": [
    "import datetime\n",
    "\n",
    "#returns current year, month, day, hour, minute, second, and microsecond\n",
    "current_datetime = datetime.datetime.now()\n",
    "print(current_datetime)\n",
    "print(current_datetime.year) #change it to month, day, etc\n",
    "\n",
    "current_dateonly = datetime.date.today()\n",
    "print(current_dateonly)"
   ]
  },
  {
   "cell_type": "markdown",
   "metadata": {
    "slideshow": {
     "slide_type": "slide"
    }
   },
   "source": [
    "### Random Module\n",
    "* Implements pseudo-random number generators for various distributions"
   ]
  },
  {
   "cell_type": "code",
   "execution_count": 9,
   "metadata": {
    "slideshow": {
     "slide_type": "slide"
    }
   },
   "outputs": [
    {
     "name": "stdout",
     "output_type": "stream",
     "text": [
      "Random number from 0.0 to 1.0:  0.7348969042149941\n",
      "Random number from 1 to 100:  93\n",
      "Select random item from list -  carbon\n",
      "Shuffle the element list:  ['uranium', 'neon', 'krypton', 'barium', 'carbon', 'cobalt']\n"
     ]
    }
   ],
   "source": [
    "import random\n",
    "\n",
    "#most basic random function\n",
    "print(\"Random number from 0.0 to 1.0: \", random.random())\n",
    "\n",
    "#random number from a list\n",
    "print(\"Random number from 1 to 100: \", random.randint(1,100))\n",
    "\n",
    "#random item from a list\n",
    "element_list = ['carbon', 'krypton', 'uranium', 'neon', 'cobalt', 'barium']\n",
    "print(\"Select random item from list - \", random.choice(element_list))\n",
    "random.shuffle(element_list)\n",
    "print(\"Shuffle the element list: \", element_list)\n"
   ]
  },
  {
   "cell_type": "markdown",
   "metadata": {
    "slideshow": {
     "slide_type": "slide"
    }
   },
   "source": [
    "### CSV Module\n",
    "* Allows you to read and write tabular data in CSV format"
   ]
  },
  {
   "cell_type": "markdown",
   "metadata": {
    "slideshow": {
     "slide_type": "slide"
    }
   },
   "source": [
    "# FIN :)"
   ]
  }
 ],
 "metadata": {
  "celltoolbar": "Slideshow",
  "kernelspec": {
   "display_name": "Python 3",
   "language": "python",
   "name": "python3"
  },
  "language_info": {
   "codemirror_mode": {
    "name": "ipython",
    "version": 3
   },
   "file_extension": ".py",
   "mimetype": "text/x-python",
   "name": "python",
   "nbconvert_exporter": "python",
   "pygments_lexer": "ipython3",
   "version": "3.7.1"
  }
 },
 "nbformat": 4,
 "nbformat_minor": 2
}
