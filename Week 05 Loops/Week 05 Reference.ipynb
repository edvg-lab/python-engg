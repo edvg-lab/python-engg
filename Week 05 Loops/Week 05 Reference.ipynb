{
 "cells": [
  {
   "cell_type": "markdown",
   "metadata": {
    "slideshow": {
     "slide_type": "slide"
    }
   },
   "source": [
    "# Loops in Python\n",
    "\n",
    "\n",
    "### Mr. Kasey P. Martin, MIS\n"
   ]
  },
  {
   "cell_type": "markdown",
   "metadata": {
    "slideshow": {
     "slide_type": "slide"
    }
   },
   "source": [
    "## Outline\n",
    "\n",
    "* Looping\n",
    "    * Definite vs Indefinite loops\n",
    "    * While loop - Indefinite loop\n",
    "    * For loop - Definite loop\n",
    "    * Enumerate function\n",
    "    * Zip function"
   ]
  },
  {
   "cell_type": "markdown",
   "metadata": {
    "slideshow": {
     "slide_type": "slide"
    }
   },
   "source": [
    "## Looping"
   ]
  },
  {
   "cell_type": "markdown",
   "metadata": {
    "slideshow": {
     "slide_type": "slide"
    }
   },
   "source": [
    "## Loops\n",
    "* Allows us to execute a block of code multiple times\n",
    " * While Loop\n",
    " * For Loop"
   ]
  },
  {
   "cell_type": "markdown",
   "metadata": {
    "slideshow": {
     "slide_type": "slide"
    }
   },
   "source": [
    "### While Loop\n",
    "* Repeats a statement or group of statements <i>indefinitely</i> or as long as the condition is true\n",
    "* When the condition becomes false, program control is immediately passed to the line after the loop\n",
    "   \n",
    "``` python\n",
    "while condition: # condition should be true\n",
    "    # code to be executed when condition is true\n",
    "# code to be executed when condition is false \n",
    "```"
   ]
  },
  {
   "cell_type": "code",
   "execution_count": 9,
   "metadata": {
    "slideshow": {
     "slide_type": "slide"
    }
   },
   "outputs": [
    {
     "name": "stdout",
     "output_type": "stream",
     "text": [
      "A 3V torch with a 10 ohm bulb is switched on.\n",
      "How long (in seconds) must the torch be switched on so that in consumes 63 Joules of energy?\n",
      "Your input: ;lk\n",
      "Your input is not an integer.\n",
      "Your input: 0\n",
      "Your input is either too high/low for the torch to consume the required energy.\n",
      "Your input: b\n",
      "Your input is not an integer.\n",
      "Your input: 70\n",
      "Finally! Your input is correct.\n"
     ]
    }
   ],
   "source": [
    "## Example of indefinite loop\n",
    "\n",
    "print(\"A 3V torch with a 10 ohm bulb is switched on.\")\n",
    "print(\"How long (in seconds) must the torch be switched on so that in consumes 63 Joules of energy?\")\n",
    "\n",
    "power = 0.9\n",
    "energy = 63\n",
    "time = energy/power #time must be 70\n",
    "\n",
    "flag = True\n",
    "\n",
    "while flag:\n",
    "    try:\n",
    "        mynumber = float(input(\"Your input: \"))\n",
    "       \n",
    "        if mynumber != time:\n",
    "            print(\"Your input is either too high/low for the torch to consume the required energy.\")\n",
    "        else:\n",
    "            print(\"Finally! Your input is correct.\")\n",
    "            flag = False \n",
    "   \n",
    "    except ValueError:\n",
    "        print(\"Your input is not an integer.\")\n",
    "\n"
   ]
  },
  {
   "cell_type": "code",
   "execution_count": 8,
   "metadata": {
    "slideshow": {
     "slide_type": "slide"
    }
   },
   "outputs": [
    {
     "name": "stdout",
     "output_type": "stream",
     "text": [
      "1\n",
      "2\n",
      "3\n",
      "4\n",
      "5\n",
      "6\n",
      "7\n",
      "8\n",
      "9\n",
      "10\n"
     ]
    }
   ],
   "source": [
    "## Code that prints 1 to 10 using while loop\n",
    "num = 1\n",
    "\n",
    "while num <= 10:\n",
    "    print(num)\n",
    "    num = num +1"
   ]
  },
  {
   "cell_type": "markdown",
   "metadata": {
    "slideshow": {
     "slide_type": "slide"
    }
   },
   "source": [
    "### For Loop"
   ]
  },
  {
   "cell_type": "markdown",
   "metadata": {
    "slideshow": {
     "slide_type": "slide"
    }
   },
   "source": [
    "### For Loop\n",
    "* Repeats a statement or group of statements <i>n</i> times\n",
    "* Can also iterate over any sequence, such as a string or a list\n",
    "\n",
    "``` python\n",
    "for iterator in iteratable:\n",
    "    # code to execute for each iteration\n",
    "# code that executes after for loop\n",
    "```"
   ]
  },
  {
   "cell_type": "code",
   "execution_count": 46,
   "metadata": {
    "slideshow": {
     "slide_type": "slide"
    }
   },
   "outputs": [
    {
     "name": "stdout",
     "output_type": "stream",
     "text": [
      "<class 'range'>\n",
      "1\n",
      "2\n",
      "3\n",
      "4\n",
      "5\n",
      "6\n",
      "7\n",
      "8\n",
      "9\n",
      "10\n",
      "11\n",
      "12\n",
      "13\n",
      "14\n",
      "15\n",
      "16\n",
      "17\n",
      "18\n",
      "19\n"
     ]
    }
   ],
   "source": [
    "mylist = range(1,20)\n",
    "print(type(mylist))\n",
    "for x in mylist:\n",
    "    print(x)\n",
    "      "
   ]
  },
  {
   "cell_type": "code",
   "execution_count": 4,
   "metadata": {
    "slideshow": {
     "slide_type": "slide"
    }
   },
   "outputs": [
    {
     "name": "stdout",
     "output_type": "stream",
     "text": [
      "{'melting': 29.76, 'boiling': 2204}\n",
      "{'melting': -38.72, 'boiling': 357}\n",
      "{'melting': 1660, 'boiling': 3287}\n"
     ]
    }
   ],
   "source": [
    "#!/usr/bin/python3\n",
    "\n",
    "elements = {\n",
    "    'gallium':{\n",
    "        'melting':29.76,\n",
    "        'boiling':2204\n",
    "    },\n",
    "    'mercury':{\n",
    "        'melting':-38.72,\n",
    "        'boiling':357\n",
    "    },\n",
    "    'titanium':{\n",
    "        'melting':1660,\n",
    "        'boiling':3287\n",
    "    },\n",
    "}\n",
    "\n",
    "for item in elements:\n",
    "    print(elements[item])"
   ]
  },
  {
   "cell_type": "code",
   "execution_count": 1,
   "metadata": {
    "slideshow": {
     "slide_type": "slide"
    }
   },
   "outputs": [
    {
     "name": "stdout",
     "output_type": "stream",
     "text": [
      "perth - Station 1\n",
      "perth - Station 2\n",
      "perth - Station 3\n",
      "albany - Station 1\n",
      "albany - Station 2\n",
      "albany - Station 3\n",
      "bunbury - Station 1\n",
      "bunbury - Station 2\n",
      "bunbury - Station 3\n",
      "mandurah - Station 1\n",
      "mandurah - Station 2\n",
      "mandurah - Station 3\n",
      "york - Station 1\n",
      "york - Station 2\n",
      "york - Station 3\n"
     ]
    }
   ],
   "source": [
    "cities = ['perth', 'albany', 'bunbury', 'mandurah', 'york']\n",
    "weather_stations = ['Station 1', 'Station 2', 'Station 3']\n",
    "\n",
    "for c in cities:\n",
    "    for ws in weather_stations:\n",
    "        print(c + ' - ' + ws)"
   ]
  },
  {
   "cell_type": "code",
   "execution_count": null,
   "metadata": {
    "slideshow": {
     "slide_type": "slide"
    }
   },
   "outputs": [],
   "source": [
    "# What do you think this code does?\n",
    "\n",
    "elements = ['gallium', 'mercury', 'titanium']\n",
    "process = ['melting point']\n",
    "temp = [29.76, -38.72, 1660]\n",
    "\n",
    "for e in elements:\n",
    "    for p in process:\n",
    "        for t in temp:\n",
    "            if (elements.index(e) == temp.index(t)):\n",
    "                print(e + ' - ' + p + ' - ' + str(t))"
   ]
  },
  {
   "cell_type": "markdown",
   "metadata": {
    "slideshow": {
     "slide_type": "slide"
    }
   },
   "source": [
    "### Enumerate function\n",
    "* Adds a counter/index to an iterable and returns it in a form of an enumerate object\n",
    "    * this enumerate object can then be used directly in for loops or be converted into a list of tuples using list() method\n",
    "* It follows the form: `enumerate(iterable, start)` with parameters: \n",
    "    * `iterable`: any object that supports iteration (list, tuple, string, etc.) \n",
    "    * `start`: the index value from which the counter is to be started, by default it is 0 "
   ]
  },
  {
   "cell_type": "code",
   "execution_count": 3,
   "metadata": {
    "slideshow": {
     "slide_type": "slide"
    }
   },
   "outputs": [
    {
     "name": "stdout",
     "output_type": "stream",
     "text": [
      "(0, 'Baguio City')\n",
      "(1, 16.413)\n",
      "(2, 120.599)\n",
      "(3, 1469)\n",
      "1 Baguio City\n",
      "2 16.413\n",
      "3 120.599\n",
      "4 1469\n",
      "[(1, 'Baguio City'), (2, 16.413), (3, 120.599), (4, 1469)]\n"
     ]
    }
   ],
   "source": [
    "my_list = [\"Baguio City\", 16.413, 120.599, 1469] #city, latitude, longitude, altitude(meters)\n",
    "\n",
    "for item in enumerate (my_list):\n",
    "    print(item)\n",
    "    \n",
    "for index, item in enumerate (my_list, 1):\n",
    "    print(index, item)\n",
    "\n",
    "enum = enumerate (my_list, 1)\n",
    "print(list(enum))"
   ]
  },
  {
   "cell_type": "markdown",
   "metadata": {
    "slideshow": {
     "slide_type": "slide"
    }
   },
   "source": [
    "### Zip function\n",
    "* Used to iterate over two `iterables` in parallel\n",
    "* It follows the form `zip(*iterables)` with parameter:\n",
    "    * `*iterables`: Iterator objects that will be joined together\n",
    "    * If the passed iterators have different lengths, the iterator with the least items decides the length of the new iterator."
   ]
  },
  {
   "cell_type": "code",
   "execution_count": 24,
   "metadata": {
    "slideshow": {
     "slide_type": "-"
    }
   },
   "outputs": [
    {
     "name": "stdout",
     "output_type": "stream",
     "text": [
      "('Baguio City', 'Perth')\n",
      "(16.413, -31.952)\n",
      "(120.599, 115.86)\n",
      "(1469, 29)\n",
      "('Baguio City', 'Perth', 'Syndey')\n",
      "(16.413, -31.952, -33.872)\n",
      "(120.599, 115.86, 151.25)\n",
      "(1469, 29, 52)\n"
     ]
    }
   ],
   "source": [
    "list1 = [\"Baguio City\", 16.413, 120.599, 1469] #city, latitude, longitude, altitude(meters)\n",
    "list2 = [\"Perth\", -31.952, 115.860, 29]\n",
    "list3 = [\"Syndey\", -33.872, 151.250, 52]\n",
    "\n",
    "for result in zip(list1, list2):\n",
    "    print(result)\n",
    "    \n",
    "for result in zip(list1, list2, list3):\n",
    "    print(result)"
   ]
  },
  {
   "cell_type": "markdown",
   "metadata": {
    "slideshow": {
     "slide_type": "slide"
    }
   },
   "source": [
    "# FIN"
   ]
  }
 ],
 "metadata": {
  "celltoolbar": "Slideshow",
  "kernelspec": {
   "display_name": "Python 3",
   "language": "python",
   "name": "python3"
  },
  "language_info": {
   "codemirror_mode": {
    "name": "ipython",
    "version": 3
   },
   "file_extension": ".py",
   "mimetype": "text/x-python",
   "name": "python",
   "nbconvert_exporter": "python",
   "pygments_lexer": "ipython3",
   "version": "3.7.1"
  }
 },
 "nbformat": 4,
 "nbformat_minor": 2
}
