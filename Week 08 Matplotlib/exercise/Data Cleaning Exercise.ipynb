{
 "cells": [
  {
   "cell_type": "markdown",
   "metadata": {},
   "source": [
    "# Storing Tidy Data\n",
    "\n",
    "`students_cleaned.csv` is the tidy data that was generated from Week 11's exercise. Below is a sample of the dataset:"
   ]
  },
  {
   "cell_type": "code",
   "execution_count": null,
   "metadata": {},
   "outputs": [],
   "source": [
    "import numpy as np\n",
    "import pandas as pd\n",
    "import matplotlib.pyplot as plt\n",
    "\n",
    "students_df = pd.read_csv('students_cleaned.csv')\n",
    "students_df.sample(10)"
   ]
  },
  {
   "cell_type": "markdown",
   "metadata": {},
   "source": [
    "#### Here is a description of the following columns:\n",
    "\n",
    "- `student_id` - student's identification number\n",
    "- `name` - full name of the student\n",
    "- `quarter` - quarter of observation\n",
    "- `grade` - grade of student that quarter\n",
    "- `year_entered` - year student entered the college\n",
    "- `major` - student's major\n",
    "- `specialization` - student's specialization"
   ]
  },
  {
   "cell_type": "markdown",
   "metadata": {},
   "source": [
    "## Exercise 1: Split the `students_df` into two dataframes:\n",
    "\n",
    "1. `students_information_df`\n",
    "    Fields:\n",
    "    - `student_id`\n",
    "    - `name`\n",
    "    - `year_entered`\n",
    "    - `major`\n",
    "    - `specialization`\n",
    "\n",
    "2. `students_grades_df`\n",
    "    - `student_id`\n",
    "    - `quarter`\n",
    "    - `grade`"
   ]
  },
  {
   "cell_type": "code",
   "execution_count": null,
   "metadata": {},
   "outputs": [],
   "source": [
    "# Split student df here\n"
   ]
  },
  {
   "cell_type": "markdown",
   "metadata": {},
   "source": [
    "## Exercise 2: Evaluate the best performing quarter for the students\n",
    "\n",
    "In order to finish this exercise, we need to use a another process for subsetting data in `pandas` called boolean indexing. In boolean indexing, we filter out our rows based on `True` or `False` values. For example we have a matrix A:"
   ]
  },
  {
   "cell_type": "code",
   "execution_count": null,
   "metadata": {},
   "outputs": [],
   "source": [
    "x = np.arange(1,7)\n",
    "y = x*2\n",
    "table = {\n",
    "    'x': x,\n",
    "    'y': y,\n",
    "}\n",
    "A = pd.DataFrame(table)\n",
    "A"
   ]
  },
  {
   "cell_type": "markdown",
   "metadata": {},
   "source": [
    "We can get a `Series` of rows where the value of  the column of `x` is less than or equal to 3 by:"
   ]
  },
  {
   "cell_type": "code",
   "execution_count": null,
   "metadata": {},
   "outputs": [],
   "source": [
    "A['x'] <= 3"
   ]
  },
  {
   "cell_type": "markdown",
   "metadata": {},
   "source": [
    "The series will be composed of `True` and `False` values based on our boolean expression. We can use this expression to extract the values of `x` that has a corresponding `True` value by enclosing the boolean expression inside the `A` DataFrame by square brackets:"
   ]
  },
  {
   "cell_type": "code",
   "execution_count": null,
   "metadata": {},
   "outputs": [],
   "source": [
    "A[ A['x'] <= 3 ] "
   ]
  },
  {
   "cell_type": "markdown",
   "metadata": {},
   "source": [
    "In our `students_df` DataFrame, we can extract all the rows having the quarter `Q1` by doing:"
   ]
  },
  {
   "cell_type": "code",
   "execution_count": null,
   "metadata": {},
   "outputs": [],
   "source": [
    "q1_df = students_df[ students_df['quarter'] == 'Q1' ]\n",
    "q1_df"
   ]
  },
  {
   "cell_type": "markdown",
   "metadata": {},
   "source": [
    "### Using the examples above, create DataFrames divided by quarter and put them into the following variables respectively: `q2_df`, `q3_df`, `q4_df`"
   ]
  },
  {
   "cell_type": "code",
   "execution_count": null,
   "metadata": {},
   "outputs": [],
   "source": [
    "# code here\n"
   ]
  },
  {
   "cell_type": "markdown",
   "metadata": {},
   "source": [
    "### Create a 2x2 subplot. Each subplot should contain a histogram showing the frequency of scores the students have got per quarter"
   ]
  },
  {
   "cell_type": "code",
   "execution_count": null,
   "metadata": {},
   "outputs": [],
   "source": [
    "# code here\n"
   ]
  },
  {
   "cell_type": "markdown",
   "metadata": {},
   "source": [
    "### Based on the histograms above, what quarter did the majority of the students perform best? Explain your answer in a Python comment below:"
   ]
  },
  {
   "cell_type": "code",
   "execution_count": null,
   "metadata": {},
   "outputs": [],
   "source": [
    "# Answer here"
   ]
  },
  {
   "cell_type": "markdown",
   "metadata": {},
   "source": [
    "## Assertion tests\n",
    "Run the code below to check if there is anything missing in your implementation. The following code below checks for:\n",
    "- shape of `students_information_df` should be 100x5\n",
    "- shape of `students_grades_df` should be 400x3\n",
    "- existence of `student_id`, `name`, `year_entered`, `major` and `specialization` inside the `students_information_df` dataframe\n",
    "- existence of `student_id`, `quarter`, and `grade` inside the `students_grades_df` dataframe"
   ]
  },
  {
   "cell_type": "code",
   "execution_count": null,
   "metadata": {},
   "outputs": [],
   "source": [
    "assert 'student_id' in students_information_df.columns, \"student_id column does not exist in students_information_df\"\n",
    "assert 'name' in students_information_df.columns, \"name column does not exist in students_information_df\"\n",
    "assert 'year_entered' in students_information_df.columns, \"year_entered column does not exist in students_information_df\"\n",
    "assert 'major' in students_information_df.columns, \"major column does not exist in students_information_df\"\n",
    "assert 'specialization' in students_information_df.columns, \"specialization column does not exist in students_information_df\"\n",
    "\n",
    "assert 'student_id' in students_grades_df.columns, \"student_id column does not exist in students_grades_df\"\n",
    "assert 'quarter' in students_grades_df.columns, \"quarter column does not exist in students_grades_df\"\n",
    "assert 'grade' in students_grades_df.columns, \"grade column does not exist in students_grades_df\"\n",
    "\n",
    "assert students_information_df.shape == (100, 5), \"Dataframe's shape does not match expected shape\"\n",
    "assert students_grades_df.shape == (400, 3), \"Dataframe's shape does not match expected shape\"\n"
   ]
  }
 ],
 "metadata": {
  "kernelspec": {
   "display_name": "Python 3",
   "language": "python",
   "name": "python3"
  },
  "language_info": {
   "codemirror_mode": {
    "name": "ipython",
    "version": 3
   },
   "file_extension": ".py",
   "mimetype": "text/x-python",
   "name": "python",
   "nbconvert_exporter": "python",
   "pygments_lexer": "ipython3",
   "version": "3.7.1"
  }
 },
 "nbformat": 4,
 "nbformat_minor": 2
}
