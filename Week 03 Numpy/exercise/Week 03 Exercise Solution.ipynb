{
 "cells": [
  {
   "cell_type": "markdown",
   "metadata": {},
   "source": [
    "# Solving Systems of Equations\n",
    "\n",
    "In mathematics, a system of linear equations (or linear system) is a collection of two or more linear equations involving the same set of variables.\n",
    "* check this: https://en.wikipedia.org/wiki/System_of_linear_equations#Matrix_equation\n",
    "* https://courses.lumenlearning.com/ivytech-collegealgebra/chapter/solving-a-system-of-linear-equations-using-matrices/\n",
    "\n",
    "If you have the following system of equations:\n",
    "\n",
    "$5x + 3y + 9z =  -1$\n",
    "\n",
    "$-2x + 3y - z =  -2$\n",
    "\n",
    "$-x - 4y + 5z =  1$\n",
    "\n",
    "We can express the above equations in the matrix form $A \\cdot X =  B$:\n",
    "\n",
    "$$\n",
    "\\begin{bmatrix} \n",
    "5 & 3 & 9\\\\\n",
    "-2 & 3 & -1\\\\\n",
    "-1 & -4 & 5\\\\\n",
    "\\end{bmatrix}\n",
    "\\quad\n",
    "\\begin{bmatrix} \n",
    "x\\\\\n",
    "y\\\\\n",
    "z\\\\\n",
    "\\end{bmatrix}\n",
    "=\n",
    "\\quad\n",
    "\\begin{bmatrix} \n",
    "-1\\\\\n",
    "-2\\\\\n",
    "1\\\\\n",
    "\\end{bmatrix}\n",
    "$$\n",
    "\n",
    "If the matrix A is square (has nxn dimension), then the system has a unique solution given by:\n",
    "\n",
    "$A \\cdot X =  B$\n",
    "\n",
    "$ A \\cdot  A^{-1} \\cdot X = A^{-1}\\cdot B$\n",
    "\n",
    "$ \\therefore X = A^{-1} \\cdot B$\n",
    "\n",
    "\n",
    "Create a Python program that will solve a system of `n` linear equations. By using Numpy, solving systems of equations becomes even easier to do!\n",
    "\n",
    "## Input Specification\n",
    "1. Ask the user to input the desired number of linear equations (this also equates to the matrix dimension)\n",
    "\n",
    "```Input dimension: 3 ```\n",
    "\n",
    "2. Ask the user to input `nxn` numbers separated by comma. This will be the A matrix.\n",
    "\n",
    "```Enter matrix A: 5, 3, 9, -2, 3, -1, -1, -4, 5 ```\n",
    "\n",
    "3. Ask the user to input `n` numbers separated by comma. This will be the B matrix.\n",
    "\n",
    "```Enter matrix B: -1, -2, 1```\n",
    "\n",
    "## Output Specification\n",
    "1. Print out the solution to the system of equations:\n",
    "\n",
    "```The solution is:  0.326, -0.492, -0.128```\n",
    "\n",
    "## Process\n",
    "1. Parse inputs `2` and `3`\n",
    "\n",
    "2. Inverse matrix A \n",
    "\n",
    "3. Perform dot multiplication on $A^{-1}$ and $B$ to solve for the solution\n",
    "\n",
    "4. To practice your skills in Numpy, do not use the `np.linalg.solve` method. We will be using it however to verify if your solution is correct\n",
    "\n",
    "# !! Important !!\n",
    "1. Store the coefficient matrix in a Python variable `A` (case sensitive)\n",
    "2. Store the ordinates or “dependent variables” vector in a Python variable `B` (case sensitive)\n",
    "3. Store the solution vector in a Python variable `X` (case sensitive)\n",
    "\n",
    "## Hints:\n",
    "1. You can use a string's `split(delimeter)` function to split the input\n",
    "2. Numpy's `reshape()` function is great for converting a numpy array into a numpy matrix\n",
    "3. Use the last cell on the notebook to test out if your solution is correct."
   ]
  },
  {
   "cell_type": "code",
   "execution_count": 1,
   "metadata": {},
   "outputs": [],
   "source": [
    "import numpy as np"
   ]
  },
  {
   "cell_type": "markdown",
   "metadata": {},
   "source": [
    "## Procedural Solution"
   ]
  },
  {
   "cell_type": "code",
   "execution_count": 20,
   "metadata": {},
   "outputs": [
    {
     "name": "stdout",
     "output_type": "stream",
     "text": [
      "Input dimension:3\n",
      "Enter matrix A:5, 3, 9, -2, 3, -1, -1, -4, 5\n",
      "Enter matrix B:-1,-2,1\n",
      "[ 0.32620321 -0.49197861 -0.12834225]\n"
     ]
    }
   ],
   "source": [
    "# get inputs as string\n",
    "# straight away convert input to string\n",
    "dim = int(input('Input dimension:'))\n",
    "A_str = input('Enter matrix A:')\n",
    "B_str = input('Enter matrix B:')\n",
    "\n",
    "# A_str.split(',') outputs a list of strings, np.array accepts list\n",
    "A = np.array(A_str.split(','))\n",
    "# numpy function to convert type of numpy array from one type to another. In this case from an array of strings\n",
    "# to array of floats\n",
    "A = A.astype('float')\n",
    "# reshape A from 1 dimenstion to dim x dim matrix\n",
    "A = A.reshape(dim,dim)\n",
    "\n",
    "# B_str.split(',') outputs a list of strings, np.array accepts list\n",
    "B = np.array(B_str.split(','))\n",
    "# numpy function to convert type of numpy array from one type to another. In this case from an array of strings\n",
    "# to array of floats\n",
    "B = B.astype('float')\n",
    "\n",
    "X = np.linalg.inv(A)@B\n",
    "print(X)\n"
   ]
  },
  {
   "cell_type": "markdown",
   "metadata": {},
   "source": [
    "## OOP Solution"
   ]
  },
  {
   "cell_type": "code",
   "execution_count": 21,
   "metadata": {},
   "outputs": [],
   "source": [
    "class SystemOfEquations():\n",
    "    # we set default values to None so we can accept empty initializations as well as different input types \n",
    "    def __init__(self, dim = None, A = None, B = None):\n",
    "        # this assumes dim if passed is an integer\n",
    "        if dim is not None:\n",
    "            self.dim = dim\n",
    "        else:\n",
    "            self.dim = None\n",
    "        # if A was passed, check if it is a numpy array, string or list, then process accordingly\n",
    "        if A is not None:\n",
    "            if type(A) == np.ndarray:\n",
    "                self.A = A\n",
    "            elif type(A) == str:\n",
    "                self.A = np.array(A.split(','))\n",
    "                self.A = self.A.astype('float')\n",
    "                self.A = self.A.reshape(self.dim, self.dim)\n",
    "            elif type(A) == list:\n",
    "                self.A = np.array(A)\n",
    "                self.A = self.A.astype('float')\n",
    "                self.A = self.A.reshape(self.dim, self.dim)\n",
    "        else:\n",
    "            self.A = None\n",
    "        \n",
    "        # if B was passed, check if it is a numpy array, string or list, then process accordingly\n",
    "        if B is not None:\n",
    "            if type(B) == np.ndarray:\n",
    "                self.B = B\n",
    "            elif type(B) == str:\n",
    "                self.B = np.array(B.split(','))\n",
    "                self.B = self.B.astype('float')\n",
    "            elif type(B) == list:\n",
    "                self.B = np.array(B)\n",
    "                self.B = self.B.astype('float')\n",
    "        else:\n",
    "            self.B = None\n",
    "            \n",
    "        self.X = None\n",
    "    \n",
    "    # the implementation of the method is very similar to procedural code\n",
    "    def getMatrices(self):\n",
    "        dim = int(input('Input dimension:'))\n",
    "        A_str = input('Enter matrix A:')\n",
    "        B_str = input('Enter matrix B:')\n",
    "\n",
    "        # A_str.split(',') outputs a list of strings, np.array accepts list\n",
    "        self.A = np.array(A_str.split(','))\n",
    "        # numpy function to convert type of numpy array from one type to another. In this case from an array of strings\n",
    "        # to array of floats\n",
    "        self.A = self.A.astype('float')\n",
    "        # reshape A from 1 dimenstion to dim x dim matrix\n",
    "        self.A = self.A.reshape(dim,dim)\n",
    "\n",
    "        # B_str.split(',') outputs a list of strings, np.array accepts list\n",
    "        self.B = np.array(B_str.split(','))\n",
    "        # numpy function to convert type of numpy array from one type to another. In this case from an array of strings\n",
    "        # to array of floats\n",
    "        self.B = self.B.astype('float')\n",
    "        # return a tuple containing A and B\n",
    "        return self.A, self.B\n",
    "    \n",
    "    # solve for X    \n",
    "    def solve(self):\n",
    "        self.X = np.linalg.inv(self.A) @ self.B\n",
    "        \n",
    "        return self.X\n",
    "            "
   ]
  },
  {
   "cell_type": "markdown",
   "metadata": {},
   "source": [
    "## Sample OOP Solution based on Exercise Specs"
   ]
  },
  {
   "cell_type": "code",
   "execution_count": 22,
   "metadata": {},
   "outputs": [
    {
     "name": "stdout",
     "output_type": "stream",
     "text": [
      "Input dimension:3\n",
      "Enter matrix A:5, 3, 9, -2, 3, -1, -1, -4, 5\n",
      "Enter matrix B:-1,-2,1\n",
      "A:\n",
      "[[ 5.  3.  9.]\n",
      " [-2.  3. -1.]\n",
      " [-1. -4.  5.]]\n",
      "B:\n",
      "[-1. -2.  1.]\n",
      "X:\n",
      "[ 0.32620321 -0.49197861 -0.12834225]\n"
     ]
    }
   ],
   "source": [
    "system_eq = SystemOfEquations()\n",
    "# I'm catching the values of A and B tuple in one line\n",
    "A, B = system_eq.getMatrices()\n",
    "# catch X value\n",
    "X = system_eq.solve()\n",
    "# print values\n",
    "print('A:', A, sep='\\n')\n",
    "print('B:', B, sep='\\n')\n",
    "print('X:', X, sep='\\n')"
   ]
  },
  {
   "cell_type": "markdown",
   "metadata": {},
   "source": [
    "## Sample OOP accepting list input"
   ]
  },
  {
   "cell_type": "code",
   "execution_count": 23,
   "metadata": {},
   "outputs": [
    {
     "name": "stdout",
     "output_type": "stream",
     "text": [
      "A:\n",
      "[[ 5.  3.  9.]\n",
      " [-2.  3. -1.]\n",
      " [-1. -4.  5.]]\n",
      "B:\n",
      "[-1. -2.  1.]\n",
      "X:\n",
      "[ 0.32620321 -0.49197861 -0.12834225]\n"
     ]
    }
   ],
   "source": [
    "# list of numbers\n",
    "A_list = [5, 3, 9, -2, 3, -1, -1, -4, 5]\n",
    "B_list = [-1,-2,1]\n",
    "system_eq = SystemOfEquations(3,A_list, B_list)\n",
    "\n",
    "A = system_eq.A\n",
    "B = system_eq.B\n",
    "X = system_eq.solve()\n",
    "\n",
    "print('A:', A, sep='\\n')\n",
    "print('B:', B, sep='\\n')\n",
    "print('X:', X, sep='\\n')"
   ]
  },
  {
   "cell_type": "markdown",
   "metadata": {},
   "source": [
    "## Sample OOP accepting string input"
   ]
  },
  {
   "cell_type": "code",
   "execution_count": 24,
   "metadata": {},
   "outputs": [
    {
     "name": "stdout",
     "output_type": "stream",
     "text": [
      "A:\n",
      "[[ 5.  3.  9.]\n",
      " [-2.  3. -1.]\n",
      " [-1. -4.  5.]]\n",
      "B:\n",
      "[-1. -2.  1.]\n",
      "X:\n",
      "[ 0.32620321 -0.49197861 -0.12834225]\n"
     ]
    }
   ],
   "source": [
    "# string input sample\n",
    "A_str = \"5, 3, 9, -2, 3, -1, -1, -4, 5\"\n",
    "B_str = \"-1,-2,1\"\n",
    "system_eq = SystemOfEquations(3, A_str, B_str)\n",
    "\n",
    "A = system_eq.A\n",
    "B = system_eq.B\n",
    "X = system_eq.solve()\n",
    "\n",
    "print('A:', A, sep='\\n')\n",
    "print('B:', B, sep='\\n')\n",
    "print('X:', X, sep='\\n')"
   ]
  },
  {
   "cell_type": "markdown",
   "metadata": {},
   "source": [
    "## Sample OOP accepting numpy array"
   ]
  },
  {
   "cell_type": "code",
   "execution_count": 25,
   "metadata": {},
   "outputs": [
    {
     "name": "stdout",
     "output_type": "stream",
     "text": [
      "A:\n",
      "[[ 5  3  9]\n",
      " [-2  3 -1]\n",
      " [-1 -4  5]]\n",
      "B:\n",
      "[-1 -2  1]\n",
      "X:\n",
      "[ 0.32620321 -0.49197861 -0.12834225]\n"
     ]
    }
   ],
   "source": [
    "# direct numpy array sample\n",
    "\n",
    "A = np.array([[5, 3, 9],\n",
    "              [-2, 3, -1],\n",
    "              [-1, -4, 5]])\n",
    "B = np.array([-1,-2,1])\n",
    "system_eq = SystemOfEquations(3, A, B)\n",
    "X = system_eq.solve()\n",
    "\n",
    "print('A:', A, sep='\\n')\n",
    "print('B:', B, sep='\\n')\n",
    "print('X:', X, sep='\\n')"
   ]
  },
  {
   "cell_type": "code",
   "execution_count": 26,
   "metadata": {},
   "outputs": [],
   "source": [
    "# Run this to test if your solution is correct. If wrong, this will output an error\n",
    "assert np.allclose(X,np.linalg.solve(A,B)), \"Solution incorrect \\n\"+str(X)+\" \\n\\n not equal to \\n\\n \"+str(np.linalg.solve(A,B))"
   ]
  }
 ],
 "metadata": {
  "celltoolbar": "Slideshow",
  "kernelspec": {
   "display_name": "Python 3",
   "language": "python",
   "name": "python3"
  },
  "language_info": {
   "codemirror_mode": {
    "name": "ipython",
    "version": 3
   },
   "file_extension": ".py",
   "mimetype": "text/x-python",
   "name": "python",
   "nbconvert_exporter": "python",
   "pygments_lexer": "ipython3",
   "version": "3.7.2"
  }
 },
 "nbformat": 4,
 "nbformat_minor": 2
}
