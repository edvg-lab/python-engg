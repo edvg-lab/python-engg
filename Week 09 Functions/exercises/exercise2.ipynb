{
 "cells": [
  {
   "cell_type": "markdown",
   "metadata": {},
   "source": [
    "# Number System Converter\n",
    "\n",
    "Create a program that will ask if the user wants to convert DECIMAL TO BINARY or BINARY TO DECIMAL. \n",
    "\n",
    "``` bash\n",
    "Do you want to convert:\n",
    "1) DECIMAL TO BINARY\n",
    "2) BINARY TO DECIMAL\n",
    "Enter Choice (1 or 2):\n",
    "```\n",
    "\n",
    "## Case 1: DECIMAL TO BINARY\n",
    "\n",
    "Example input:\n",
    "\n",
    "```bash\n",
    "Enter decimal integer to convert to binary: 13\n",
    "```\n",
    "\n",
    "Expected output:\n",
    "\n",
    "```bash\n",
    "Decimal: 13\n",
    "Binary: 1101\n",
    "```\n",
    "## Case 2: BINARY to DECIMAL\n",
    "\n",
    "Example input:\n",
    "\n",
    "```bash\n",
    "Enter binary number to convert to decimal integer:  1101\n",
    "```\n",
    "\n",
    "Expected output:\n",
    "\n",
    "```bash\n",
    "Binary: 1101\n",
    "Decimal: 13\n",
    "```\n",
    "\n",
    "Create two functions: <i>dec_to_bin</i> and <i>bin_to_dec</i>\n",
    "\n",
    "Useful references:\n",
    "1. https://www.rapidtables.com/convert/number/decimal-to-binary.html\n",
    "2. https://www.rapidtables.com/convert/number/binary-to-decimal.html"
   ]
  },
  {
   "cell_type": "code",
   "execution_count": 1,
   "metadata": {},
   "outputs": [],
   "source": [
    "def dec_to_bin(decimal):\n",
    "    # number conversion here\n",
    "    \n",
    "    return binary\n",
    "\n",
    "def bin_to_dec(binary):\n",
    "    # number conversion here\n",
    "    \n",
    "    return decimal\n"
   ]
  },
  {
   "cell_type": "code",
   "execution_count": null,
   "metadata": {},
   "outputs": [],
   "source": []
  }
 ],
 "metadata": {
  "kernelspec": {
   "display_name": "Python 3",
   "language": "python",
   "name": "python3"
  },
  "language_info": {
   "codemirror_mode": {
    "name": "ipython",
    "version": 3
   },
   "file_extension": ".py",
   "mimetype": "text/x-python",
   "name": "python",
   "nbconvert_exporter": "python",
   "pygments_lexer": "ipython3",
   "version": "3.7.2"
  }
 },
 "nbformat": 4,
 "nbformat_minor": 2
}
