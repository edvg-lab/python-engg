{
 "cells": [
  {
   "cell_type": "markdown",
   "metadata": {
    "slideshow": {
     "slide_type": "slide"
    }
   },
   "source": [
    "# Object-Oriented Programming (OOP)  in Python Part 2\n",
    "\n",
    "\n",
    "#### Mr. Kasey P. Martin, MIS\n"
   ]
  },
  {
   "cell_type": "markdown",
   "metadata": {
    "slideshow": {
     "slide_type": "slide"
    }
   },
   "source": [
    "## Outline:\n",
    "* Inheritance\n",
    "    * Child class\n",
    "    * Parent class\n",
    "* Advantages of Object-Oriented Programming"
   ]
  },
  {
   "cell_type": "markdown",
   "metadata": {
    "slideshow": {
     "slide_type": "slide"
    }
   },
   "source": [
    "## Inheritance\n",
    "- money, land, or possessions received from someone after the person has died _(law, property)_\n",
    "- a physical or mental characteristic inherited from your parents, or the process by which this happens _(biology)_\n",
    "\n",
    "<div style=\"text-align: right\"> - Cambridge Dictionary </div>"
   ]
  },
  {
   "cell_type": "markdown",
   "metadata": {
    "slideshow": {
     "slide_type": "subslide"
    }
   },
   "source": [
    "## Inheritance\n",
    "* Process of creating a new class that takes on the attributes and methods of another class\n",
    "    * New class is called the `child class`\n",
    "    * The class where a child class is derived from is called the `parent class`"
   ]
  },
  {
   "cell_type": "markdown",
   "metadata": {
    "slideshow": {
     "slide_type": "subslide"
    }
   },
   "source": [
    "## Inheritance: Parent Class\n",
    "- Parent Class is just a standard Python class"
   ]
  },
  {
   "cell_type": "code",
   "execution_count": 33,
   "metadata": {
    "slideshow": {
     "slide_type": "-"
    }
   },
   "outputs": [
    {
     "name": "stdout",
     "output_type": "stream",
     "text": [
      "name: Kasey Martin\n",
      "address: Baguio City\n",
      "email: kaseymartin@eit.edu.au\n"
     ]
    }
   ],
   "source": [
    "# class Person\n",
    "class Person:\n",
    "    # name, address, email\n",
    "    def __init__(self, name, address):\n",
    "        self.name = name\n",
    "        self.address = address\n",
    "        self.email = name.replace(\" \",\"\").lower() + '@eit.edu.au'\n",
    "     \n",
    "    def getInfo(self):\n",
    "        print(\n",
    "            \"name: \"+self.name+\n",
    "            \"\\naddress: \"+self.address+\n",
    "            \"\\nemail: \"+self.email\n",
    "        )\n",
    "myperson = Person(\"Kasey Martin\", \"Baguio City\")\n",
    "myperson.getInfo()"
   ]
  },
  {
   "cell_type": "markdown",
   "metadata": {
    "slideshow": {
     "slide_type": "subslide"
    }
   },
   "source": [
    "## Inheritance: Child Class \n",
    "- For a child class, we simply add the name of the parent class in the class declaration using the following format:\n",
    "    ``` python\n",
    "    class ChildClassName(ParentClassName):\n",
    "        \n",
    "    ```"
   ]
  },
  {
   "cell_type": "code",
   "execution_count": 34,
   "metadata": {
    "slideshow": {
     "slide_type": "-"
    }
   },
   "outputs": [
    {
     "name": "stdout",
     "output_type": "stream",
     "text": [
      "name: John Doe\n",
      "address: Australia\n",
      "email: johndoe@eit.edu.au\n"
     ]
    }
   ],
   "source": [
    "# blank student class\n",
    "class Student(Person):\n",
    "    pass\n",
    "student = Student(\"John Doe\", \"Australia\")\n",
    "student.getInfo()"
   ]
  },
  {
   "cell_type": "markdown",
   "metadata": {
    "slideshow": {
     "slide_type": "subslide"
    }
   },
   "source": [
    "## Inheritance: Child Class\n",
    "- We can use child classes to extend the functionality of the parent class, without modifying the base class \n",
    "- We can extend the functionality of a child class by:\n",
    "    - adding more attributes\n",
    "    - adding more attribute methods\n",
    "    - extending/overwriting attribute methods"
   ]
  },
  {
   "cell_type": "markdown",
   "metadata": {
    "slideshow": {
     "slide_type": "subslide"
    }
   },
   "source": [
    "## Inheritance: Child Class\n",
    "- We can add more attributes by extending the `__init__` function\n",
    "- To make sure we don't overwrite the `__init__` of the base class, call `super().__init__` inside new `__init__` function"
   ]
  },
  {
   "cell_type": "code",
   "execution_count": 41,
   "metadata": {
    "slideshow": {
     "slide_type": "subslide"
    }
   },
   "outputs": [
    {
     "name": "stdout",
     "output_type": "stream",
     "text": [
      "name: John Doe\n",
      "address: Australia\n",
      "email: johndoe@eit.edu.au\n"
     ]
    }
   ],
   "source": [
    "# blank student class\n",
    "class Student(Person):\n",
    "    def __init__(self, name, address):\n",
    "        super().__init__(name,address)\n",
    "        \n",
    "        self.scores = None\n",
    "        self.grade = None\n",
    "student = Student(\"John Doe\", \"Australia\")\n",
    "student.getInfo()"
   ]
  },
  {
   "cell_type": "markdown",
   "metadata": {
    "slideshow": {
     "slide_type": "subslide"
    }
   },
   "source": [
    "## Inheritance: Child Class\n",
    "- To add a new instance method, just add the method as you would in a normal class"
   ]
  },
  {
   "cell_type": "code",
   "execution_count": 48,
   "metadata": {
    "slideshow": {
     "slide_type": "subslide"
    }
   },
   "outputs": [
    {
     "name": "stdout",
     "output_type": "stream",
     "text": [
      "No grades released yet.\n"
     ]
    }
   ],
   "source": [
    "# blank student class\n",
    "class Student(Person):\n",
    "    def __init__(self, name, address):\n",
    "        super().__init__(name,address)\n",
    "        \n",
    "        self.scores = None\n",
    "        self.grade = None\n",
    "    \n",
    "    def getRemark(self):\n",
    "        if self.grade is None:\n",
    "            self.remark = 'No grades released yet.'\n",
    "        elif self.grade < 60:\n",
    "            self.remark = 'Failing'\n",
    "        elif self.grade >=60 and self.grade < 70:\n",
    "            self.remark = \"Conditional\"\n",
    "        elif self.grade >= 70:\n",
    "            self.remark = 'Passing'\n",
    "        return self.remark\n",
    "student = Student(\"John Doe\", \"Australia\")\n",
    "print(student.getRemark())"
   ]
  },
  {
   "cell_type": "markdown",
   "metadata": {
    "slideshow": {
     "slide_type": "subslide"
    }
   },
   "source": [
    "## Inheritance: Child Class\n",
    "- We can also overwrite instance methods, just redeclare the instance method again in your child class\n",
    "- if you want to extend the instance method, use `super()` to execute the base class' instance method first then add in your code"
   ]
  },
  {
   "cell_type": "markdown",
   "metadata": {
    "slideshow": {
     "slide_type": "subslide"
    }
   },
   "source": [
    "## Inheritance: Instance Method Overwriting"
   ]
  },
  {
   "cell_type": "code",
   "execution_count": 61,
   "metadata": {
    "slideshow": {
     "slide_type": "-"
    }
   },
   "outputs": [
    {
     "name": "stdout",
     "output_type": "stream",
     "text": [
      "scores: NA\n",
      "grade: NA\n"
     ]
    }
   ],
   "source": [
    "# blank student class\n",
    "class Student(Person):\n",
    "    def __init__(self, name, address):\n",
    "        super().__init__(name,address)\n",
    "        \n",
    "        self.scores = None\n",
    "        self.grade = None\n",
    "    \n",
    "    def getRemark(self):\n",
    "        if self.grade is None:\n",
    "            self.remark = 'No grades released yet.'\n",
    "        elif self.grade < 60:\n",
    "            self.remark = 'Failing'\n",
    "        elif self.grade >=60 and self.grade < 70:\n",
    "            self.remark = \"Conditional\"\n",
    "        elif self.grade >= 70:\n",
    "            self.remark = 'Passing'\n",
    "        return self.remark\n",
    "    \n",
    "    def getInfo(self):\n",
    "        if self.scores:\n",
    "            print('scores:',self.scores)\n",
    "        else:\n",
    "            print('scores: NA')\n",
    "        if self.grade:\n",
    "            print('grade:',self.grade)\n",
    "        else:\n",
    "            print('grade: NA')\n",
    "student = Student(\"John Doe\", \"Australia\")\n",
    "student.getInfo()\n"
   ]
  },
  {
   "cell_type": "markdown",
   "metadata": {
    "slideshow": {
     "slide_type": "subslide"
    }
   },
   "source": [
    "## Inheritance: Instance Method Extending"
   ]
  },
  {
   "cell_type": "code",
   "execution_count": 68,
   "metadata": {
    "slideshow": {
     "slide_type": "-"
    }
   },
   "outputs": [
    {
     "name": "stdout",
     "output_type": "stream",
     "text": [
      "name: John Doe\n",
      "address: Australia\n",
      "email: johndoe@eit.edu.au\n",
      "scores: NA\n",
      "grade: NA\n"
     ]
    }
   ],
   "source": [
    "# blank student class\n",
    "class Student(Person):\n",
    "    def __init__(self, name, address):\n",
    "        super().__init__(name,address)\n",
    "        \n",
    "        self.scores = None\n",
    "        self.grade = None\n",
    "    \n",
    "    def getRemark(self):\n",
    "        if self.grade is None:\n",
    "            self.remark = 'No grades released yet.'\n",
    "        elif self.grade < 60:\n",
    "            self.remark = 'Failing'\n",
    "        elif self.grade >=60 and self.grade < 70:\n",
    "            self.remark = \"Conditional\"\n",
    "        elif self.grade >= 70:\n",
    "            self.remark = 'Passing'\n",
    "        return self.remark\n",
    "    \n",
    "    def getInfo(self):\n",
    "        super().getInfo()\n",
    "        if self.scores:\n",
    "            print('scores:',self.scores)\n",
    "        else:\n",
    "            print('scores: NA')\n",
    "        if self.grade:\n",
    "            print('grade:',self.grade)\n",
    "        else:\n",
    "            print('grade: NA')\n",
    "student = Student(\"John Doe\", \"Australia\")\n",
    "student.getInfo()\n",
    "\n"
   ]
  },
  {
   "cell_type": "markdown",
   "metadata": {
    "slideshow": {
     "slide_type": "subslide"
    }
   },
   "source": [
    "## Inheritance: Child Class\n",
    "- We can create multiple classes from a base class, here is an example of an instructor that has a number of students enrolled to that object"
   ]
  },
  {
   "cell_type": "code",
   "execution_count": 90,
   "metadata": {
    "slideshow": {
     "slide_type": "-"
    }
   },
   "outputs": [
    {
     "name": "stdout",
     "output_type": "stream",
     "text": [
      "name: student two\n",
      "address: Australia\n",
      "email: studenttwo@eit.edu.au\n",
      "scores: [90.0, 85.5, 97.5, 100]\n",
      "grade: 93.25\n"
     ]
    }
   ],
   "source": [
    "import statistics\n",
    "class Instructor(Person):\n",
    "    def __init__(self, name, address, students = None):\n",
    "        super().__init__(name, address)\n",
    "        if students is not None:\n",
    "            # dictionary of Student objects\n",
    "            self.students = students\n",
    "    \n",
    "    def gradeStudent(self, name, scores):\n",
    "        self.students[name].scores = scores\n",
    "        self.students[name].grade = statistics.mean(scores)\n",
    "        \n",
    "students = {\n",
    "    'student one': Student('student one', 'Australia'),\n",
    "    'student two': Student('student two', 'Australia'),\n",
    "    'student three': Student('student three', 'Australia')\n",
    "}\n",
    "instructor = Instructor(\"Kasey Martin\", \"Baguio City\", students)\n",
    "# grade student one\n",
    "instructor.gradeStudent('student two',[90.0,85.5,97.5,100])\n",
    "students['student two'].getInfo()"
   ]
  },
  {
   "cell_type": "code",
   "execution_count": 89,
   "metadata": {
    "slideshow": {
     "slide_type": "subslide"
    }
   },
   "outputs": [
    {
     "name": "stdout",
     "output_type": "stream",
     "text": [
      "name: Kasey Martin\n",
      "address: Baguio City\n",
      "email: kaseymartin@eit.edu.au\n",
      "5\n"
     ]
    }
   ],
   "source": [
    "# Let's use our Student and Instructor class practically! From a student_list.csv, create a dictionary of students\n",
    "# then add them to an instructor object\n",
    "import csv\n",
    "\n",
    "reader = open(\"student_list.csv\",'r')\n",
    "csvfile = csv.DictReader(reader)\n",
    "\n",
    "student_list = {}\n",
    "\n",
    "for row in csvfile:\n",
    "    student = Student(row['name'], row['address'])\n",
    "    student_list[row['name']] = student\n",
    "reader.close()\n",
    "\n",
    "kasey = Instructor(\"Kasey Martin\", \"Baguio City\",student_list)\n",
    "kasey.getInfo()\n",
    "\n",
    "print(len(kasey.students))"
   ]
  },
  {
   "cell_type": "code",
   "execution_count": 106,
   "metadata": {
    "slideshow": {
     "slide_type": "subslide"
    }
   },
   "outputs": [],
   "source": [
    "# now lets load up a grades.csv containing the quarterly grades of a student, then let an instructor grade the\n",
    "# students using those quarterly grades\n",
    "reader = open('grades.csv','r')\n",
    "csvfile = csv.DictReader(reader)\n",
    "writer = open('student_grade.csv','w')\n",
    "wcsvfile = csv.DictWriter(writer,fieldnames = ['name','address','grade','remark'])\n",
    "wcsvfile.writeheader()\n",
    "for row in csvfile:\n",
    "    scores = [float(row['q1']), float(row['q2']), float(row['q3']), float(row['q4'])]\n",
    "    kasey.gradeStudent(row['name'],scores)\n",
    "    # kasey.students[row['name']].getInfo()\n",
    "    \n",
    "    written_row = {\n",
    "        'name' : row['name'],\n",
    "        'address': kasey.students[row['name']].address,\n",
    "        'grade': kasey.students[row['name']].grade,\n",
    "        'remark': kasey.students[row['name']].getRemark()\n",
    "    }\n",
    "    wcsvfile.writerow(written_row)\n",
    "    \n",
    "reader.close() \n",
    "writer.close()"
   ]
  },
  {
   "cell_type": "markdown",
   "metadata": {
    "slideshow": {
     "slide_type": "slide"
    }
   },
   "source": [
    "## Advantages of Object-Oriented Programming\n",
    "* OOP increases code reusability\n",
    "    * For example, inheritance allows us to make a generic class and create subclasses based from its attributes and methods\n",
    "    * This would also mean faster development for future projects\n",
    "* The modular approach in OOP results in highly maintainable code\n",
    "    * Troubleshooting becomes easier because we can narrow down where to look\n",
    "    * Modularity allows us to edit code locally without affecting other parts of the program\n",
    "* More code flexibility and security using OOP's other concepts like polymorphism, and data encapsulation (you can read more about these)"
   ]
  },
  {
   "cell_type": "markdown",
   "metadata": {
    "slideshow": {
     "slide_type": "slide"
    }
   },
   "source": [
    "# FIN :)"
   ]
  }
 ],
 "metadata": {
  "celltoolbar": "Slideshow",
  "kernelspec": {
   "display_name": "Python 3",
   "language": "python",
   "name": "python3"
  },
  "language_info": {
   "codemirror_mode": {
    "name": "ipython",
    "version": 3
   },
   "file_extension": ".py",
   "mimetype": "text/x-python",
   "name": "python",
   "nbconvert_exporter": "python",
   "pygments_lexer": "ipython3",
   "version": "3.7.2"
  },
  "rise": {
   "scroll": true
  }
 },
 "nbformat": 4,
 "nbformat_minor": 2
}
